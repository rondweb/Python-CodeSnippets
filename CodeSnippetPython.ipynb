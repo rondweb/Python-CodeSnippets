{
  "nbformat": 4,
  "nbformat_minor": 0,
  "metadata": {
    "colab": {
      "name": "CodeSnippetPython.ipynb",
      "provenance": []
    },
    "kernelspec": {
      "name": "python3",
      "display_name": "Python 3"
    },
    "language_info": {
      "name": "python"
    }
  },
  "cells": [
    {
      "cell_type": "markdown",
      "source": [
        "Code Snippets for python"
      ],
      "metadata": {
        "id": "h6es0nZ_kamm"
      }
    },
    {
      "cell_type": "markdown",
      "source": [
        "Photo Editing"
      ],
      "metadata": {
        "id": "N-eLEPxQi7_j"
      }
    },
    {
      "cell_type": "code",
      "execution_count": null,
      "metadata": {
        "id": "Eo-Ryku7ixPs"
      },
      "outputs": [],
      "source": [
        "# Photo Editing \n",
        "# pip install pillow\n",
        "from PIL import Image, ImageFilter\n",
        "# Resize an image\n",
        "img = Image.open('img.jpg')\n",
        "resize = img.resize((200, 300))\n",
        "resize.save('output.jpg')\n",
        "# Blur Image\n",
        "img = Image.open('img.jpg')\n",
        "blur = img.filter(ImageFilter.BLUR)\n",
        "blur.save('output.jpg')\n",
        "# Sharp Image\n",
        "img = Image.open('img.jpg')\n",
        "sharp = img.filter(ImageFilter.SHARPEN)\n",
        "sharp.save('output.jpg')\n",
        "# Crop Image\n",
        "img = Image.open('img.jpg')\n",
        "crop = img.crop((0, 0, 50, 50))\n",
        "crop.save('output.jpg')\n",
        "# Rotate Image\n",
        "img = Image.open('img.jpg')\n",
        "rotate = img.rotate(90)\n",
        "rotate.save('output.jpg')\n",
        "# Flip Image\n",
        "img = Image.open('img.jpg')\n",
        "flip = img.transpose(Image.FLIP_LEFT_RIGHT)\n",
        "flip.save('output.jpg')\n",
        "# Transpose Image\n",
        "img = Image.open('img.jpg')\n",
        "transpose = img.transpose(Image.TRANSPOSE)\n",
        "transpose.save('output.jpg')\n",
        "# Convert Image to GreyScale\n",
        "img = Image.open('img.jpg')\n",
        "convert = img.convert('L')\n",
        "convert.save('output.jpg')"
      ]
    },
    {
      "cell_type": "markdown",
      "source": [
        "PDF Watermarker"
      ],
      "metadata": {
        "id": "9Jc3VldijHd7"
      }
    },
    {
      "cell_type": "code",
      "source": [
        "# Watermark PDF files\n",
        "# pip install PyPDF4\n",
        "import PyPDF4\n",
        "def Watermark():\n",
        "    pdf_file= \"test.pdf\"\n",
        "    output_pdf= \"output.pdf\"\n",
        "    watermark= \"watermark.pdf\"\n",
        "watermark_read = PyPDF4.PdfFileReader(watermark)\n",
        "    watermark_page = watermark_read.getPage(0)\n",
        "    pdf_reader = PyPDF4.PdfFileReader(pdf_file)\n",
        "    pdf_writer = PyPDF4.PdfFileWriter()\n",
        "    for page in range(pdf_reader.getNumPages()):\n",
        "page = pdf_reader.getPage(page)\n",
        "        page.mergePage(watermark_page)\n",
        "        pdf_writer.addPage(page)\n",
        "    \n",
        "    # writing output pdf file\n",
        "    with open(output_pdf, 'wb') as pdf:\n",
        "        pdf_writer.write(pdf)\n",
        "Watermark()"
      ],
      "metadata": {
        "id": "N95THHnzi7to"
      },
      "execution_count": null,
      "outputs": []
    },
    {
      "cell_type": "markdown",
      "source": [
        "Video Editing"
      ],
      "metadata": {
        "id": "KooA4L6sjWYB"
      }
    },
    {
      "cell_type": "code",
      "source": [
        "# Video Editing\n",
        "# pip install moviepy\n",
        "from moviepy.editor import *\n",
        "# Triming the video\n",
        "clip_1 = VideoFileClip(\"sample_video.mp4\").subclip(40, 50)\n",
        "clip_2 = VideoFileClip(\"sample_video.mp4\").subclip(68, 91)\n",
        "final_clip = concatenate_videoclips([clip_1, clip_2])\n",
        "final_clip.write_videofile(\"output.mp4\")\n",
        "# Adding VFX\n",
        "clip_1 = (VideoFileClip(\"sample_video.mp4\").subclip(40, 50).fx(vfx.colorx, 1.2).fx(vfx.lum_contrast, 0, 30, 100))\n",
        "clip_2 = (VideoFileClip(\"sample_video.mp4\").subclip(68, 91).fx(vfx.invert_colors))\n",
        "final_clip = concatenate_videoclips([clip_1, clip_2])\n",
        "final_clip.write_videofile(\"output.mp4\")\n",
        "# Add Audio to Video\n",
        "clip = VideoFileClip(\"sample_video.mp4\")\n",
        "# Add audio to only first 5 sec\n",
        "clip = clip.subclip(0, 5)\n",
        "audioclip = AudioFileClip(\"audio.mp3\").subclip(0, 5)\n",
        "videoclip = clip.set_audio(audioclip)\n",
        "final_clip.write_videofile(\"output.mp4\")"
      ],
      "metadata": {
        "id": "kpNCVAOOi800"
      },
      "execution_count": null,
      "outputs": []
    },
    {
      "cell_type": "markdown",
      "source": [
        " Speech to Text AI"
      ],
      "metadata": {
        "id": "t07En6x_jdqA"
      }
    },
    {
      "cell_type": "code",
      "source": [
        "# Convert Speech to Text\n",
        "#pip install SpeechRecognition\n",
        "import speech_recognition as sr\n",
        "def SpeechToText():\n",
        "Ai = sr.Recognizer()\n",
        "    with sr.Microphone() as source:\n",
        "        listening = Ai.listen(source, phrase_time_limit = 6)  \n",
        "    try:\n",
        "        command = Ai.recognize_google(listening).lower()\n",
        "        print(\"You said: \" + command)\n",
        "        \n",
        "    except sr.UnknownValueError:\n",
        "        print(\"Sorry Can't understand, Try again\")\n",
        "        SpeechToText()"
      ],
      "metadata": {
        "id": "rdiCdox_jZGT"
      },
      "execution_count": null,
      "outputs": []
    },
    {
      "cell_type": "markdown",
      "source": [
        "Request API"
      ],
      "metadata": {
        "id": "ncJT1Xrvjmjo"
      }
    },
    {
      "cell_type": "code",
      "source": [
        "# Request Api \n",
        "# pip install requests\n",
        "import requests\n",
        "# Get Data\n",
        "headers = {\n",
        "    \"Connection\": \"keep-alive\",\n",
        "    \"User-Agent\": \"Mozilla/5.0 (Windows NT 10.0; Win64; x64) AppleWebKit/537.36 (KHTML, like Gecko) Chrome/72.0.3626.121 Safari/537.36\"\n",
        "}\n",
        "r = requests.get('https://api.example.com', headers=headers)\n",
        "print(r.status_code) # 200\n",
        "print(r.headers['content-type'])\n",
        "print(r.content) # HTML Data\n",
        "# Login Site\n",
        "payload = {'username': 'USERNAME', 'userpass': 'PASSWORD'}\n",
        "r = requests.post('https://example.com/login', data=payload)\n",
        "print(r.status_code) # 200"
      ],
      "metadata": {
        "id": "H91a4JhUjhup"
      },
      "execution_count": null,
      "outputs": []
    },
    {
      "cell_type": "markdown",
      "source": [
        "Python GUI"
      ],
      "metadata": {
        "id": "tgpwgb6bjtV2"
      }
    },
    {
      "cell_type": "code",
      "source": [
        "# Python GUI\n",
        "# pip install PyQt6\n",
        "import sys\n",
        "from PyQt6.QtWidgets import QApplication, QWidget, QPushButton, QMessageBox, QLabel, QLineEdit\n",
        "def Application():\n",
        "app = QApplication(sys.argv)\n",
        "    win = QWidget()\n",
        "    win.resize(300, 300)\n",
        "    win.move(200, 200)\n",
        "    win.setWindowTitle('Medium Article')\n",
        "    # Create Buttons\n",
        "    btn = QPushButton('Quit', win)\n",
        "    \n",
        "    # Message Box\n",
        "    QMessageBox.question(win, 'Message',\"Are you sure to quit?\")\n",
        "    # Label Text\n",
        "    lbl = QLabel('Hello World', win)\n",
        "    # Button Clicked\n",
        "    btn.clicked.connect(lambda: QMessageBox.question(win, 'Message',\"Are you sure to quit?\"))\n",
        "    # Entry Box\n",
        "    entry = QLineEdit(win)\n",
        "    win.show()\n",
        "    sys.exit(app.exec())\n",
        "if __name__ == '__main__':\n",
        "    Application()"
      ],
      "metadata": {
        "id": "0GCzhS8qjo1Z"
      },
      "execution_count": null,
      "outputs": []
    },
    {
      "cell_type": "markdown",
      "source": [
        " Spell Checker"
      ],
      "metadata": {
        "id": "DWH49i9Sj6A6"
      }
    },
    {
      "cell_type": "code",
      "source": [
        "# Spell Checker in Python \n",
        "# pip install pyspellchecker\n",
        "from spellchecker import SpellChecker as spell\n",
        "Words = spell.unknown(['Python'  , 'is' , 'a' , 'good' , 'lantyguage'])\n",
        "for w in Words:\n",
        "    print(spell.correction(w)) #language\n",
        "    print(spell.candidates(w)) #{ language }"
      ],
      "metadata": {
        "id": "A-LizRnMjv6N"
      },
      "execution_count": null,
      "outputs": []
    },
    {
      "cell_type": "markdown",
      "source": [
        "Grammar Checker"
      ],
      "metadata": {
        "id": "rEf7Zo34j_Ld"
      }
    },
    {
      "cell_type": "code",
      "source": [
        "# Grammer Checker in Python\n",
        "# pip install gingerit\n",
        "from gingerit.gingerit import GingerIt\n",
        "text = \"Welcm Progammer to Python\"\n",
        "Grammer = GingerIt()\n",
        "Correction = Grammer.parse(text)\n",
        "print(Correction[\"result\"]) # Welcome, Programmer to Python\n",
        "print(Correction['corrections'])"
      ],
      "metadata": {
        "id": "_xdSAJpkj8O-"
      },
      "execution_count": null,
      "outputs": []
    },
    {
      "cell_type": "markdown",
      "source": [
        "Automate Win, Mac, and Linux"
      ],
      "metadata": {
        "id": "8hq2-Sv3kHOf"
      }
    },
    {
      "cell_type": "code",
      "source": [
        "# Automate Win, Mac and Linux\n",
        "# pip install PyAutoGUI\n",
        "import pyautogui as py\n",
        "# Mouse Movements\n",
        "py.moveTo(100, 100)\n",
        "py.moveTo(200, 200, duration=1)\n",
        "py.click(100, 100)\n",
        "py.doubleClick(200, 200)\n",
        "# Keyboard Inputs\n",
        "py.write('Hello World!', interval=0.25)\n",
        "py.press('enter')\n",
        "py.hotkey('ctrl', 'c')\n",
        "py.keyDown('shift')\n",
        "py.keyUp('shift')\n",
        "# Screen Automation\n",
        "img = py.screenshot('screenshot.jpg')\n",
        "img.save('screenshot.jpg')\n",
        "loc = py.locationsOnScreen('icon.jpg')\n",
        "print(loc)"
      ],
      "metadata": {
        "id": "MhtMKPOakCLy"
      },
      "execution_count": null,
      "outputs": []
    },
    {
      "cell_type": "markdown",
      "source": [
        "Read Excel"
      ],
      "metadata": {
        "id": "SPhSXGzGkLk3"
      }
    },
    {
      "cell_type": "code",
      "source": [
        "# Read Excel\n",
        "# pip install pandas\n",
        "import pandas as pd\n",
        "df = pd.read_excel('test.xlsx', sheet_name='Sheet1')\n",
        "# Read Columns\n",
        "name = df['Name'].to_list()\n",
        "Id  = df['Id'].to_list()\n",
        "print(name) # [\"haider\", \"Dustin, \"Tadashi\"]\n",
        "print(Id) # [245, 552, 892]"
      ],
      "metadata": {
        "id": "bQim3pMRkJXG"
      },
      "execution_count": null,
      "outputs": []
    },
    {
      "cell_type": "markdown",
      "source": [
        "Reference: https://python.plainenglish.io/10-python-automation-scripts-for-everyday-problems-3ca0f2011282"
      ],
      "metadata": {
        "id": "BbFXbtWSkj7U"
      }
    },
    {
      "cell_type": "markdown",
      "source": [
        "Generate and Decode QR Code"
      ],
      "metadata": {
        "id": "SWUb1BI8noXR"
      }
    },
    {
      "cell_type": "code",
      "source": [
        "# Generate and Decode QrCode\n",
        "# pip install qrcode\n",
        "# pip install qrtools\n",
        "# pip install Pillow\n",
        "import qrcode\n",
        "from PIL import Image\n",
        "from pyzbar.pyzbar import decode\n",
        "def generate_qrcode(data):\n",
        "    qr = qrcode.QRCode(\n",
        "        version=1,\n",
        "        error_correction=qrcode.constants.ERROR_CORRECT_L,\n",
        "        box_size=10,\n",
        "        border=4,)\n",
        "    qr.add_data(data)\n",
        "    qr.make(fit=True)\n",
        "image = qr.make_image(fill_color=\"black\", back_color=\"white\")\n",
        "    image.save(\"qrcode.png\")\n",
        "def Decode_Qrcode(file_name):\n",
        "    result = decode(Image.open(file_name))\n",
        "    print(\"Data:\", result[0][0].decode())\n",
        "generate_qrcode(\"This is Medium Article By Haider\")\n",
        "Decode_Qrcode(\"qrcode.png\")"
      ],
      "metadata": {
        "id": "ZxNsvF5snrD4"
      },
      "execution_count": null,
      "outputs": []
    },
    {
      "cell_type": "markdown",
      "source": [
        "Parse HTML"
      ],
      "metadata": {
        "id": "3ADDJSYtnw8I"
      }
    },
    {
      "cell_type": "code",
      "source": [
        "# Parse HTML\n",
        "# pip install bs4\n",
        "from bs4 import BeautifulSoup\n",
        "html = \"\"\" \n",
        "<html>\n",
        "    <head> \n",
        "        <title> \n",
        "            My Page \n",
        "        </title> \n",
        "    </head> \n",
        "    <body> \n",
        "        <div class=\"city\">\n",
        "            <p> My first paragraph. </p> <p> My second paragraph. </p> \n",
        "        </div>\n",
        "    </body> \n",
        " </html> \"\"\"\n",
        "soup = BeautifulSoup(html, 'html.parser')\n",
        "# Prettify the HTML\n",
        "print(soup.prettify())\n",
        "# Find Single data\n",
        "data = soup.find('p').text\n",
        "# Find all data\n",
        "data = soup.find_all('p')\n",
        "# Find by artibute\n",
        "data = soup.find_all(class_='city')\n",
        "# Find by tag and attributes\n",
        "data = soup.find(\"div\", attrs={\"class\": \"city\"}).text\n",
        "# Get title tag\n",
        "print(data.title.text)\n",
        "# Get all text\n",
        "print(data.text)"
      ],
      "metadata": {
        "id": "pRPmez0antlP"
      },
      "execution_count": null,
      "outputs": []
    },
    {
      "cell_type": "markdown",
      "source": [
        "Read Excel"
      ],
      "metadata": {
        "id": "Yr73iZkVn4Tq"
      }
    },
    {
      "cell_type": "code",
      "source": [
        "# Read Excel Files\n",
        "# pip install openpyxl\n",
        "from openpyxl import load_workbook\n",
        "wb = load_workbook('test.xlsx')\n",
        "sheet = wb.active\n",
        "# Read by Rows\n",
        "for row in sheet.rows:\n",
        "    for cell in row:\n",
        "        print(cell.value, end=' ')\n",
        "    print()\n",
        "# Read by Column\n",
        "for col in sheet.columns:\n",
        "    for cell in col:\n",
        "        print(cell.value, end=' ')\n",
        "    print()\n",
        "# Read Specific Column\n",
        "for col in sheet['A']:\n",
        "    print(col.value)\n",
        "# Read Specific Cell\n",
        "# method 1\n",
        "print(sheet['A1'].value)\n",
        "# method 2 \n",
        "data = sheet.cell(row=1, column=1).value\n",
        "print(data)\n",
        "# Writing and Saving Excel\n",
        "sheet.cell(row=1, column=1).value = 'Hello World'\n",
        "wb.save('test.xlsx')"
      ],
      "metadata": {
        "id": "L4xKtoXznzju"
      },
      "execution_count": null,
      "outputs": []
    },
    {
      "cell_type": "markdown",
      "source": [
        "Urllib3 - Requests"
      ],
      "metadata": {
        "id": "k45oKba4oAAL"
      }
    },
    {
      "cell_type": "code",
      "source": [
        "# urllib3\n",
        "# pip install urllib3\n",
        "import urllib3\n",
        "import urllib.request\n",
        "# Get HTML or API Call\n",
        "r = urllib3.PoolManager()\n",
        "response = r.request('GET', 'http://www.example.com')\n",
        "print(response.status)\n",
        "print(response.data)\n",
        "# Mutliple API Call\n",
        "r = urllib3.PoolManager(num_pools=2)\n",
        "response1 = r.request('GET', 'http://www.example1.com')\n",
        "response2 = r.request('GET', 'http://www.example2.com')\n",
        "# Download Images/videos and Files\n",
        "r = urllib.request.urlretrieve(\"video url\", 'video_name.mp4')"
      ],
      "metadata": {
        "id": "Jh7_-ECHn6Pm"
      },
      "execution_count": null,
      "outputs": []
    },
    {
      "cell_type": "markdown",
      "source": [
        "Spelling and Grammar Checker"
      ],
      "metadata": {
        "id": "Pe0-Ag69oGwW"
      }
    },
    {
      "cell_type": "code",
      "source": [
        "# Spell and Grammer Checker\n",
        "# pip install textblob\n",
        "# pip install language-tool-python\n",
        "from textblob import TextBlob\n",
        "import language_tool_python\n",
        "# Spell Checker\n",
        "def spell_checker(text):\n",
        "    text = TextBlob(text)\n",
        "    print(text.correct())\n",
        "# Grammer Checker\n",
        "def grammer_checker(text):\n",
        "    tool = language_tool_python.LanguageTool('en-US')\n",
        "    checker = tool.check(text)\n",
        "    print(\"Issue: \", checker[0].ruleIssueType)\n",
        "    print(\"Corrected Text:\", checker[0].replacements)\n",
        "grammer_checker(\"I Stackoverflow love\")\n",
        "spell_checker(\"The Smell of Fliwers\")"
      ],
      "metadata": {
        "id": "UYMQzy0-oDka"
      },
      "execution_count": null,
      "outputs": []
    },
    {
      "cell_type": "markdown",
      "source": [
        "Watermark Your Photos"
      ],
      "metadata": {
        "id": "3_MOvaUioPPo"
      }
    },
    {
      "cell_type": "code",
      "source": [
        "# WaterMark Your Photos\n",
        "# pip install Pillow\n",
        "from PIL import Image\n",
        "from PIL import ImageFont\n",
        "from PIL import ImageDraw\n",
        "def Apply_Watermark(input, output, text):\n",
        "    image = Image.open(input)\n",
        "    font = ImageFont.truetype(\"arial.ttf\", 120)\n",
        "    w, h = image.size\n",
        "    draw = ImageDraw.Draw(image)\n",
        "    \n",
        "    text_w, text_h = draw.textsize(text, font)   \n",
        "    pos = w - text_w, (h - text_h) - 50\n",
        "    watermark_text = Image.new('RGB', (text_w, (text_h)))\n",
        "    draw = ImageDraw.Draw(watermark_text)\n",
        "    \n",
        "    draw.text((0,0), text, font=font)\n",
        "    watermark_text.putalpha(100)\n",
        "   \n",
        "    image.paste(watermark_text, pos, watermark_text)\n",
        "    image.save(output)\n",
        "Apply_Watermark('img.jpg', 'watermark.jpg', 'WaterMark')"
      ],
      "metadata": {
        "id": "XTSGoHmtoI0X"
      },
      "execution_count": null,
      "outputs": []
    },
    {
      "cell_type": "markdown",
      "source": [
        "Recognize Handwriting"
      ],
      "metadata": {
        "id": "cyrSyTn1oWu0"
      }
    },
    {
      "cell_type": "code",
      "source": [
        "# Recognized Handwritting\n",
        "# pip install pytesseract\n",
        "import pytesseract\n",
        "from PIL import Image\n",
        "# Recognize Handwritting\n",
        "img  = Image.open('test.png')\n",
        "text = pytesseract.image_to_string(img)\n",
        "print(text)\n",
        "# Recognize by Language\n",
        "pytesseract.image_to_string(img, lang='spa')\n",
        "# config for Detection\n",
        "text = pytesseract.image_to_string(img,  lang='eng',  config='--psm 6')\n",
        "# Page segmentation modes (--psm num):\n",
        "#   0    Orientation and script detection (OSD) only.\n",
        "#   1    Automatic page segmentation with OSD.\n",
        "#   2    Automatic page segmentation, but no OSD, or OCR.\n",
        "#   3    Fully automatic page segmentation, but no OSD. (Default)\n",
        "#   4    Assume a single column of text of variable sizes.\n",
        "#   5    Assume a single uniform block of vertically aligned text.\n",
        "#   6    Assume a single uniform block of text.\n",
        "#   7    Treat the image as a single text line.\n",
        "#   8    Treat the image as a single word.\n",
        "#   9    Treat the image as a single word in a circle.\n",
        "#  10    Treat the image as a single character.\n",
        "#  11    Sparse text. Find as much text as possible in no particular order.\n",
        "#  12    Sparse text with OSD.\n",
        "#  13    Raw line. Treat the image as a single text line, bypassing hacks that are Tesseract-specific."
      ],
      "metadata": {
        "id": "dSHiHEZMoRx7"
      },
      "execution_count": null,
      "outputs": []
    },
    {
      "cell_type": "markdown",
      "source": [
        "Automate Websites and WebApps"
      ],
      "metadata": {
        "id": "NWkFHschohni"
      }
    },
    {
      "cell_type": "code",
      "source": [
        "# Automate WebApps \n",
        "# pip install Selenium\n",
        "from selenium import webdriver\n",
        "from selenium.webdriver.common.keys import Keys\n",
        "from selenium.webdriver.common.by import By\n",
        "from selenium.webdriver.support.ui import WebDriverWait\n",
        "from selenium.webdriver.support import expected_conditions as EC\n",
        "from selenium.webdriver.common.action_chains import ActionChains\n",
        "driver = webdriver.Chrome(\"chromedriver.exe\")\n",
        "driver.get(\"https://www.example.com/\")\n",
        "# Finding Elements\n",
        "driver.find_element_by_id(\"id\")\n",
        "driver.find_element_by_name(\"name\")\n",
        "driver.find_element_by_class_name(\"class name\")\n",
        "driver.find_element_by_tag_name(\"tag\")\n",
        "driver.find_element_by_link_text(\"link text\")\n",
        "driver.find_element_by_xpath(\"xpath\")\n",
        "driver.find_element_by_css_selector(\"css\")\n",
        "# Finding Elements with Wait\n",
        "WebDriverWait(driver, 10).until(EC.presence_of_element_located((By.ID, \"id\")))\n",
        "WebDriverWait(driver, 5).until(EC.visibility_of_element_located((By.XPATH, \"xpath\")))\n",
        "WebDriverWait(driver, 10).until(EC.element_to_be_clickable((By.ID, \"id\")))\n",
        "# Click on Element\n",
        "driver.find_element_by_id(\"id\").click()\n",
        "# Send keys or Type\n",
        "driver.find_element_by_id(\"id\").send_keys(\"Keys\")\n",
        "# Press Enter or Keys\n",
        "driver.find_element_by_id(\"id\").send_keys(Keys.ENTER)\n",
        "# Mouse Hover\n",
        "ActionChains(driver).move_to_element(driver.find_element_by_id(\"id\")).perform()\n",
        "# Quit Browser\n",
        "driver.quit()\n",
        "# Refresh Browser\n",
        "driver.refresh()"
      ],
      "metadata": {
        "id": "j_ZWyrIFoepZ"
      },
      "execution_count": null,
      "outputs": []
    },
    {
      "cell_type": "markdown",
      "source": [
        "Python GUI with Tkinter"
      ],
      "metadata": {
        "id": "GSvFGELNonMM"
      }
    },
    {
      "cell_type": "code",
      "source": [
        "#Python GUI with Tkinter\n",
        "import tkinter as tk\n",
        "root = tk.Tk()\n",
        "root.title(\"Medium Article\")\n",
        "# Button\n",
        "btn = tk.Button(root, text=\"Click Me!\", command=lambda: print(\"Welcome Pythoneer!\"))\n",
        "btn.pack()\n",
        "# Entry\n",
        "entry = tk.Entry(root)\n",
        "entry.pack()\n",
        "# Label\n",
        "label = tk.Label(root, text=\"Medium\")\n",
        "label.pack()\n",
        "# Text\n",
        "text = tk.Text(root, height=2, width=30)\n",
        "text.pack()\n",
        "# Listbox\n",
        "listbox = tk.Listbox(root, height=2, width=30)\n",
        "listbox.pack()\n",
        "# Scrollbar\n",
        "scrollbar = tk.Scrollbar(root)\n",
        "scrollbar.pack(side=tk.RIGHT, fill=tk.Y)\n",
        "# messagebox\n",
        "tk.messagebox.showinfo(\"Title\", \"Your Message\")\n",
        "# Radio Button\n",
        "var = tk.IntVar()\n",
        "radio = tk.Radiobutton(root, text=\"Option 1\", variable=var, value=1)\n",
        "radio.pack()\n",
        "radio = tk.Radiobutton(root, text=\"Option 2\", variable=var, value=2)\n",
        "radio.pack()\n",
        "# Check Button\n",
        "var = tk.IntVar()\n",
        "check = tk.Checkbutton(root, text=\"Option 1\", variable=var)\n",
        "check.pack()\n",
        "check = tk.Checkbutton(root, text=\"Option 2\", variable=var)\n",
        "check.pack()\n",
        "# Dropdown\n",
        "var = tk.StringVar()\n",
        "dropdown = tk.OptionMenu(root, var, \"Option 1\", \"Option 2\", \"Option 3\")\n",
        "dropdown.pack()\n",
        "# Status Bar\n",
        "status = tk.Label(root, text=\"Preparing to do Something...\", bd=1, relief=tk.SUNKEN, anchor=tk.W)\n",
        "status.pack(side=tk.BOTTOM, fill=tk.X)\n",
        "# File Input\n",
        "def open_file():\n",
        "    file = tk.filedialog.askopenfile(parent=root, mode='rb', title='Select a file')\n",
        "    if file != None:\n",
        "        contents = file.read()\n",
        "        file.close()\n",
        "        text.insert(tk.END, contents)\n",
        "# Folder Input\n",
        "def folder():\n",
        "    folder = tk.filedialog.askdirectory(parent=root, title='Select a folder')\n",
        "    label.config(text=folder)\n",
        "root.mainloop()"
      ],
      "metadata": {
        "id": "6BcISRigokA-"
      },
      "execution_count": null,
      "outputs": []
    },
    {
      "cell_type": "markdown",
      "source": [
        "Multi-Processing - Parallel"
      ],
      "metadata": {
        "id": "e9C39Iavosh0"
      }
    },
    {
      "cell_type": "code",
      "source": [
        "# Multi-processing\n",
        "import multiprocessing\n",
        "def worker(num):\n",
        "    print('Worker:', num)\n",
        "if __name__ == '__main__':\n",
        "    jobs = []\n",
        "    for i in range(5):\n",
        "        p = multiprocessing.Process(target=worker, args=(i,))\n",
        "        jobs.append(p)\n",
        "        p.start()\n",
        "for i in jobs:\n",
        "        i.join()\n",
        "print('Done')"
      ],
      "metadata": {
        "id": "lAbvq8sropzF"
      },
      "execution_count": null,
      "outputs": []
    },
    {
      "cell_type": "markdown",
      "source": [
        "Reference:https://python.plainenglish.io/10-automation-scripts-for-your-daily-python-projects-892a82be3f75"
      ],
      "metadata": {
        "id": "OMa0RzlJo1I7"
      }
    }
  ]
}