{
  "nbformat": 4,
  "nbformat_minor": 0,
  "metadata": {
    "colab": {
      "name": "CodeSnippetPython.ipynb",
      "provenance": []
    },
    "kernelspec": {
      "name": "python3",
      "display_name": "Python 3"
    },
    "language_info": {
      "name": "python"
    }
  },
  "cells": [
    {
      "cell_type": "markdown",
      "source": [
        "Code Snippets for python"
      ],
      "metadata": {
        "id": "h6es0nZ_kamm"
      }
    },
    {
      "cell_type": "markdown",
      "source": [
        "Photo Editing"
      ],
      "metadata": {
        "id": "N-eLEPxQi7_j"
      }
    },
    {
      "cell_type": "code",
      "execution_count": null,
      "metadata": {
        "id": "Eo-Ryku7ixPs"
      },
      "outputs": [],
      "source": [
        "# Photo Editing \n",
        "# pip install pillow\n",
        "from PIL import Image, ImageFilter\n",
        "# Resize an image\n",
        "img = Image.open('img.jpg')\n",
        "resize = img.resize((200, 300))\n",
        "resize.save('output.jpg')\n",
        "# Blur Image\n",
        "img = Image.open('img.jpg')\n",
        "blur = img.filter(ImageFilter.BLUR)\n",
        "blur.save('output.jpg')\n",
        "# Sharp Image\n",
        "img = Image.open('img.jpg')\n",
        "sharp = img.filter(ImageFilter.SHARPEN)\n",
        "sharp.save('output.jpg')\n",
        "# Crop Image\n",
        "img = Image.open('img.jpg')\n",
        "crop = img.crop((0, 0, 50, 50))\n",
        "crop.save('output.jpg')\n",
        "# Rotate Image\n",
        "img = Image.open('img.jpg')\n",
        "rotate = img.rotate(90)\n",
        "rotate.save('output.jpg')\n",
        "# Flip Image\n",
        "img = Image.open('img.jpg')\n",
        "flip = img.transpose(Image.FLIP_LEFT_RIGHT)\n",
        "flip.save('output.jpg')\n",
        "# Transpose Image\n",
        "img = Image.open('img.jpg')\n",
        "transpose = img.transpose(Image.TRANSPOSE)\n",
        "transpose.save('output.jpg')\n",
        "# Convert Image to GreyScale\n",
        "img = Image.open('img.jpg')\n",
        "convert = img.convert('L')\n",
        "convert.save('output.jpg')"
      ]
    },
    {
      "cell_type": "markdown",
      "source": [
        "PDF Watermarker"
      ],
      "metadata": {
        "id": "9Jc3VldijHd7"
      }
    },
    {
      "cell_type": "code",
      "source": [
        "# Watermark PDF files\n",
        "# pip install PyPDF4\n",
        "import PyPDF4\n",
        "def Watermark():\n",
        "    pdf_file= \"test.pdf\"\n",
        "    output_pdf= \"output.pdf\"\n",
        "    watermark= \"watermark.pdf\"\n",
        "    watermark_read = PyPDF4.PdfFileReader(watermark)\n",
        "    watermark_page = watermark_read.getPage(0)\n",
        "    pdf_reader = PyPDF4.PdfFileReader(pdf_file)\n",
        "    pdf_writer = PyPDF4.PdfFileWriter()\n",
        "    for page in range(pdf_reader.getNumPages()):\n",
        "      page = pdf_reader.getPage(page)\n",
        "      page.mergePage(watermark_page)\n",
        "      pdf_writer.addPage(page)\n",
        "\n",
        "      # writing output pdf file\n",
        "      with open(output_pdf, 'wb') as pdf:\n",
        "        pdf_writer.write(pdf)\n",
        "Watermark()"
      ],
      "metadata": {
        "id": "N95THHnzi7to"
      },
      "execution_count": null,
      "outputs": []
    },
    {
      "cell_type": "markdown",
      "source": [
        "Video Editing"
      ],
      "metadata": {
        "id": "KooA4L6sjWYB"
      }
    },
    {
      "cell_type": "code",
      "source": [
        "# Video Editing\n",
        "# pip install moviepy\n",
        "from moviepy.editor import *\n",
        "# Triming the video\n",
        "clip_1 = VideoFileClip(\"sample_video.mp4\").subclip(40, 50)\n",
        "clip_2 = VideoFileClip(\"sample_video.mp4\").subclip(68, 91)\n",
        "final_clip = concatenate_videoclips([clip_1, clip_2])\n",
        "final_clip.write_videofile(\"output.mp4\")\n",
        "# Adding VFX\n",
        "clip_1 = (VideoFileClip(\"sample_video.mp4\").subclip(40, 50).fx(vfx.colorx, 1.2).fx(vfx.lum_contrast, 0, 30, 100))\n",
        "clip_2 = (VideoFileClip(\"sample_video.mp4\").subclip(68, 91).fx(vfx.invert_colors))\n",
        "final_clip = concatenate_videoclips([clip_1, clip_2])\n",
        "final_clip.write_videofile(\"output.mp4\")\n",
        "# Add Audio to Video\n",
        "clip = VideoFileClip(\"sample_video.mp4\")\n",
        "# Add audio to only first 5 sec\n",
        "clip = clip.subclip(0, 5)\n",
        "audioclip = AudioFileClip(\"audio.mp3\").subclip(0, 5)\n",
        "videoclip = clip.set_audio(audioclip)\n",
        "final_clip.write_videofile(\"output.mp4\")"
      ],
      "metadata": {
        "id": "kpNCVAOOi800"
      },
      "execution_count": null,
      "outputs": []
    },
    {
      "cell_type": "markdown",
      "source": [
        " Speech to Text AI"
      ],
      "metadata": {
        "id": "t07En6x_jdqA"
      }
    },
    {
      "cell_type": "code",
      "source": [
        "# Convert Speech to Text\n",
        "#pip install SpeechRecognition\n",
        "import speech_recognition as sr\n",
        "def SpeechToText():\n",
        "Ai = sr.Recognizer()\n",
        "    with sr.Microphone() as source:\n",
        "        listening = Ai.listen(source, phrase_time_limit = 6)  \n",
        "    try:\n",
        "        command = Ai.recognize_google(listening).lower()\n",
        "        print(\"You said: \" + command)\n",
        "        \n",
        "    except sr.UnknownValueError:\n",
        "        print(\"Sorry Can't understand, Try again\")\n",
        "        SpeechToText()"
      ],
      "metadata": {
        "id": "rdiCdox_jZGT"
      },
      "execution_count": null,
      "outputs": []
    },
    {
      "cell_type": "markdown",
      "source": [
        "Request API"
      ],
      "metadata": {
        "id": "ncJT1Xrvjmjo"
      }
    },
    {
      "cell_type": "code",
      "source": [
        "# Request Api \n",
        "# pip install requests\n",
        "import requests\n",
        "# Get Data\n",
        "headers = {\n",
        "    \"Connection\": \"keep-alive\",\n",
        "    \"User-Agent\": \"Mozilla/5.0 (Windows NT 10.0; Win64; x64) AppleWebKit/537.36 (KHTML, like Gecko) Chrome/72.0.3626.121 Safari/537.36\"\n",
        "}\n",
        "r = requests.get('https://api.example.com', headers=headers)\n",
        "print(r.status_code) # 200\n",
        "print(r.headers['content-type'])\n",
        "print(r.content) # HTML Data\n",
        "# Login Site\n",
        "payload = {'username': 'USERNAME', 'userpass': 'PASSWORD'}\n",
        "r = requests.post('https://example.com/login', data=payload)\n",
        "print(r.status_code) # 200"
      ],
      "metadata": {
        "id": "H91a4JhUjhup"
      },
      "execution_count": null,
      "outputs": []
    },
    {
      "cell_type": "markdown",
      "source": [
        "Python GUI"
      ],
      "metadata": {
        "id": "tgpwgb6bjtV2"
      }
    },
    {
      "cell_type": "code",
      "source": [
        "# Python GUI\n",
        "# pip install PyQt6\n",
        "import sys\n",
        "from PyQt6.QtWidgets import QApplication, QWidget, QPushButton, QMessageBox, QLabel, QLineEdit\n",
        "def Application():\n",
        "app = QApplication(sys.argv)\n",
        "    win = QWidget()\n",
        "    win.resize(300, 300)\n",
        "    win.move(200, 200)\n",
        "    win.setWindowTitle('Medium Article')\n",
        "    # Create Buttons\n",
        "    btn = QPushButton('Quit', win)\n",
        "    \n",
        "    # Message Box\n",
        "    QMessageBox.question(win, 'Message',\"Are you sure to quit?\")\n",
        "    # Label Text\n",
        "    lbl = QLabel('Hello World', win)\n",
        "    # Button Clicked\n",
        "    btn.clicked.connect(lambda: QMessageBox.question(win, 'Message',\"Are you sure to quit?\"))\n",
        "    # Entry Box\n",
        "    entry = QLineEdit(win)\n",
        "    win.show()\n",
        "    sys.exit(app.exec())\n",
        "if __name__ == '__main__':\n",
        "    Application()"
      ],
      "metadata": {
        "id": "0GCzhS8qjo1Z"
      },
      "execution_count": null,
      "outputs": []
    },
    {
      "cell_type": "markdown",
      "source": [
        " Spell Checker"
      ],
      "metadata": {
        "id": "DWH49i9Sj6A6"
      }
    },
    {
      "cell_type": "code",
      "source": [
        "# Spell Checker in Python \n",
        "# pip install pyspellchecker\n",
        "from spellchecker import SpellChecker as spell\n",
        "Words = spell.unknown(['Python'  , 'is' , 'a' , 'good' , 'lantyguage'])\n",
        "for w in Words:\n",
        "    print(spell.correction(w)) #language\n",
        "    print(spell.candidates(w)) #{ language }"
      ],
      "metadata": {
        "id": "A-LizRnMjv6N"
      },
      "execution_count": null,
      "outputs": []
    },
    {
      "cell_type": "markdown",
      "source": [
        "Grammar Checker"
      ],
      "metadata": {
        "id": "rEf7Zo34j_Ld"
      }
    },
    {
      "cell_type": "code",
      "source": [
        "# Grammer Checker in Python\n",
        "# pip install gingerit\n",
        "from gingerit.gingerit import GingerIt\n",
        "text = \"Welcm Progammer to Python\"\n",
        "Grammer = GingerIt()\n",
        "Correction = Grammer.parse(text)\n",
        "print(Correction[\"result\"]) # Welcome, Programmer to Python\n",
        "print(Correction['corrections'])"
      ],
      "metadata": {
        "id": "_xdSAJpkj8O-"
      },
      "execution_count": null,
      "outputs": []
    },
    {
      "cell_type": "markdown",
      "source": [
        "Automate Win, Mac, and Linux"
      ],
      "metadata": {
        "id": "8hq2-Sv3kHOf"
      }
    },
    {
      "cell_type": "code",
      "source": [
        "# Automate Win, Mac and Linux\n",
        "# pip install PyAutoGUI\n",
        "import pyautogui as py\n",
        "# Mouse Movements\n",
        "py.moveTo(100, 100)\n",
        "py.moveTo(200, 200, duration=1)\n",
        "py.click(100, 100)\n",
        "py.doubleClick(200, 200)\n",
        "# Keyboard Inputs\n",
        "py.write('Hello World!', interval=0.25)\n",
        "py.press('enter')\n",
        "py.hotkey('ctrl', 'c')\n",
        "py.keyDown('shift')\n",
        "py.keyUp('shift')\n",
        "# Screen Automation\n",
        "img = py.screenshot('screenshot.jpg')\n",
        "img.save('screenshot.jpg')\n",
        "loc = py.locationsOnScreen('icon.jpg')\n",
        "print(loc)"
      ],
      "metadata": {
        "id": "MhtMKPOakCLy"
      },
      "execution_count": null,
      "outputs": []
    },
    {
      "cell_type": "markdown",
      "source": [
        "Read Excel"
      ],
      "metadata": {
        "id": "SPhSXGzGkLk3"
      }
    },
    {
      "cell_type": "code",
      "source": [
        "# Read Excel\n",
        "# pip install pandas\n",
        "import pandas as pd\n",
        "df = pd.read_excel('test.xlsx', sheet_name='Sheet1')\n",
        "# Read Columns\n",
        "name = df['Name'].to_list()\n",
        "Id  = df['Id'].to_list()\n",
        "print(name) # [\"haider\", \"Dustin, \"Tadashi\"]\n",
        "print(Id) # [245, 552, 892]"
      ],
      "metadata": {
        "id": "bQim3pMRkJXG"
      },
      "execution_count": null,
      "outputs": []
    },
    {
      "cell_type": "markdown",
      "source": [
        "Reference: https://python.plainenglish.io/10-python-automation-scripts-for-everyday-problems-3ca0f2011282"
      ],
      "metadata": {
        "id": "BbFXbtWSkj7U"
      }
    },
    {
      "cell_type": "markdown",
      "source": [
        "Generate and Decode QR Code"
      ],
      "metadata": {
        "id": "SWUb1BI8noXR"
      }
    },
    {
      "cell_type": "code",
      "source": [
        "# Generate and Decode QrCode\n",
        "# pip install qrcode\n",
        "# pip install qrtools\n",
        "# pip install Pillow\n",
        "import qrcode\n",
        "from PIL import Image\n",
        "from pyzbar.pyzbar import decode\n",
        "def generate_qrcode(data):\n",
        "    qr = qrcode.QRCode(\n",
        "        version=1,\n",
        "        error_correction=qrcode.constants.ERROR_CORRECT_L,\n",
        "        box_size=10,\n",
        "        border=4,)\n",
        "    qr.add_data(data)\n",
        "    qr.make(fit=True)\n",
        "image = qr.make_image(fill_color=\"black\", back_color=\"white\")\n",
        "    image.save(\"qrcode.png\")\n",
        "def Decode_Qrcode(file_name):\n",
        "    result = decode(Image.open(file_name))\n",
        "    print(\"Data:\", result[0][0].decode())\n",
        "generate_qrcode(\"This is Medium Article By Haider\")\n",
        "Decode_Qrcode(\"qrcode.png\")"
      ],
      "metadata": {
        "id": "ZxNsvF5snrD4"
      },
      "execution_count": null,
      "outputs": []
    },
    {
      "cell_type": "markdown",
      "source": [
        "Parse HTML"
      ],
      "metadata": {
        "id": "3ADDJSYtnw8I"
      }
    },
    {
      "cell_type": "code",
      "source": [
        "# Parse HTML\n",
        "# pip install bs4\n",
        "from bs4 import BeautifulSoup\n",
        "html = \"\"\" \n",
        "<html>\n",
        "    <head> \n",
        "        <title> \n",
        "            My Page \n",
        "        </title> \n",
        "    </head> \n",
        "    <body> \n",
        "        <div class=\"city\">\n",
        "            <p> My first paragraph. </p> <p> My second paragraph. </p> \n",
        "        </div>\n",
        "    </body> \n",
        " </html> \"\"\"\n",
        "soup = BeautifulSoup(html, 'html.parser')\n",
        "# Prettify the HTML\n",
        "print(soup.prettify())\n",
        "# Find Single data\n",
        "data = soup.find('p').text\n",
        "# Find all data\n",
        "data = soup.find_all('p')\n",
        "# Find by artibute\n",
        "data = soup.find_all(class_='city')\n",
        "# Find by tag and attributes\n",
        "data = soup.find(\"div\", attrs={\"class\": \"city\"}).text\n",
        "# Get title tag\n",
        "print(data.title.text)\n",
        "# Get all text\n",
        "print(data.text)"
      ],
      "metadata": {
        "id": "pRPmez0antlP"
      },
      "execution_count": null,
      "outputs": []
    },
    {
      "cell_type": "markdown",
      "source": [
        "Read Excel"
      ],
      "metadata": {
        "id": "Yr73iZkVn4Tq"
      }
    },
    {
      "cell_type": "code",
      "source": [
        "# Read Excel Files\n",
        "# pip install openpyxl\n",
        "from openpyxl import load_workbook\n",
        "wb = load_workbook('test.xlsx')\n",
        "sheet = wb.active\n",
        "# Read by Rows\n",
        "for row in sheet.rows:\n",
        "    for cell in row:\n",
        "        print(cell.value, end=' ')\n",
        "    print()\n",
        "# Read by Column\n",
        "for col in sheet.columns:\n",
        "    for cell in col:\n",
        "        print(cell.value, end=' ')\n",
        "    print()\n",
        "# Read Specific Column\n",
        "for col in sheet['A']:\n",
        "    print(col.value)\n",
        "# Read Specific Cell\n",
        "# method 1\n",
        "print(sheet['A1'].value)\n",
        "# method 2 \n",
        "data = sheet.cell(row=1, column=1).value\n",
        "print(data)\n",
        "# Writing and Saving Excel\n",
        "sheet.cell(row=1, column=1).value = 'Hello World'\n",
        "wb.save('test.xlsx')"
      ],
      "metadata": {
        "id": "L4xKtoXznzju"
      },
      "execution_count": null,
      "outputs": []
    },
    {
      "cell_type": "markdown",
      "source": [
        "Urllib3 - Requests"
      ],
      "metadata": {
        "id": "k45oKba4oAAL"
      }
    },
    {
      "cell_type": "code",
      "source": [
        "# urllib3\n",
        "# pip install urllib3\n",
        "import urllib3\n",
        "import urllib.request\n",
        "# Get HTML or API Call\n",
        "r = urllib3.PoolManager()\n",
        "response = r.request('GET', 'http://www.example.com')\n",
        "print(response.status)\n",
        "print(response.data)\n",
        "# Mutliple API Call\n",
        "r = urllib3.PoolManager(num_pools=2)\n",
        "response1 = r.request('GET', 'http://www.example1.com')\n",
        "response2 = r.request('GET', 'http://www.example2.com')\n",
        "# Download Images/videos and Files\n",
        "r = urllib.request.urlretrieve(\"video url\", 'video_name.mp4')"
      ],
      "metadata": {
        "id": "Jh7_-ECHn6Pm"
      },
      "execution_count": null,
      "outputs": []
    },
    {
      "cell_type": "markdown",
      "source": [
        "Spelling and Grammar Checker"
      ],
      "metadata": {
        "id": "Pe0-Ag69oGwW"
      }
    },
    {
      "cell_type": "code",
      "source": [
        "# Spell and Grammer Checker\n",
        "# pip install textblob\n",
        "# pip install language-tool-python\n",
        "from textblob import TextBlob\n",
        "import language_tool_python\n",
        "# Spell Checker\n",
        "def spell_checker(text):\n",
        "    text = TextBlob(text)\n",
        "    print(text.correct())\n",
        "# Grammer Checker\n",
        "def grammer_checker(text):\n",
        "    tool = language_tool_python.LanguageTool('en-US')\n",
        "    checker = tool.check(text)\n",
        "    print(\"Issue: \", checker[0].ruleIssueType)\n",
        "    print(\"Corrected Text:\", checker[0].replacements)\n",
        "grammer_checker(\"I Stackoverflow love\")\n",
        "spell_checker(\"The Smell of Fliwers\")"
      ],
      "metadata": {
        "id": "UYMQzy0-oDka"
      },
      "execution_count": null,
      "outputs": []
    },
    {
      "cell_type": "markdown",
      "source": [
        "Watermark Your Photos"
      ],
      "metadata": {
        "id": "3_MOvaUioPPo"
      }
    },
    {
      "cell_type": "code",
      "source": [
        "# WaterMark Your Photos\n",
        "# pip install Pillow\n",
        "from PIL import Image\n",
        "from PIL import ImageFont\n",
        "from PIL import ImageDraw\n",
        "def Apply_Watermark(input, output, text):\n",
        "    image = Image.open(input)\n",
        "    font = ImageFont.truetype(\"arial.ttf\", 120)\n",
        "    w, h = image.size\n",
        "    draw = ImageDraw.Draw(image)\n",
        "    \n",
        "    text_w, text_h = draw.textsize(text, font)   \n",
        "    pos = w - text_w, (h - text_h) - 50\n",
        "    watermark_text = Image.new('RGB', (text_w, (text_h)))\n",
        "    draw = ImageDraw.Draw(watermark_text)\n",
        "    \n",
        "    draw.text((0,0), text, font=font)\n",
        "    watermark_text.putalpha(100)\n",
        "   \n",
        "    image.paste(watermark_text, pos, watermark_text)\n",
        "    image.save(output)\n",
        "Apply_Watermark('img.jpg', 'watermark.jpg', 'WaterMark')"
      ],
      "metadata": {
        "id": "XTSGoHmtoI0X"
      },
      "execution_count": null,
      "outputs": []
    },
    {
      "cell_type": "markdown",
      "source": [
        "Recognize Handwriting"
      ],
      "metadata": {
        "id": "cyrSyTn1oWu0"
      }
    },
    {
      "cell_type": "code",
      "source": [
        "# Recognized Handwritting\n",
        "# pip install pytesseract\n",
        "import pytesseract\n",
        "from PIL import Image\n",
        "# Recognize Handwritting\n",
        "img  = Image.open('test.png')\n",
        "text = pytesseract.image_to_string(img)\n",
        "print(text)\n",
        "# Recognize by Language\n",
        "pytesseract.image_to_string(img, lang='spa')\n",
        "# config for Detection\n",
        "text = pytesseract.image_to_string(img,  lang='eng',  config='--psm 6')\n",
        "# Page segmentation modes (--psm num):\n",
        "#   0    Orientation and script detection (OSD) only.\n",
        "#   1    Automatic page segmentation with OSD.\n",
        "#   2    Automatic page segmentation, but no OSD, or OCR.\n",
        "#   3    Fully automatic page segmentation, but no OSD. (Default)\n",
        "#   4    Assume a single column of text of variable sizes.\n",
        "#   5    Assume a single uniform block of vertically aligned text.\n",
        "#   6    Assume a single uniform block of text.\n",
        "#   7    Treat the image as a single text line.\n",
        "#   8    Treat the image as a single word.\n",
        "#   9    Treat the image as a single word in a circle.\n",
        "#  10    Treat the image as a single character.\n",
        "#  11    Sparse text. Find as much text as possible in no particular order.\n",
        "#  12    Sparse text with OSD.\n",
        "#  13    Raw line. Treat the image as a single text line, bypassing hacks that are Tesseract-specific."
      ],
      "metadata": {
        "id": "dSHiHEZMoRx7"
      },
      "execution_count": null,
      "outputs": []
    },
    {
      "cell_type": "markdown",
      "source": [
        "Automate Websites and WebApps"
      ],
      "metadata": {
        "id": "NWkFHschohni"
      }
    },
    {
      "cell_type": "code",
      "source": [
        "# Automate WebApps \n",
        "# pip install Selenium\n",
        "from selenium import webdriver\n",
        "from selenium.webdriver.common.keys import Keys\n",
        "from selenium.webdriver.common.by import By\n",
        "from selenium.webdriver.support.ui import WebDriverWait\n",
        "from selenium.webdriver.support import expected_conditions as EC\n",
        "from selenium.webdriver.common.action_chains import ActionChains\n",
        "driver = webdriver.Chrome(\"chromedriver.exe\")\n",
        "driver.get(\"https://www.example.com/\")\n",
        "# Finding Elements\n",
        "driver.find_element_by_id(\"id\")\n",
        "driver.find_element_by_name(\"name\")\n",
        "driver.find_element_by_class_name(\"class name\")\n",
        "driver.find_element_by_tag_name(\"tag\")\n",
        "driver.find_element_by_link_text(\"link text\")\n",
        "driver.find_element_by_xpath(\"xpath\")\n",
        "driver.find_element_by_css_selector(\"css\")\n",
        "# Finding Elements with Wait\n",
        "WebDriverWait(driver, 10).until(EC.presence_of_element_located((By.ID, \"id\")))\n",
        "WebDriverWait(driver, 5).until(EC.visibility_of_element_located((By.XPATH, \"xpath\")))\n",
        "WebDriverWait(driver, 10).until(EC.element_to_be_clickable((By.ID, \"id\")))\n",
        "# Click on Element\n",
        "driver.find_element_by_id(\"id\").click()\n",
        "# Send keys or Type\n",
        "driver.find_element_by_id(\"id\").send_keys(\"Keys\")\n",
        "# Press Enter or Keys\n",
        "driver.find_element_by_id(\"id\").send_keys(Keys.ENTER)\n",
        "# Mouse Hover\n",
        "ActionChains(driver).move_to_element(driver.find_element_by_id(\"id\")).perform()\n",
        "# Quit Browser\n",
        "driver.quit()\n",
        "# Refresh Browser\n",
        "driver.refresh()"
      ],
      "metadata": {
        "id": "j_ZWyrIFoepZ"
      },
      "execution_count": null,
      "outputs": []
    },
    {
      "cell_type": "markdown",
      "source": [
        "Python GUI with Tkinter"
      ],
      "metadata": {
        "id": "GSvFGELNonMM"
      }
    },
    {
      "cell_type": "code",
      "source": [
        "#Python GUI with Tkinter\n",
        "import tkinter as tk\n",
        "root = tk.Tk()\n",
        "root.title(\"Medium Article\")\n",
        "# Button\n",
        "btn = tk.Button(root, text=\"Click Me!\", command=lambda: print(\"Welcome Pythoneer!\"))\n",
        "btn.pack()\n",
        "# Entry\n",
        "entry = tk.Entry(root)\n",
        "entry.pack()\n",
        "# Label\n",
        "label = tk.Label(root, text=\"Medium\")\n",
        "label.pack()\n",
        "# Text\n",
        "text = tk.Text(root, height=2, width=30)\n",
        "text.pack()\n",
        "# Listbox\n",
        "listbox = tk.Listbox(root, height=2, width=30)\n",
        "listbox.pack()\n",
        "# Scrollbar\n",
        "scrollbar = tk.Scrollbar(root)\n",
        "scrollbar.pack(side=tk.RIGHT, fill=tk.Y)\n",
        "# messagebox\n",
        "tk.messagebox.showinfo(\"Title\", \"Your Message\")\n",
        "# Radio Button\n",
        "var = tk.IntVar()\n",
        "radio = tk.Radiobutton(root, text=\"Option 1\", variable=var, value=1)\n",
        "radio.pack()\n",
        "radio = tk.Radiobutton(root, text=\"Option 2\", variable=var, value=2)\n",
        "radio.pack()\n",
        "# Check Button\n",
        "var = tk.IntVar()\n",
        "check = tk.Checkbutton(root, text=\"Option 1\", variable=var)\n",
        "check.pack()\n",
        "check = tk.Checkbutton(root, text=\"Option 2\", variable=var)\n",
        "check.pack()\n",
        "# Dropdown\n",
        "var = tk.StringVar()\n",
        "dropdown = tk.OptionMenu(root, var, \"Option 1\", \"Option 2\", \"Option 3\")\n",
        "dropdown.pack()\n",
        "# Status Bar\n",
        "status = tk.Label(root, text=\"Preparing to do Something...\", bd=1, relief=tk.SUNKEN, anchor=tk.W)\n",
        "status.pack(side=tk.BOTTOM, fill=tk.X)\n",
        "# File Input\n",
        "def open_file():\n",
        "    file = tk.filedialog.askopenfile(parent=root, mode='rb', title='Select a file')\n",
        "    if file != None:\n",
        "        contents = file.read()\n",
        "        file.close()\n",
        "        text.insert(tk.END, contents)\n",
        "# Folder Input\n",
        "def folder():\n",
        "    folder = tk.filedialog.askdirectory(parent=root, title='Select a folder')\n",
        "    label.config(text=folder)\n",
        "root.mainloop()"
      ],
      "metadata": {
        "id": "6BcISRigokA-"
      },
      "execution_count": null,
      "outputs": []
    },
    {
      "cell_type": "markdown",
      "source": [
        "Multi-Processing - Parallel"
      ],
      "metadata": {
        "id": "e9C39Iavosh0"
      }
    },
    {
      "cell_type": "code",
      "source": [
        "# Multi-processing\n",
        "import multiprocessing\n",
        "def worker(num):\n",
        "    print('Worker:', num)\n",
        "if __name__ == '__main__':\n",
        "    jobs = []\n",
        "    for i in range(5):\n",
        "        p = multiprocessing.Process(target=worker, args=(i,))\n",
        "        jobs.append(p)\n",
        "        p.start()\n",
        "for i in jobs:\n",
        "        i.join()\n",
        "print('Done')"
      ],
      "metadata": {
        "id": "lAbvq8sropzF"
      },
      "execution_count": null,
      "outputs": []
    },
    {
      "cell_type": "markdown",
      "source": [
        "Reference:https://python.plainenglish.io/10-automation-scripts-for-your-daily-python-projects-892a82be3f75"
      ],
      "metadata": {
        "id": "OMa0RzlJo1I7"
      }
    },
    {
      "cell_type": "markdown",
      "source": [
        "Folder - Multiple Creation"
      ],
      "metadata": {
        "id": "ZdYGlXIAu2rY"
      }
    },
    {
      "cell_type": "code",
      "source": [
        "from pathlib import Path\n",
        "import calendar\n",
        "\n",
        "month_names = list(calendar.month_name[1:])\n",
        "days = ['Day 1', 'Day 8', 'Day 15', 'Day 22', 'Day 28']\n",
        "\n",
        "for i, month in enumerate(month_names):\n",
        "    for day in days:\n",
        "        Path(f'2022/{i+1}.{month}/{day}').mkdir(parents=True, exist_ok=True)"
      ],
      "metadata": {
        "id": "4gjADElOu_jj"
      },
      "execution_count": null,
      "outputs": []
    },
    {
      "cell_type": "markdown",
      "source": [
        "Extract Tables from PDFs"
      ],
      "metadata": {
        "id": "JzC80ktJvG_6"
      }
    },
    {
      "cell_type": "code",
      "source": [
        "# pip\n",
        "#pip install camelot-py\n",
        "tables = camelot.read_pdf('foo.pdf', pages='1', flavor='lattice')\n",
        "print(tables)\n",
        "tables.export('foo.csv', f='csv', compress=True)\n",
        "tables[0].to_csv('foo.csv')  # to a csv file\n",
        "print(tables[0].df)  # to a df"
      ],
      "metadata": {
        "id": "Qy9sP9IwvCiZ"
      },
      "execution_count": null,
      "outputs": []
    },
    {
      "cell_type": "markdown",
      "source": [
        "Extract Tables from Websites"
      ],
      "metadata": {
        "id": "jwSlMsh6vS0p"
      }
    },
    {
      "cell_type": "code",
      "source": [
        "import pandas as pd\n",
        "simpsons = pd.read_html('https://en.wikipedia.org/wiki/List_of_The_Simpsons_episodes_(seasons_1%E2%80%9320)')\n",
        "# getting the first 5 rows of the table \"Season 1\" (second table)\n",
        "simpsons[1].head()"
      ],
      "metadata": {
        "id": "Po5wfrU5vMcA"
      },
      "execution_count": null,
      "outputs": []
    },
    {
      "cell_type": "markdown",
      "source": [
        "Sending Messages on WhatsApp"
      ],
      "metadata": {
        "id": "kURoY-vNvZzy"
      }
    },
    {
      "cell_type": "code",
      "source": [
        "#!pip install pywhatkit\n",
        "import pywhatkit\n",
        "# syntax: phone number with country code, message, hour and minutes\n",
        "pywhatkit.sendwhatmsg('+1xxxxxxxx', 'Message 1', 18, 52)"
      ],
      "metadata": {
        "id": "45X1PoXtvWZ8"
      },
      "execution_count": null,
      "outputs": []
    },
    {
      "cell_type": "markdown",
      "source": [
        "**Photo Compressor**\n",
        "\n",
        "This will Compress your photos into lower sizes while the quality same."
      ],
      "metadata": {
        "id": "hjcO8eJfhRVF"
      }
    },
    {
      "cell_type": "code",
      "source": [
        "import PIL\n",
        "from PIL import Image\n",
        "from tkinter.filedialog import *\n",
        "fl=askopenfilenames()\n",
        "img = Image.open(fl[0])\n",
        "img.save(\"result.jpg\", \"JPEG\", optimize = True, quality = 10)"
      ],
      "metadata": {
        "id": "NtZIMXO1ves_"
      },
      "execution_count": null,
      "outputs": []
    },
    {
      "cell_type": "markdown",
      "source": [
        "**Image Watermarker**\n",
        "\n",
        "This simple script will watermark any image. You can set the Text, location, and Font."
      ],
      "metadata": {
        "id": "afXuXfmzhaiT"
      }
    },
    {
      "cell_type": "code",
      "source": [
        "from PIL import Image\n",
        "from PIL import ImageFont\n",
        "from PIL import ImageDraw\n",
        "\n",
        "def watermark_img(img_path,res_path, text, pos):\n",
        "    img = Image.open(img_path)\n",
        "    wm = ImageDraw.Draw(img)\n",
        "    col= (9, 3, 10)\n",
        "    wm.text(pos, text, fill=col)\n",
        "    img.show()\n",
        "    img.save(res_path)\n",
        "img = 'initial.jpg'\n",
        "watermark_img(img, 'result.jpg','IshaanGupta', pos=(1, 0))"
      ],
      "metadata": {
        "id": "Ri6EjtVVhWKu"
      },
      "execution_count": null,
      "outputs": []
    },
    {
      "cell_type": "markdown",
      "source": [
        "**Plagiarism Checker**\n",
        "\n",
        "This script checks Plagiarism between two files."
      ],
      "metadata": {
        "id": "yoQFRuHphh90"
      }
    },
    {
      "cell_type": "code",
      "source": [
        "from difflib import SequenceMatcher\n",
        "\n",
        "def plagiarism_checker(f1,f2):\n",
        "    with open(f1,errors=\"ignore\") as file1,open(f2,errors=\"ignore\") as file2:\n",
        "        f1_data=file1.read()\n",
        "        f2_data=file2.read()\n",
        "        res=SequenceMatcher(None, f1_data, f2_data).ratio()\n",
        "print(f\"These files are {res*100} % similar\")\n",
        "f1=input(\"Enter file_1 path: \")\n",
        "f2=input(\"Enter file_2 path: \")\n",
        "plagiarism_checker(f1, f2)"
      ],
      "metadata": {
        "id": "Xnwboq4BheAK"
      },
      "execution_count": null,
      "outputs": []
    },
    {
      "cell_type": "markdown",
      "source": [
        "**File Encrypt and Decrypt**\n",
        "\n",
        "A small script that can Encrypt/Decrypt any file."
      ],
      "metadata": {
        "id": "veQimmM6hqc4"
      }
    },
    {
      "cell_type": "code",
      "source": [
        "from cryptography.fernet import Fernet\n",
        "\n",
        "def encrypt(f_name, key):\n",
        "    fernet = Fernet(key)\n",
        "    \n",
        "    with open(f_name, 'rb') as file:\n",
        "        original = file.read()\n",
        "        \n",
        "    encrypted = fernet.encrypt(original)\n",
        "    \n",
        "    with open(f_name, 'wb') as enc_file:\n",
        "        enc_file.write(encrypted)\n",
        "def decrypt(f_name, key):\n",
        "    fernet = Fernet(key)\n",
        "    \n",
        "    with open(f_name, 'rb') as enc_file:\n",
        "        encrypted = enc_file.read()\n",
        "decrypted = fernet.decrypt(encrypted)\n",
        "    with open(f_name, 'wb') as dec_file:\n",
        "        dec_file.write(decrypted)\n",
        "\n",
        "key = Fernet.generate_key()\n",
        "f_name = input(\"Enter Your filename: \")\n",
        "encrypt(f_name, key)\n",
        "decrypt(f_name, key)"
      ],
      "metadata": {
        "id": "sNO-zWzmhmDG"
      },
      "execution_count": null,
      "outputs": []
    },
    {
      "cell_type": "markdown",
      "source": [
        "**Making URLs short**\n",
        "\n",
        "Sometimes big URLs become very annoying to read and share. This script uses an external API to short the URLs."
      ],
      "metadata": {
        "id": "2u5ti8H_hyWk"
      }
    },
    {
      "cell_type": "code",
      "source": [
        "from __future__ import with_statement\n",
        "\n",
        "import contextlib\n",
        "try:\n",
        "   from urllib.parse import urlencode\n",
        "except ImportError:\n",
        "   from urllib import urlencode\n",
        "try:\n",
        "   from urllib.request import urlopen\n",
        "except ImportError:\n",
        "   from urllib2 import urlopen\n",
        "import sys\n",
        "def make_tiny(url):\n",
        "   request_url = ('http://tinyurl.com/api-create.php?' +\n",
        "   urlencode({'url':url}))\n",
        "   with contextlib.closing(urlopen(request_url)) as response:\n",
        "   return response.read().decode('utf-8')\n",
        "def main():\n",
        "   for tinyurl in map(make_tiny, sys.argv[1:]):\n",
        "      print(tinyurl)\n",
        "if __name__ == '__main__':\n",
        "   main()"
      ],
      "metadata": {
        "id": "IqERNbyNhvNh"
      },
      "execution_count": null,
      "outputs": []
    },
    {
      "cell_type": "markdown",
      "source": [
        "Sending pushes to smartphone\n"
      ],
      "metadata": {
        "id": "baKJkxvOiByQ"
      }
    },
    {
      "cell_type": "code",
      "source": [
        "import requests\n",
        "requests.post('https://api.mynotifier.app', {\n",
        "    \"apiKey\": '****-****-****-****',\n",
        "    \"message\": \"Our first notification!\",\n",
        "    \"description\": \"This is cool\",\n",
        "    \"type\": \"info\", # info, error, warning or success\n",
        "})"
      ],
      "metadata": {
        "id": "c5_cwSmwh3sl"
      },
      "execution_count": null,
      "outputs": []
    },
    {
      "cell_type": "markdown",
      "source": [
        "https://medium.com/mynotifier/python-sending-push-notifications-to-your-phone-feaeedcbaac1"
      ],
      "metadata": {
        "id": "vbAOB_4XiB4U"
      }
    },
    {
      "cell_type": "markdown",
      "source": [
        "**Phone Number Location Tracker**\n",
        "\n",
        "Phone-numbers is the package used to find the phone number location and service provider. You will need to install this package on the terminal using pip install phonenumbers syntax. The package takes the input number, parses it, and validates it. Some essential features of the package are finding the country name of the phone number issuer and service provider for the number and timezone of the phone."
      ],
      "metadata": {
        "id": "eF0gGztoi804"
      }
    },
    {
      "cell_type": "code",
      "source": [
        "import phonenumbers\n",
        "from phonenumbers import geocoder\n",
        "from phonenumbers import carrier\n",
        "from phonenumbers import timezone\n",
        "\n",
        "number = input(\"Enter your phone number\")\n",
        "phone_number = phonenumbers.parse(number)\n",
        "print(geocoder.description_for_number(phone_number, \"en\"))\n",
        "service_provider = phonenumbers.parse(number)\n",
        "print(carrier.name_for_number(service_provider, \"en\"))\n",
        "service_provide = phonenumbers.parse(number)\n",
        "print(timezone.time_zones_for_number(service_provide))                                      "
      ],
      "metadata": {
        "id": "beWRVdUZiIcR"
      },
      "execution_count": null,
      "outputs": []
    },
    {
      "cell_type": "markdown",
      "source": [
        "**Play Music**"
      ],
      "metadata": {
        "id": "sJOR3oeUjJaH"
      }
    },
    {
      "cell_type": "code",
      "source": [
        "from playsound import playsound\n",
        "playsound('sound.mp3')                                                                                   "
      ],
      "metadata": {
        "id": "P-3dUQu4jGKS"
      },
      "execution_count": null,
      "outputs": []
    },
    {
      "cell_type": "markdown",
      "source": [
        "**System Information**\n",
        "\n",
        "Create a Python program to print system information."
      ],
      "metadata": {
        "id": "I-7lhXUHjUfj"
      }
    },
    {
      "cell_type": "code",
      "source": [
        "import platform\n",
        "print(platform.system())\n",
        "print(platform.processor())\n",
        "print(platform.python_build())\n",
        "print(platform.version())\n",
        "print(platform.uname())\n",
        "print(platform.system())\n",
        "print(platform.platform())                                                                                       "
      ],
      "metadata": {
        "id": "QsmWbu17jNUN"
      },
      "execution_count": null,
      "outputs": []
    },
    {
      "cell_type": "markdown",
      "source": [
        "**Internet download speed**\n",
        "\n",
        "Write a Python program to find the internet download speed."
      ],
      "metadata": {
        "id": "nXOUTFbUjgN_"
      }
    },
    {
      "cell_type": "code",
      "source": [
        "import speedtest\n",
        "speed = speedtest.Speedtest()\n",
        "print(f'The download speed is {speed.download()}')                          "
      ],
      "metadata": {
        "id": "VT5IULdTjZTj"
      },
      "execution_count": null,
      "outputs": []
    },
    {
      "cell_type": "markdown",
      "source": [
        "**Font Design**\n",
        "\n",
        "Write a Python program to print with a creative font on the terminal."
      ],
      "metadata": {
        "id": "djzQl-3-jqnk"
      }
    },
    {
      "cell_type": "code",
      "source": [
        "from pyfiglet import Figlet\n",
        "\n",
        "str = Figlet(font=\"slant\")\n",
        "print(str.renderText(\"Python\"))                                             "
      ],
      "metadata": {
        "id": "C3kW7UgAjl9F"
      },
      "execution_count": null,
      "outputs": []
    },
    {
      "cell_type": "markdown",
      "source": [
        "**Top Movies List**\n",
        "\n",
        "Write a Python program to extract the top movies list and print the top five movies from the list."
      ],
      "metadata": {
        "id": "cMgxxY6Ljyw3"
      }
    },
    {
      "cell_type": "code",
      "source": [
        "import imdb\n",
        "\n",
        "movie = imdb.IMDb()\n",
        "search = movie.get_top250_movies()\n",
        "for i in range(5):\n",
        "    print(search[i])                                                        "
      ],
      "metadata": {
        "id": "6L_V5dDmjuYB"
      },
      "execution_count": null,
      "outputs": []
    },
    {
      "cell_type": "markdown",
      "source": [
        "**Google News**\n",
        "\n",
        "A python program to print the top topics on Google News for a particular subject."
      ],
      "metadata": {
        "id": "mTAM0H52j8og"
      }
    },
    {
      "cell_type": "code",
      "source": [
        "import GoogleNews\n",
        "\n",
        "news =GoogleNews.GoogleNews()\n",
        "news.search('Medium Writers')\n",
        "result = news.result()\n",
        "for x in result:\n",
        "    print(\"---\"*10)\n",
        "    print(\"Title\",x['title'])\n",
        "    print(\"Date\", x['date'])                                                   "
      ],
      "metadata": {
        "id": "77psDpB_j4B1"
      },
      "execution_count": null,
      "outputs": []
    },
    {
      "cell_type": "markdown",
      "source": [
        "**Beep Sound**\n",
        "\n",
        "Write A python Program to make a beep sound."
      ],
      "metadata": {
        "id": "Ep10wLygkErS"
      }
    },
    {
      "cell_type": "code",
      "source": [
        "import winsound\n",
        "\n",
        "winsound.Beep(440, 500)                                          "
      ],
      "metadata": {
        "id": "G2dverY5kAwB"
      },
      "execution_count": null,
      "outputs": []
    },
    {
      "cell_type": "markdown",
      "source": [
        "https://levelup.gitconnected.com/8-fantastic-python-programs-with-package-dbc79431e48"
      ],
      "metadata": {
        "id": "YA_tdK9KkLXE"
      }
    },
    {
      "cell_type": "markdown",
      "source": [
        "**Send email with python**\n"
      ],
      "metadata": {
        "id": "J3d9OkuKGSTJ"
      }
    },
    {
      "cell_type": "code",
      "source": [
        "# Automate Emails with Python\n",
        "import imaplib\n",
        "import email\n",
        "import smtplib\n",
        "from email.mime.text import MIMEText\n",
        "from email.mime.multipart import MIMEMultipart\n",
        "# Read Email\n",
        "Email = imaplib.IMAP4_SSL('imap.gmail.com')\n",
        "Email.login('your_username', 'your_password')\n",
        "status, msgs = Email.select('INBOX')    \n",
        "print(\"Status: \", status)\n",
        "for i in range(1, int(msgs[0])):\n",
        "    res, message = Email.fetch(str(i), '(RFC822)')\n",
        "    for r in message:\n",
        "        if isinstance(r, tuple):\n",
        "            message = email.message_from_bytes(r[1])\n",
        "            print (message[\"subject\"])\n",
        "---------------------------------------------------\n",
        "# Send Email\n",
        "Your_Email = \"test@xyz.com\" \n",
        "password = \"your_password\"\n",
        "reciver = \"Sender Mail\" \n",
        "subject = \"Medium Article\"\n",
        "text_msg = \"Hi, Codedev010 here from Medium Article\"\n",
        "msg = MIMEMultipart()\n",
        "msg[\"From\"] = Your_Email\n",
        "msg[\"To\"] = reciver\n",
        "msg[\"Subject\"] = subject\n",
        "msg.attach(MIMEText(text_msg, 'plain'))\n",
        "server = smtplib.SMTP(\"smtp.gmail.com\", 587)\n",
        "server.starttls()\n",
        "server.login(Your_Email, password)\n",
        "MSG = msg.as_string()\n",
        "server.sendmail(Your_Email, reciver, MSG)\n",
        "server.quit()"
      ],
      "metadata": {
        "id": "XPkynuj5GWq9"
      },
      "execution_count": null,
      "outputs": []
    },
    {
      "cell_type": "markdown",
      "source": [
        "**Image Editor**\n",
        "\n",
        "Use this automation script to edit your images programmatically. Below I mention common functions to edit your images like a blur, rotate, flip, merge, etc."
      ],
      "metadata": {
        "id": "w-i9NDrWGapP"
      }
    },
    {
      "cell_type": "code",
      "source": [
        "# Image Editor\n",
        "# pip install pillow\n",
        "from PIL import Image\n",
        "from PIL import ImageDraw\n",
        "# Combine Image\n",
        "img1 = Image.open('img101.jpg')\n",
        "img2 = Image.open('img102.jpg')\n",
        "combine = Image.blend(img1, img2, 0.5)\n",
        "# Resize Image\n",
        "resize = Image.open('img101.jpg')\n",
        "resize = resize.resize((300, 300))\n",
        "# Flip an Image \n",
        "flip_image = Image.open('img101.jpg')\n",
        "flip_image = flip_image.transpose(Image.FLIP_LEFT_RIGHT)\n",
        "# Blur an Image\n",
        "blur_image = Image.open('img101.jpg')\n",
        "blur_image = blur_image.filter(Image.BLUR)\n",
        "# Add Drop Shadow\n",
        "shadow_image = Image.open('img101.jpg')\n",
        "shadow_image = shadow_image.filter(Image.EDGE_ENHANCE_MORE)\n",
        "# Crop an Image\n",
        "crop_image = Image.open('img101.jpg')\n",
        "crop_image = crop_image.crop((50, 50, 300, 200))\n",
        "#Add Brightness\n",
        "bright_image = Image.open('img101.jpg')\n",
        "bright_image = bright_image.point(lambda p: p + 50)\n",
        "# Add Text to Image\n",
        "text_image = Image.open('img101.jpg')\n",
        "text_image = text_image.convert('RGB')\n",
        "draw = ImageDraw.Draw(text_image)\n",
        "draw.text((10, 10), \"Hello World\", (255, 255, 255))\n",
        "# Rotate an Image\n",
        "rotate_image = Image.open('img101.jpg')\n",
        "rotate_image = rotate_image.rotate(90)\n",
        "# Save Image\n",
        "img1.save('img101.jpg')"
      ],
      "metadata": {
        "id": "e_SYsKinGXRT"
      },
      "execution_count": null,
      "outputs": []
    },
    {
      "cell_type": "markdown",
      "source": [
        "**Audio Editor**\n",
        "\n",
        "This automation Script will edit audio files for you. You can extract sounds, merge them, play them, split/cut the sounds and much more. The script uses the Pydub module which is an audio manipulating module. Check out the code below:"
      ],
      "metadata": {
        "id": "Kvsrbb6wGhZA"
      }
    },
    {
      "cell_type": "code",
      "source": [
        "# Audio Editor\n",
        "# pip install pydub\n",
        "from pydub import AudioSegment\n",
        "from pydub.utils import mediainfo\n",
        "from pydub.playback import play\n",
        "# Extract Sound from Video\n",
        "sound = AudioSegment.from_file(\"video.mp4\", format=\"mp4\")\n",
        "sound.export(\"music.mp3\", format=\"mp3\")\n",
        "# Get Media Info\n",
        "info = mediainfo(\"musci.wav\")\n",
        "print(info)\n",
        "# Play Sound\n",
        "play(\"music.mp3\")\n",
        "# Combine Sounds\n",
        "sound1 = AudioSegment.from_file(\"music.mp3\")\n",
        "sound2 = AudioSegment.from_file(\"music.mp3\")\n",
        "combined = sound1 + sound2\n",
        "combined.export(\"music_combined.mp3\", format=\"mp3\")\n",
        "# Split Audio\n",
        "sound = AudioSegment.from_file(\"music.mp3\", format=\"mp3\")\n",
        "sound_1 = sound[:10000]\n",
        "sound_2 = sound[10000:]\n",
        "sound_1.export(\"music_1.mp3\", format=\"mp3\")\n",
        "sound_2.export(\"music_2.mp3\", format=\"mp3\")\n",
        "# Increase or Reduce Volumn\n",
        "sound = AudioSegment.from_file(\"music.mp3\", format=\"mp3\")\n",
        "sound_volumn = sound + 10\n",
        "sound_volumn.export(\"music_volumn.mp3\", format=\"mp3\")\n",
        "# Adding Silence to Audio\n",
        "sound = AudioSegment.from_file(\"music.mp3\", format=\"mp3\")\n",
        "sound_silence = sound + AudioSegment.silent(duration=1000)\n",
        "sound_silence.export(\"music_silence.mp3\", format=\"mp3\")"
      ],
      "metadata": {
        "id": "HnlBlgEnGevN"
      },
      "execution_count": null,
      "outputs": []
    },
    {
      "cell_type": "markdown",
      "source": [
        "**Locked Your Files**\n",
        "\n",
        "Did you need to lock your files so nobody can read them, then this automation script will give you a hand. Script uses a cryptography technique to encrypt your files and when you need to open them you can decrypt them. This is a very secure way to lock your files because decrypting a file without a key is impossible."
      ],
      "metadata": {
        "id": "w6XA3qmwGoG_"
      }
    },
    {
      "cell_type": "code",
      "source": [
        "# Lock Your Files\n",
        "#pip install cryptography\n",
        "from cryptography.fernet import Fernet\n",
        "def Lock_file(file_name, key):\n",
        "    with open(file_name, 'rb') as file:\n",
        "        data = file.read()\n",
        "    f = Fernet(key)\n",
        "    encrypted_data = f.encrypt(data)\n",
        "    with open(file_name, 'wb') as file:\n",
        "        file.write(encrypted_data)\n",
        "    print(\"File Lock...\")\n",
        "def Unlock_file(file_name, key):\n",
        "    with open(file_name, 'rb') as file:\n",
        "        data = file.read()\n",
        "    f = Fernet(key)\n",
        "    decrypted_data = f.decrypt(data)\n",
        "    with open(file_name, 'wb') as file:\n",
        "        file.write(decrypted_data)\n",
        "    print(\"File Unlock...\")\n",
        "key = input(\"Enter the key: \")\n",
        "Lock_file('test.txt', key)\n",
        "Unlock_file('test.txt', key)"
      ],
      "metadata": {
        "id": "3Ys87nVZGlIP"
      },
      "execution_count": null,
      "outputs": []
    },
    {
      "cell_type": "markdown",
      "source": [
        "**Python Mobile Apps**\n",
        "\n",
        "We had Seen Python for developing the Desktop application but do you know you can develop Mobile Applications with Python too. Well, the Kivy module is used for developing Cross-Platform Applications like Android, IOS, and Win. The below script will have the important widgets of Kivy that we will use to develop a beginner App.\n",
        "\n",
        "Note: Once your App is read you can build its Apk with the following module: pip install buildozer"
      ],
      "metadata": {
        "id": "FWmv_Yy3GvWe"
      }
    },
    {
      "cell_type": "code",
      "source": [
        "# Develop Mobile Apps with Kivy\n",
        "# pip install kivy\n",
        "from kivy.app import App\n",
        "from kivy.uix.label import Label\n",
        "from kivy.uix.button import Button\n",
        "from kivy.uix.boxlayout import BoxLayout\n",
        "from kivy.uix.textinput import TextInput\n",
        "from kivy.uix.gridlayout import GridLayout\n",
        "from kivy.uix.scrollview import ScrollView\n",
        "from kivy.uix.checkbox import CheckBox    \n",
        "from kivy.uix.image import Image\n",
        "from kivy.uix.popup import Popup\n",
        "class MobileApp(App):\n",
        "def build(self):\n",
        "  # Layout of App\n",
        "  layout = BoxLayout(orientation=\"vertical\")\n",
        "  # Label \n",
        "  label = Label(text=\"Hello Kivy!\")\n",
        "  # Button\n",
        "  btn = Button(text=\"Click Me!\")\n",
        "  # Button Action\n",
        "  btn.bind(on_press=self.btn_pressed)\n",
        "  # Input Box\n",
        "  input_box = TextInput(hint_text=\"Input Here\",size_hint=(.3,.2))\n",
        "  # Check Box\n",
        "  check_box = CheckBox(text=\"Check Me!\")\n",
        "\n",
        "  # ScrollView\n",
        "  scroll_view = ScrollView()\n",
        "  grid_layout = GridLayout(cols=2, size_hint_y=None)\n",
        "  grid_layout.bind(minimum_height=grid_layout.setter('height'))\n",
        "  # Add Image to App\n",
        "  image = Image(source=\"medium.png\")\n",
        "  # Popup\n",
        "  popup = Popup(title=\"Popup\", size_hint=(.5,.5))\n",
        "\n",
        "  # Add to layout\n",
        "  layout.add_widget(label)\n",
        "  layout.add_widget(btn)\n",
        "  layout.add_widget(input_box)\n",
        "  layout.add_widget(scroll_view)\n",
        "  layout.add_widget(check_box)\n",
        "  layout.add_widget(image)\n",
        "  layout.add_widget(popup)\n",
        "  return layout\n",
        "def btn_pressed(self, instance):\n",
        "  print(\"Button Pressed!\")\n",
        "  # Run the App\n",
        "  app = MobileApp()\n",
        "  app.run()"
      ],
      "metadata": {
        "id": "NTQ2tcezGr51"
      },
      "execution_count": null,
      "outputs": []
    },
    {
      "cell_type": "markdown",
      "source": [
        "**Python Screen Recorder**\n",
        "\n",
        "You can now record desktop screens with Python in 60FPS. This automation script uses multiple modules to do the job, and it’s a very handful who want to Screen record programmatically."
      ],
      "metadata": {
        "id": "pbqZES-BG4Qt"
      }
    },
    {
      "cell_type": "code",
      "source": [
        "import pyautogui\n",
        "import numpy as np\n",
        "import cv2\n",
        "import keyboard\n",
        "# pip install opencv-python\n",
        "# pip install pyautogui\n",
        "# pip install keyboard\n",
        "# pip install numpy\n",
        "def Screen_Recording():\n",
        "    while True:\n",
        "        # Press R to Start Recording\n",
        "        if keyboard.is_pressed('r'):\n",
        "            print(\"Recording Has been Started...\")\n",
        "            # resolution\n",
        "            capture_area = (1920, 1080) \n",
        "            \n",
        "            codec = cv2.VideoWriter_fourcc(*'mp4v')\n",
        "            filename = \"Your_Recording.mp4\"\n",
        "            # Frame per Second\n",
        "            fps = 60.0\n",
        "            output_video = cv2.VideoWriter(filename, codec, fps, capture_area)\n",
        "            while True:\n",
        "                image = pyautogui.screenshot()\n",
        "                Image_frame = np.array(image)\n",
        "                Image_frame = cv2.cvtColor(Image_frame, cv2.COLOR_BGR2RGB)\n",
        "                output_video.write(Image_frame)\n",
        "                cv2.waitKey(1)\n",
        "                # Press Q button to Stop recording\n",
        "                if keyboard.is_pressed('q'):\n",
        "                    print(\"Recording Has been Stopped...\")\n",
        "                    break\n",
        "            output_video.release()\n",
        "            cv2.destroyAllWindows()\n",
        "Screen_Recording()"
      ],
      "metadata": {
        "id": "NokcZmPWGzfX"
      },
      "execution_count": null,
      "outputs": []
    },
    {
      "cell_type": "markdown",
      "source": [
        "**Proofreading with Python**\n",
        "\n",
        "Proofreading is always a costly thing to do but this automation script will let you a hand. This awesome script uses the Gingerit module which is connected to the API of Ginger Grammer checker and a second module Streamlit for creating web apps with less code. It’s a handy script when you have a lot of text or data to proofread programmatically."
      ],
      "metadata": {
        "id": "zJpqcKCxHXz-"
      }
    },
    {
      "cell_type": "code",
      "source": [
        "# Proofreading with Pyton\n",
        "# pip install gingerit\n",
        "# pip install streamlit\n",
        "from gingerit.gingerit import GingerIt\n",
        "import streamlit as webapp\n",
        "app = GingerIt()\n",
        "webapp.title('Proofreading in Python')\n",
        "Text = webapp.text_area(\"Enter Your Text or Sentence:\", value='', height=None, max_chars=None, key=None)\n",
        "if webapp.button('Correct Sentence'):\n",
        "    if Text == '':\n",
        "        webapp.write('Please enter text for proofreading') \n",
        "    else: \n",
        "        correction = app.parse(Text)\n",
        "        webapp.markdown('Corrected Text => ' + str(correction[\"result\"]))"
      ],
      "metadata": {
        "id": "7PUqzn6MG7a_"
      },
      "execution_count": null,
      "outputs": []
    },
    {
      "cell_type": "markdown",
      "source": [
        "**Extract Tables from PDF**\n",
        "\n",
        "This script will simply extract tables from your PDF. This script is very handy for developers and people who are looking for an automated way to extract table content from PDF files. Because nobody like to sit and extract tables one by one from multiple pdf. Check out the code below:"
      ],
      "metadata": {
        "id": "_M6v2xzAHeTu"
      }
    },
    {
      "cell_type": "code",
      "source": [
        "# Extract Tables from Camelot\n",
        "# pip install camelot-py\n",
        "import camelot\n",
        "table = camelot.read_pdf('test.pdf', pages='1-2')\n",
        "# get total number of tables\n",
        "print(\"Total tables: \", table.n) # 2\n",
        "# print table by num\n",
        "print(table[0].df)\n",
        "print(table[1].df)\n",
        "# Export Table to CSV\n",
        "table[0].to_csv('table1.csv')\n",
        "table[1].to_csv('table2.csv')\n",
        "# Export Table to Excel\n",
        "table[0].to_excel('table1.xlsx')\n",
        "# Export Table to HTML\n",
        "table[0].to_html('table1.html')\n",
        "# Extract and Export Table At Once\n",
        "table.export('tables.csv', f='csv', compress=True)\n",
        "# Parse Table Report\n",
        "table[0].parse(['Date', 'Description', 'Amount'])"
      ],
      "metadata": {
        "id": "Dzo7rPUHHb2l"
      },
      "execution_count": null,
      "outputs": []
    },
    {
      "cell_type": "markdown",
      "source": [
        "**Automate MS Excel, Word, and PowerPoint**\n",
        "\n",
        "Did you imagine you can automate MS Office software too with Python? Then this script will let you do that. The script is divided into three parts and each part has a module to read and write the data on MS software."
      ],
      "metadata": {
        "id": "Nup1gjYIHkKr"
      }
    },
    {
      "cell_type": "code",
      "source": [
        "# Automate Excel\n",
        "# pip install xlrd\n",
        "import xlrd\n",
        "wb = xlrd.open_workbook('test.xlsx')\n",
        "worksheet = wb.sheet_by_index(0)\n",
        "# Read by row and col number\n",
        "print(worksheet.cell_value(0, 0))\n",
        "# read whole row\n",
        "print(worksheet.row_values(0))\n",
        "# read whole col\n",
        "print(worksheet.col_values(1))\n",
        "# Write to excel by row and col number\n",
        "worksheet.write(0, 0, 'Hello')\n",
        "wb.save('test.xlsx')\n",
        "-------------------------------------------------\n",
        "# Automate MS WORD\n",
        "# pip install python-docx\n",
        "import docx\n",
        " \n",
        "doc = docx.Document(\"zen_of_python.docx\")\n",
        " \n",
        "# read paragraph by paragraph\n",
        "text = [p.text for p in doc.paragraphs]\n",
        "print(text)\n",
        "# read table by table\n",
        "for table in doc.tables:\n",
        "    for row in table.rows:\n",
        "        for cell in row.cells:\n",
        "            print(cell.text)\n",
        "# Write in Doc\n",
        "doc.add_paragraph(\"Hello World\")\n",
        "doc.save(\"test.docx\")\n",
        "-------------------------------------------------\n",
        "# Automate PowerPoint\n",
        "# pip install python-pptx\n",
        "from pptx import Presentation\n",
        "# Read Slides\n",
        "PP = Presentation('file.pptx')\n",
        "for slide in PP.slides:\n",
        "    for shape in slide.shapes:\n",
        "        for paragraph in shape.text_frame.paragraphs:\n",
        "            for data in paragraph.runs:\n",
        "                print(data.text)\n",
        "# Write in PPT\n",
        "PP = Presentation()\n",
        "title_slide_layout = PP.slide_layouts[0]\n",
        "slide = PP.slides.add_slide(title_slide_layout)\n",
        "title = slide.shapes.title\n",
        "title.text = \"Medium Article\"\n",
        "PP.save('file.pptx')"
      ],
      "metadata": {
        "id": "xZ9LRhbLHhwv"
      },
      "execution_count": null,
      "outputs": []
    },
    {
      "cell_type": "markdown",
      "source": [
        "**Image to PDF**\n",
        "\n",
        "This simple automation script will help you to convert your images to PDF format. Check out the code below."
      ],
      "metadata": {
        "id": "i6MHm60YHsOy"
      }
    },
    {
      "cell_type": "code",
      "source": [
        "# Images to Python\n",
        "from PIL import Image\n",
        "def Images_Pdf(filename, output):\n",
        "  images = []\n",
        "  for file in filename:\n",
        "      im = Image.open(file)\n",
        "      im = im.convert('RGB')\n",
        "      images.append(im)\n",
        "  \n",
        "  images[0].save(output, save_all=True, append_images=images[1:])\n",
        "Images_Pdf([\"test1.jpg\", \"test2.jpg\", \"test3.jpg\"], \"output.pdf\")"
      ],
      "metadata": {
        "id": "ZxLT-ru6Hp7m"
      },
      "execution_count": null,
      "outputs": []
    },
    {
      "cell_type": "markdown",
      "source": [
        "Reference:https://python.plainenglish.io/10-python-automation-scripts-for-your-daily-problems-aefb502969e2"
      ],
      "metadata": {
        "id": "Bc1AmEX0H4Vi"
      }
    },
    {
      "cell_type": "markdown",
      "source": [
        "**Send Good morning texts to your partner**\n",
        "\n",
        "To create the block of code that will automatically send these text messages, We are going to need two important Python libraries, textbelt, and schedule. Below is the code block that you can copy and paste into the code editor of your choice."
      ],
      "metadata": {
        "id": "IdG8pk22HjTD"
      }
    },
    {
      "cell_type": "code",
      "source": [
        "import requests\n",
        "import schedule\n",
        "import time\n",
        "\n",
        "def send_message():\n",
        "  resp = requests.post(\"https://textbelt.com/text\",{\n",
        "      'phone': '+14189557035',\n",
        "      'message': 'hello world',\n",
        "      'key': 'textbeltkey'\n",
        "  })\n",
        "  print(resp.json())\n",
        "\n",
        "  schedule.every().day.at('06:00').do(send_message)"
      ],
      "metadata": {
        "id": "s4ZtriYPHwVQ"
      },
      "execution_count": null,
      "outputs": []
    },
    {
      "cell_type": "markdown",
      "source": [
        "**Automate Instagram**\n",
        "\n",
        "Need an automation Bot for your Instagram that will assist you in Actions like Following, Like, and Comments then this script will let you a hand with it. This awesome script uses the Instapy module with the most useful function you will create a decent Instagram automation bot.\n",
        "\n",
        "\n",
        "It is a handy script for those who need to automate Instagram using Python or need an automation process in Project."
      ],
      "metadata": {
        "id": "v3scdM80JoW5"
      }
    },
    {
      "cell_type": "code",
      "source": [
        "# Automate Instagram\n",
        "# pip install instapy\n",
        "from instapy import *\n",
        "# Make a login\n",
        "s = InstaPy(username='Enter User', password='Enter Pass')\n",
        "s.login()\n",
        "# Like a Post by tags\n",
        "s.set_user_interact(amount=3, randomize=True, percentage=100, media='Photo')\n",
        "s.like_by_tags(['Car', 'bmw'], amount=5)\n",
        "# Like a Post by Feed\n",
        "s.like_by_feed(amount=5)\n",
        "# Don't like the post\n",
        "s.set_dont_like(['boring'])\n",
        "# Comment on Post\n",
        "s.set_do_comment(True, percentage=100)\n",
        "s.set_comments(['Nice!', 'Cool', 'Awesome'])\n",
        "# Follow the user\n",
        "s.set_do_follow(True, percentage=100)\n",
        "# Follow by Tags\n",
        "s.follow_by_tags(['Car', 'bmw'], amount=5)\n",
        "# Follow by usernames\n",
        "s.follow_by_list(['username1', 'username2'], times=1, sleep_delay=300, interact=False)\n",
        "# Follow Someone Friends\n",
        "s.follow_user_followers(['username1', 'username2'], amount=5, randomize=False, interact=False)\n",
        "# Follow Likers of Post\n",
        "s.follow_likers(['username1' , 'username2'], photos_grab_amount = 3, follow_likers_per_photo = 2, randomize=True, sleep_delay=300, interact=False)\n",
        "# Follow Commenters of Post\n",
        "s.follow_commenters(['username1' , 'username2'], photos_grab_amount = 3, follow_commenters_per_photo = 2, randomize=True, sleep_delay=300, interact=False)\n",
        "# Unfollow user\n",
        "s.unfollow_users(amount=10, InstapyFollowed=(True, \"nonfollowers\"), style=\"FIFO\", unfollow_after=12*60*60, sleep_delay=300)\n",
        "# Like, Comment Follow\n",
        "s.interact_by_URL(urls = [\"url1\", \"url2\"], randomize=True, interact=False, media='Photo')\n",
        "# End Session \n",
        "s.end()"
      ],
      "metadata": {
        "id": "2ToSWPbyIRwA"
      },
      "execution_count": null,
      "outputs": []
    },
    {
      "cell_type": "markdown",
      "source": [
        "**Automate PDF Files**\n",
        "\n",
        "This Automation Script will give you hand in automating the PDF files. You can read PDF, extract text or even create and modify PDF with the below script. It uses popular PdfPlumber and Reportlab modules.\n",
        "\n",
        "\n",
        "It is a killer script for those who want to work with PDF files programmatically"
      ],
      "metadata": {
        "id": "8Y78RZniJ1fa"
      }
    },
    {
      "cell_type": "code",
      "source": [
        "# Automating PDF\n",
        "# pip install pdfplumber\n",
        "# pip install pandas\n",
        "# pip install reportlab\n",
        "import pdfplumber\n",
        "import pandas as pd\n",
        "from reportlab.pdfgen.canvas import Canvas\n",
        "from reportlab.platypus import SimpleDocTemplate, Table, TableStyle\n",
        "from reportlab.lib.pagesizes import letter\n",
        "# READ PDF\n",
        "# Extract Text\n",
        "filename = 'test.pdf'\n",
        "with pdfplumber.open(filename) as pdf:\n",
        "    for p in pdf.pages:\n",
        "        print(p.extract_text())\n",
        "# Extract Tables\n",
        "with pdfplumber.open(filename) as pdf:\n",
        "    for p in pdf.pages:\n",
        "        table = p.extract_tables()\n",
        "        pd.DataFrame(table[1::],columns=table[0]).to_csv('test.csv')\n",
        "\n",
        "# CREATE PDF\n",
        "pdf = Canvas('test.pdf')\n",
        "# Set Title\n",
        "pdf.setTitle('Test')\n",
        "# Add Text on PDF\n",
        "pdf.drawString(100,100,'Medium')\n",
        "pdf.save()\n",
        "# Set Page Size\n",
        "pdf = Canvas('test.pdf',pagesize=(200,200))\n",
        "# Set Font Size\n",
        "pdf.setFont('Helvetica',20)\n",
        "# Add Images \n",
        "pdf.drawImage('test.png',0,0,200,200)\n",
        "# Add text to Center\n",
        "pdf.drawCentredString(100,100,'Medium')\n",
        "# Add text to Right\n",
        "pdf.drawRightString(100,100,'Medium')\n",
        "# Add text to Left\n",
        "pdf.drawString(100,100,'Medium')\n",
        "# save PDF\n",
        "pdf.save()\n",
        "# Add Tables\n",
        "doc = SimpleDocTemplate(\"simple_table.pdf\", pagesize=letter)\n",
        "table = []\n",
        "data = [['col1', 'col2', 'col3'],[1,2,3],[4,5,6]]\n",
        "table.append(Table(data))\n",
        "doc.build(table)"
      ],
      "metadata": {
        "id": "huG4yUo_JtfV"
      },
      "execution_count": null,
      "outputs": []
    },
    {
      "cell_type": "markdown",
      "source": [
        "**Automate Photo Editing**\n",
        "\n",
        "Edit your photos programmatically by using the below script. The script uses Scikit-image which is well famous for its image manipulation. Below I coded the list of functions that you can use it.\n",
        "\n",
        "\n",
        "The Script is a handful of code for those who need to automate photo editing."
      ],
      "metadata": {
        "id": "hOSeGdWMJ9Xo"
      }
    },
    {
      "cell_type": "code",
      "source": [
        "# Automate Photo Editing\n",
        "# pip install scikit-image\n",
        "import skimage\n",
        "# Open Image\n",
        "img = skimage.io.imread('test0.png')\n",
        "# Rotate Photo\n",
        "img_rot = skimage.transform.rotate(img, 90)\n",
        "# Sharpen Photo\n",
        "img_sharpen = skimage.filters.sharpen(img)\n",
        "# Flip Photo\n",
        "img_flip = skimage.transform.flipud(img)\n",
        "# Greyscale Photo\n",
        "img_grey = skimage.color.rgb2gray(img)\n",
        "# Resize Your Photo\n",
        "img_resize = skimage.transform.resize(img, (100, 100))\n",
        "# Crop Photo\n",
        "img_crop = skimage.transform.crop(img, (100, 100, 200, 200))\n",
        "# Blur Photo\n",
        "img_blur = skimage.filters.gaussian(img, sigma=2)\n",
        "# Combine Images\n",
        "img_combine = skimage.io.concatenate_images([img1, img2])\n",
        "# Save Photo\n",
        "skimage.io.imsave('test_rot.png', img_rot)"
      ],
      "metadata": {
        "id": "Lb1Snj-oJ6QG"
      },
      "execution_count": null,
      "outputs": []
    },
    {
      "cell_type": "markdown",
      "source": [
        "**Automate Email and SMS**\n",
        "\n",
        "This awesome automation script will help you automate Emails and SMS using Python. This script uses Twillio the popular SMS sending API which has cheap rates for developers. Next, we have Smtplib module for sending Gmail, Yahoo Mail, or any third-party emails.\n",
        "\n",
        "\n",
        "Below Script have everything you need to make an awesome email and SMS automation bot. Check it out now."
      ],
      "metadata": {
        "id": "XK4edbwTKF70"
      }
    },
    {
      "cell_type": "code",
      "source": [
        "# Automate Email and SMS\n",
        "# pip install twilio\n",
        "import smtplib\n",
        "import ssl\n",
        "from twilio.rest import Client\n",
        "def Send_Email():\n",
        "    smtp_server = \"smtp.gmail.com\"\n",
        "    sender = \"my_email.com\"\n",
        "    receiver = \"your_email.com\"\n",
        "    password = \"myPass\"\n",
        "    msg = \"\"\"\\\n",
        "    Subject: Hi!\n",
        "    Test Message from Medium\"\"\"\n",
        "    c = ssl.create_default_context()\n",
        "    with smtplib.SMTP(smtp_server, 587) as s:\n",
        "        s.ehlo()  \n",
        "        s.starttls(context=c)\n",
        "        s.ehlo()\n",
        "        s.login(sender, password)\n",
        "        s.sendmail(sender, receiver, msg)\n",
        "def Send_SMS():\n",
        "    acc_sid = \"my_account_sid\"\n",
        "    token = \"my_auth_token\"\n",
        "    client = Client(acc_sid, token)\n",
        "    sms = client.messages.create(\n",
        "            body=\"Message From Medium Article\",\n",
        "            from_=\"+123456\",\n",
        "            to=\"+123456789\")\n",
        "    \n",
        "    print(sms.sid)"
      ],
      "metadata": {
        "id": "mGc84moXKCh9"
      },
      "execution_count": null,
      "outputs": []
    },
    {
      "cell_type": "markdown",
      "source": [
        "**Automate CSV and Excel**\n",
        "\n",
        "Now you can Automate your CSV and Excel sheet with help of this automation Script. It uses the popular pyexcel module and built-in CSV module. I also mention the top methods that you will need in automating CSV and Excel in the below script.\n",
        "\n",
        "\n",
        "It's a complete handy script for those who want to automate Excel or CSV in their project or daily tasks."
      ],
      "metadata": {
        "id": "3FZBUAsmKPDt"
      }
    },
    {
      "cell_type": "code",
      "source": [
        "# Automate Excel and CSV\n",
        "# pip install pyexcel\n",
        "import pyexcel\n",
        "import csv\n",
        "# READ EXCEL\n",
        "data = pyexcel.get_array(file_name=\"excel.xlsx\")\n",
        "print(data)\n",
        "# Read by Col\n",
        "data = pyexcel.get_array(file_name=\"excel.xlsx\", start_col=1, end_col=2)\n",
        "print(data)\n",
        "# Read by Row\n",
        "data = pyexcel.get_array(file_name=\"excel.xlsx\", start_row=1, end_row=2)\n",
        "print(data)\n",
        "# Read Cell\n",
        "data = pyexcel.get_cell(file_name=\"excel.xlsx\", row=1, col=1)\n",
        "print(data)\n",
        "# Read Sheet\n",
        "data = pyexcel.get_sheet(file_name=\"excel.xlsx\", name=\"Sheet1\")\n",
        "# WRITE EXCEL\n",
        "data = [[1,2,3],[4,5,6],[7,8,9]]\n",
        "# Add Data to Excel\n",
        "pyexcel.save_as(array=data, dest_file_name=\"test.xlsx\")\n",
        "# Add Data to specific Cell\n",
        "pyexcel.save_as(array=data, dest_file_name=\"test.xlsx\", dest_sheet_name=\"Sheet1\", dest_start_row=1, dest_start_column=1)\n",
        "\n",
        "# READ CSV\n",
        "reader = csv.reader(open('test.csv'))\n",
        "for row in reader:\n",
        "    print(row)\n",
        "# Read by Col\n",
        "reader = csv.reader(open('test.csv'))\n",
        "for row in reader:\n",
        "    print(row[\"Name\"], row[\"Age\"])\n",
        "# WRITE CSV\n",
        "writer = csv.writer(open('test.csv', 'w'))\n",
        "writer.writerow(['Name', 'Age'])\n",
        "writer.writerow(['John', '25'])\n",
        "writer.writerow(['Jane', '26'])\n",
        "# Write multiple rows \n",
        "rows_data = [['Name', 'Age'], ['John', '25'], ['Jane', '26']]\n",
        "writer.writerows(rows_data)"
      ],
      "metadata": {
        "id": "1XH61LvBKKZU"
      },
      "execution_count": null,
      "outputs": []
    },
    {
      "cell_type": "markdown",
      "source": [
        "**Automate Video Editing**\n",
        "\n",
        "Make your video editing automatic by using this awesome automation script which uses the famous MoviePy module. In the Below script, I added the method like timing, adding sound, adding transition, flip, making videos from images and etc.\n",
        "\n",
        "\n",
        "It’s an awesome handy script for developers who want to automate their video editing or need automation in their projects:"
      ],
      "metadata": {
        "id": "koEiFpjLKXRh"
      }
    },
    {
      "cell_type": "code",
      "source": [
        "# Automate Video Editing \n",
        "# pip install moviepy\n",
        "import moviepy.editor as mp\n",
        "# Load video file\n",
        "video = mp.VideoFileClip(\"test.mp4\")\n",
        "# Get Info about video\n",
        "print(video.duration)\n",
        "print(video.fps)\n",
        "# Get Audio Info from video\n",
        "audio = video.audio\n",
        "print(audio.duration)\n",
        "# Extract Audio from video\n",
        "aud = video.audio\n",
        "aud.write_audiofile(\"test_audio.mp3\")\n",
        "# Concatenate two videos\n",
        "vid1 = mp.VideoFileClip(\"test.mp4\")\n",
        "vid2 = mp.VideoFileClip(\"test2.mp4\")\n",
        "conc = mp.concatenate_videoclips([vid1, vid2])\n",
        "conc.write_videofile(\"Merged_Video.mp4\")\n",
        "# Reverse a video\n",
        "rev = mp.VideoFileClip(\"test.mp4\").fx(mp.vfx.time_mirror)\n",
        "rev.write_videofile(\"Reverse_Video.mp4\")\n",
        "# Speed up and down a video\n",
        "spd = mp.VideoFileClip(\"test.mp4\").fx(mp.vfx.speedx, 2)\n",
        "spd.write_videofile(\"Speed_Video.mp4\")\n",
        "# Trim a video\n",
        "trim = mp.VideoFileClip(\"test.mp4\").subclip(0, 5)\n",
        "trim.write_videofile(\"Trim_Video.mp4\")\n",
        "# Resize a video\n",
        "resize = mp.VideoFileClip(\"test.mp4\").resize(height=360)\n",
        "resize.write_videofile(\"Resize_Video.mp4\")\n",
        "# Flip a video\n",
        "flip = mp.VideoFileClip(\"test.mp4\").fx(mp.vfx.mirror_x)\n",
        "flip.write_videofile(\"Flip_Video.mp4\")\n",
        "# Add Audio to a video\n",
        "add_audio = mp.VideoFileClip(\"test_video.mp4\")\n",
        "add_audio.write_videofile(\"Set_Audio_Video.mp4\")\n",
        "# Convert Images to video\n",
        "images = [mp.ImageClip(img) for img in [\"test.jpg\", \"test2.jpg\"]]\n",
        "convert = mp.concatenate_videoclips(images)\n",
        "convert.write_videofile(\"Convert_Images_to_Video.mp4\")\n",
        "# Add Transition between two videos\n",
        "transition = mp.VideoFileClip(\"test.mp4\")\n",
        "transition = transition.fx(mp.vfx.loop, duration=5)\n",
        "transition = transition.fx(mp.vfx.fadein, duration=5)\n",
        "transition = transition.fx(mp.vfx.fadeout, duration=5)\n",
        "transition.write_videofile(\"Transition_Video.mp4\")"
      ],
      "metadata": {
        "id": "hOF2b8viKTwG"
      },
      "execution_count": null,
      "outputs": []
    },
    {
      "cell_type": "markdown",
      "source": [
        "**Automate File Management**\n",
        "\n",
        "Now you can automate your file management in Python by using the below automation script. The script uses the built-in modules and you are free to drag and drop the code in your project."
      ],
      "metadata": {
        "id": "i2F_r4ZxKfy8"
      }
    },
    {
      "cell_type": "code",
      "source": [
        "# Automate File Management\n",
        "import os\n",
        "import shutil\n",
        "import glob\n",
        "# Move Files\n",
        "def move_files(source, dest):\n",
        "    for file in glob.glob(source):\n",
        "        shutil.move(file, dest)\n",
        "# Copy Files\n",
        "def copy_files(source, dest):\n",
        "    for file in glob.glob(source):\n",
        "        shutil.copy(file, dest)\n",
        "# Delete Files\n",
        "def delete_files(source):\n",
        "    for file in glob.glob(source):\n",
        "        os.remove(file)\n",
        "# Rename Files\n",
        "def rename_files(source, dest):\n",
        "    for file in glob.glob(source):\n",
        "        os.rename(file, dest)\n",
        "# Create Folders\n",
        "def create_folders(source):\n",
        "    for folder in glob.glob(source):\n",
        "        os.mkdir(folder)\n",
        "# Delete Folders\n",
        "def delete_folders(source):\n",
        "    for folder in glob.glob(source):\n",
        "        os.rmdir(folder)\n",
        "# Rename Folders\n",
        "def rename_folders(source, dest):\n",
        "    for folder in glob.glob(source):\n",
        "        os.rename(folder, dest)\n",
        "# Search Files\n",
        "def search_files(source, search):\n",
        "    for file in glob.glob(source):\n",
        "        if search in file:\n",
        "            print(file)\n",
        "# List Files in Directory\n",
        "def list_files(source):\n",
        "    for file in glob.glob(source):\n",
        "        print(file)"
      ],
      "metadata": {
        "id": "8kDQzBcTKbuu"
      },
      "execution_count": null,
      "outputs": []
    },
    {
      "cell_type": "markdown",
      "source": [
        "**Automate Websites**\n",
        "\n",
        "Suppose you want to fill a form and you do it daily with the same data. Then why not do it with web automation. This script will help you to automate your website by using the popular Selenium module.\n",
        "\n",
        "\n",
        "Below you can find the coded script with important functions. This script is special for web automators who need some ready-made code for their projects."
      ],
      "metadata": {
        "id": "XFrH6gumKnIA"
      }
    },
    {
      "cell_type": "code",
      "source": [
        "# Automate WebSites\n",
        "# pip install Selenium\n",
        "from selenium.webdriver.common.by import By\n",
        "from selenium.webdriver.support.ui import WebDriverWait\n",
        "from selenium.webdriver.support import expected_conditions as EC\n",
        "from selenium import webdriver\n",
        "from selenium.webdriver.common.keys import Keys\n",
        "# Launch Website\n",
        "browser = webdriver.Firefox()\n",
        "browser.get('http://www.medium.com')\n",
        "# Find Element by Class\n",
        "browser.find_element_by_class_name('button-green')\n",
        "# Find Element by ID\n",
        "browser.find_element_by_id('email')\n",
        "# Find Element by Xpath\n",
        "browser.find_element_by_xpath('//*[@id=\"email\"]')\n",
        "# Find Element by CSS Selector\n",
        "browser.find_element_by_css_selector('#email')\n",
        "# Click on Element\n",
        "browser.find_element_by_id('email').click()\n",
        "# Send Keys or Type\n",
        "browser.find_element_by_id('email').send_keys('Data')\n",
        "# Press Keys\n",
        "browser.find_element_by_id('email').send_keys(Keys.HOME)\n",
        "browser.find_element_by_id('email').send_keys(Keys.CONTROL + 'a')\n",
        "# Wait for Element to Appear\n",
        "WebDriverWait(browser, 10).until(EC.presence_of_element_located((By.ID, 'email')))\n",
        "# Extract Extract\n",
        "browser.find_element_by_id('email').get_attribute('value')\n",
        "# Close Browser\n",
        "browser.close()\n",
        "# Quit Browser\n",
        "browser.quit()"
      ],
      "metadata": {
        "id": "10vGMuE9Kj_P"
      },
      "execution_count": null,
      "outputs": []
    },
    {
      "cell_type": "markdown",
      "source": [
        "**Automate Keyboard and Mouse**\n",
        "\n",
        "Did you ever need to perform the same actions with your keyboard and mouse over and over again then why not make it automatic. This automation script presents you with automation of the keyboard and mouse with Python.\n",
        "\n",
        "Below the script, i coded the top functions that you need in your project or creating an automation bot."
      ],
      "metadata": {
        "id": "T4ZVoTB1KzWn"
      }
    },
    {
      "cell_type": "code",
      "source": [
        "# Automate Keyboard and Mouse\n",
        "# pip install keyboard\n",
        "# pip install mouse\n",
        "import re\n",
        "import keyboard\n",
        "import mouse\n",
        "# Automate Keyboard\n",
        "keyboard.press_and_release('ctrl+shift+q')\n",
        "keyboard.write('Medium')\n",
        "keyboard.is_pressed('q')\n",
        "keyboard.wait('q')\n",
        "record = keyboard.record(until='q')\n",
        "keyboard.play(record, speed_factor=1)\n",
        "\n",
        "# Automate Mouse\n",
        "print(mouse.get_position())\n",
        "mouse.click(button='left')\n",
        "mouse.double_click(button='left')\n",
        "mouse.right_click()\n",
        "mouse.press(button='left')\n",
        "mouse.release(button='left')\n",
        "mouse.wheel(1)\n",
        "mouse.move(100, 100)\n",
        "mouse.drag(100, 100, 100, 100)\n",
        "mouse.record(button='left', target_types='click')"
      ],
      "metadata": {
        "id": "PFTVip5JKrXB"
      },
      "execution_count": null,
      "outputs": []
    },
    {
      "cell_type": "markdown",
      "source": [
        "Ref: https://python.plainenglish.io/9-killer-python-automation-scripts-for-daily-problems-c1715ed42ed5"
      ],
      "metadata": {
        "id": "fTGS8LQgK5nX"
      }
    },
    {
      "cell_type": "markdown",
      "source": [
        "**Python QrCode**\n",
        "\n",
        "This excellent automation script will help you to create Qrcode for your links. The script uses the Pyqrcode module and Png module. It’s a handy script when you need to store your links in a form of Qr Image. Must try it."
      ],
      "metadata": {
        "id": "O5ExqOROz_dc"
      }
    },
    {
      "cell_type": "code",
      "source": [
        "# Python QrCode\n",
        "# pip install pyqrcode\n",
        "# pip install pypng\n",
        "import pyqrcode\n",
        "import png\n",
        "link = \"https://medium.com/\"\n",
        "qr = pyqrcode.create(link)\n",
        "# save in png\n",
        "qr.png('qr.png', scale=6)\n",
        "# save in svg\n",
        "qr.svg('qr.svg', scale=6)\n",
        "# save in png with low error correction\n",
        "qr.png('qr_low.png', scale=6, module_color='red', background='white', quiet_zone=1)"
      ],
      "metadata": {
        "id": "IpwHljETK3Rb"
      },
      "execution_count": null,
      "outputs": []
    },
    {
      "cell_type": "markdown",
      "source": [
        "**PDF to DOC**\n",
        "\n",
        "Now convert your PDF files into DOCX format by using the following scripts in the below script, you will get the important functions that you will need in conversion.\n",
        "\n",
        "Fully handy scripts when you need to convert a bunch of PDFs to DOC programmatically:"
      ],
      "metadata": {
        "id": "4ZV1lQ1b0SfL"
      }
    },
    {
      "cell_type": "code",
      "source": [
        "# PDF 2 Doc\n",
        "# pip install pdf2docx\n",
        "from pdf2docx import Converter\n",
        "from pdf2docx import parse\n",
        "# Method 1: Convert PDF to Docx\n",
        "conv = Converter(\"test.pdf\")\n",
        "conv.convert(\"output.docx\")\n",
        "conv.close()\n",
        "# Convert Specific Pages\n",
        "conv = Converter(\"test.pdf\")\n",
        "conv.convert(\"output.docx\", start=1, end=2)\n",
        "# Convert Custom Pages\n",
        "conv = Converter(\"test.pdf\")\n",
        "conv.convert(\"output.docx\", pages=[1, 3, 5])\n",
        "# Multiprocess the Work\n",
        "conv = Converter(\"test.pdf\")\n",
        "conv.convert(\"output.docx\", multiprocess=True)\n",
        "# Convert Encryted PDF\n",
        "conv = Converter(\"test.pdf\", password=\"password\")\n",
        "conv.convert(\"output.docx\")\n",
        "# Method 2: Convert PDF to Docx\n",
        "conv = parse(\"test.pdf\", \"output.docx\")"
      ],
      "metadata": {
        "id": "qydO1L6k0R00"
      },
      "execution_count": null,
      "outputs": []
    },
    {
      "cell_type": "markdown",
      "source": [
        "**Text To Speech(TTS)**\n",
        "\n",
        "Need an AI assistant like Alexa and Siri then my friend you need Text to speech technology for it and this script will tell you how to use TTS in Python."
      ],
      "metadata": {
        "id": "V6iDt6_l0bpJ"
      }
    },
    {
      "cell_type": "code",
      "source": [
        "# pip install pyttsx3\n",
        "import pyttsx3 as ptts\n",
        "def Male_Voice(text):\n",
        "    eng = ptts.init()\n",
        "    eng.say(text)\n",
        "    eng.runAndWait()\n",
        "def Female_Voice(text):\n",
        "    eng = ptts.init()\n",
        "    voices = eng.getProperty('voices')\n",
        "    eng.setProperty('voice', voices[-1].id)\n",
        "    eng.say(text)\n",
        "    eng.runAndWait()\n",
        "Male_Voice(\"Hi their its a male voice\")\n",
        "Female_Voice(\"Hi their its a Female voice\")"
      ],
      "metadata": {
        "id": "tPXT1x2o0Gvy"
      },
      "execution_count": null,
      "outputs": []
    },
    {
      "cell_type": "markdown",
      "source": [
        "https://python.plainenglish.io/5-killer-python-scripts-to-automate-your-problems-8f53beefb33b"
      ],
      "metadata": {
        "id": "9NLT1tse0p2-"
      }
    },
    {
      "cell_type": "markdown",
      "source": [
        "**Movie Recommender**\n",
        "\n",
        "Do you know Python can recommend you the Movies too? This advanced script will be interesting for you because it will be a Movie recommender that you a database to recommend a good movie for your Spare time. Check out the code below!"
      ],
      "metadata": {
        "id": "OEMPR5cpHLWs"
      }
    },
    {
      "cell_type": "code",
      "source": [
        "# Movie_Recommendation System\n",
        "import numpy as np\n",
        "import lightfm\n",
        "import os\n",
        "from lightfm.datasets import fetch_movielens\n",
        "def movie_recommender():\n",
        "    movie_dataset = fetch_movielens(min_rating = 4.0)\n",
        "    model = lightfm.LightFM(loss = 'warp')\n",
        "    model.fit(movie_dataset['train'], epochs=30, num_threads=2)\n",
        "    temp, movies = movie_dataset['train'].shape\n",
        "    scores = model.predict(1, np.arange(movies))\n",
        "    top_movies = movie_dataset['item_labels'][np.argsort(-scores)]\n",
        "    print()\n",
        "    print(\"  Recommended Movies:\")\n",
        "    for x in top_movies[:10]:\n",
        "        print(\"      %s\" % x)\n",
        "            \n",
        "movie_recommender()"
      ],
      "metadata": {
        "id": "nD2dE4Tm0guJ"
      },
      "execution_count": null,
      "outputs": []
    },
    {
      "cell_type": "markdown",
      "source": [
        "**Spelling checker**\n",
        "\n",
        "You probably use different software or web app to correct your Spellings in your text. This awesome script will do the same spelling checker work but in Pythoneer way. checkout the below code."
      ],
      "metadata": {
        "id": "GVeR7-VLHX2x"
      }
    },
    {
      "cell_type": "code",
      "source": [
        "# Spelling Checker\n",
        "# Method 1\n",
        "import textblob\n",
        "text = \"mussage\"\n",
        "print(\"original text: \" + str(text))\n",
        "checked = textblob.TextBlob(text)\n",
        "print(\"corrected text: \" + str(checked.correct()))\n",
        "#Method 2\n",
        "import autocorrect\n",
        "#Spell Checking with english language\n",
        "spell = autocorrect.Speller(lang='en')\n",
        "print(spell('cmputr'))\n",
        "print(spell('watr'))\n",
        "print(spell('survice'))"
      ],
      "metadata": {
        "id": "PcTjw7KQHQqD"
      },
      "execution_count": null,
      "outputs": []
    },
    {
      "cell_type": "markdown",
      "source": [
        "**Take Screenshots**\n",
        "\n",
        "This script will simply take screenshots without using any screenshot software. In the below code I had shown two methods to take screenshots from Python."
      ],
      "metadata": {
        "id": "2aFpKkWBHjA-"
      }
    },
    {
      "cell_type": "code",
      "source": [
        "# pip install mss\n",
        "#method 1 \n",
        "from mss import mss\n",
        "with mss() as screenshot:\n",
        "    screenshot.shot(output='scr.png')\n",
        "#method 2\n",
        "import PIL.ImageGrab\n",
        "scr = PIL.ImageGrab.grab()\n",
        "scr.save(\"scr.png\")"
      ],
      "metadata": {
        "id": "CYpn9dRhHeJo"
      },
      "execution_count": null,
      "outputs": []
    },
    {
      "cell_type": "markdown",
      "source": [
        "**Send Sms**\n",
        "\n",
        "Python helps us a lot to send Emails but do you know you can send an SMS or MMS too. This advanced script will help you do that, It uses a Twilio module in which you require key and auth token.\n",
        "\n",
        "You can get this from the Twilio website with their very cheap rates starting from 0.0075 to 0.0100 per SMS."
      ],
      "metadata": {
        "id": "-xiZp6Y8HsC2"
      }
    },
    {
      "cell_type": "code",
      "source": [
        "# Send Sms\n",
        "from twilio.rest import Client\n",
        "key = \"Enter Account Key\"\n",
        "auth_token = \"Enter Token\"\n",
        "client = Client(key, auth_token)\n",
        "msg = client.messages.create(\n",
        "    body='Your Text Message',\n",
        "    from_='+123456789',\n",
        "    to='+123456789'\n",
        "    )\n",
        "print(msg.sid)"
      ],
      "metadata": {
        "id": "6UD-9iSdHoWF"
      },
      "execution_count": null,
      "outputs": []
    },
    {
      "cell_type": "markdown",
      "source": [
        "**Get CPU Temp**\n",
        "\n",
        "Want to check the temperature of your Cpu programmatically then try this script. Now you don’t need any software to know the temp of your CPU just run the below script."
      ],
      "metadata": {
        "id": "GNa_HgCUH25S"
      }
    },
    {
      "cell_type": "code",
      "source": [
        "# CPU Temp\n",
        "from time import sleep\n",
        "from pyspectator.processor import Cpu\n",
        "cpu = Cpu(monitoring_latency=1)\n",
        "with cpu:\n",
        "    while True:\n",
        "        print(f'Temp: {cpu.temperature} °C')        \n",
        "        sleep(2)"
      ],
      "metadata": {
        "id": "DOkSXbZwHwTA"
      },
      "execution_count": null,
      "outputs": []
    },
    {
      "cell_type": "markdown",
      "source": [
        "**Convert Image to Sketch**\n",
        "\n",
        "You probably use different software to convert your photo into a sketch. But this simple advanced script will convert any Image to Sketch form in just a second. The script uses the OpenCV module which you need to manually install with Pip. Check out the code below!"
      ],
      "metadata": {
        "id": "NtfEY8hzH_aV"
      }
    },
    {
      "cell_type": "code",
      "source": [
        "# Image to Sketch\n",
        "import cv2\n",
        "img=cv2.imread(\"img.jpg\")\n",
        "grey=cv2.cvtColor(img, cv2.COLOR_BGR2GRAY)\n",
        "invert=cv2.bitwise_not(grey)\n",
        "blur_img=cv2.GaussianBlur(invert, (7,7),0)\n",
        "inverse_blur=cv2.bitwise_not(blur_img)\n",
        "sketch_img=cv2.divide(grey, inverse_blur, scale=256.0)\n",
        "cv2.imwrite('sketch.jpg', sketch_img)\n",
        "cv2.waitKey(0)\n",
        "cv2.destroyAllWindows()"
      ],
      "metadata": {
        "id": "NiTtL9EAH6q-"
      },
      "execution_count": null,
      "outputs": []
    },
    {
      "cell_type": "markdown",
      "source": [
        "**Excel Sheet Merger**\n",
        "\n",
        "This Advanced script will help you to merge many excel sheets into one. This comes in handy when you need to merge 1000 sheets into one excel. Check out the below script."
      ],
      "metadata": {
        "id": "W8k9Mej2IIFj"
      }
    },
    {
      "cell_type": "code",
      "source": [
        "import pandas as pd\n",
        "filename = \"Enter Filename\"\n",
        "T_sheets = \"Enter no of Sheets\" # like 10 or 300\n",
        "df = []\n",
        "for i in range(1, T_sheets+1):\n",
        "    sheet_data = pd.read_excel(filename, sheetname = 'Table '+str(i), header=None) \n",
        "    df.append(sheet_data)\n",
        "output = \"merged.xlsx\"\n",
        "df = pd.concat(df)\n",
        "df.to_excel(output)"
      ],
      "metadata": {
        "id": "jmo01nEmICxr"
      },
      "execution_count": null,
      "outputs": []
    },
    {
      "cell_type": "markdown",
      "source": [
        "**Get PC Specs**\n",
        "\n",
        "This Simple advanced script will show you the Specs of Your PC. You need to install the WMI module for this and you can read their documentation to explore more features."
      ],
      "metadata": {
        "id": "bAWO7I2PIysB"
      }
    },
    {
      "cell_type": "code",
      "source": [
        "# PC Specs\n",
        "import wmi\n",
        "def System_spec():\n",
        "    Pc = wmi.WMI()\n",
        "    os_info = Pc.Win32_OperatingSystem()[0]\n",
        "    processor = Pc.Win32_Processor()[0]\n",
        "    Gpu = Pc.Win32_VideoController()[0]\n",
        "    os_name = os_info.Name.encode('utf-8').split(b'|')[0]\n",
        "    ram = float(os_info.TotalVisibleMemorySize) / 1048576\n",
        "    print(f'OS Name: {os_name}')\n",
        "    print(f'CPU: {processor.Name}')\n",
        "    print(f'RAM: {ram} GB')\n",
        "    print(f'Graphics Card: {Gpu.Name}')\n",
        "    print(\"System Specs are below\")\n",
        "System_spec()"
      ],
      "metadata": {
        "id": "J6WCaZycIaz-"
      },
      "execution_count": null,
      "outputs": []
    },
    {
      "cell_type": "markdown",
      "source": [
        "**Encrypt PDF**\n",
        "\n",
        "Need Password protection for your PDF or want to automate the encryption of 100 or more PDFs then this script will save your time. I had used pikepdf module which will help you encrypt any pdf."
      ],
      "metadata": {
        "id": "Zy3UaMRHJD-D"
      }
    },
    {
      "cell_type": "code",
      "source": [
        "# PDF Encryption\n",
        "import pikepdf\n",
        "pdf = pikepdf.open(\"test.pdf\")    \n",
        "pdf.save('encrypt.pdf', encryption=pikepdf.Encryption(owner=\"your_password\", user=\"your_password\", R=4)) \n",
        "pdf.close()"
      ],
      "metadata": {
        "id": "8XSyFSihI6Iw"
      },
      "execution_count": null,
      "outputs": []
    },
    {
      "cell_type": "markdown",
      "source": [
        "**Decrypt PDF**\n",
        "\n",
        "This simple Advanced script will help you to decrypt any PDF. This comes in handy when you had a lot of Password Protected PDFs and you need to automate the decryption."
      ],
      "metadata": {
        "id": "ssFhbsvlJKv2"
      }
    },
    {
      "cell_type": "code",
      "source": [
        "# PDF Decryption\n",
        "import pikepdf\n",
        "pdf = pikepdf.open(\"encrypt.pdf\",  password='your_password')    \n",
        "pdf.save(\"decrypt.pdf\") \n",
        "pdf.close()"
      ],
      "metadata": {
        "id": "zb1cUsnQJHoN"
      },
      "execution_count": null,
      "outputs": []
    },
    {
      "cell_type": "markdown",
      "source": [
        "**Jpg to Png**\n",
        "\n",
        "This script will help you to convert any JPG file to PNG format. Check out the code below."
      ],
      "metadata": {
        "id": "SOQ3337lJUc2"
      }
    },
    {
      "cell_type": "code",
      "source": [
        "# Jpg to Png Conversion\n",
        "# Method 1\n",
        "from PIL import Image\n",
        "img = Image.open('test.jpg')\n",
        "img.save('test.png')\n",
        "\n",
        "#Method 2\n",
        "from cv2 import imread, imwrite\n",
        "image = imread(\"test.jpg\", 1)\n",
        "imwrite(\"test.png\", image)"
      ],
      "metadata": {
        "id": "c9Cl4RVVJOEZ"
      },
      "execution_count": null,
      "outputs": []
    },
    {
      "cell_type": "markdown",
      "source": [
        "**PDF to DOC**\n",
        "\n",
        "Now convert your PDF files into DOCX format by using the following scripts in the below script, you will get the important functions that you will need in conversion.\n",
        "\n",
        "Fully handy scripts when you need to convert a bunch of PDFs to DOC programmatically:"
      ],
      "metadata": {
        "id": "Hi5jheHrKBJc"
      }
    },
    {
      "cell_type": "code",
      "source": [
        "# PDF 2 Doc\n",
        "# pip install pdf2docx\n",
        "from pdf2docx import Converter\n",
        "from pdf2docx import parse\n",
        "# Method 1: Convert PDF to Docx\n",
        "conv = Converter(\"test.pdf\")\n",
        "conv.convert(\"output.docx\")\n",
        "conv.close()\n",
        "# Convert Specific Pages\n",
        "conv = Converter(\"test.pdf\")\n",
        "conv.convert(\"output.docx\", start=1, end=2)\n",
        "# Convert Custom Pages\n",
        "conv = Converter(\"test.pdf\")\n",
        "conv.convert(\"output.docx\", pages=[1, 3, 5])\n",
        "# Multiprocess the Work\n",
        "conv = Converter(\"test.pdf\")\n",
        "conv.convert(\"output.docx\", multiprocess=True)\n",
        "# Convert Encryted PDF\n",
        "conv = Converter(\"test.pdf\", password=\"password\")\n",
        "conv.convert(\"output.docx\")\n",
        "# Method 2: Convert PDF to Docx\n",
        "conv = parse(\"test.pdf\", \"output.docx\")"
      ],
      "metadata": {
        "id": "mPmPGDjNJeLC"
      },
      "execution_count": null,
      "outputs": []
    },
    {
      "cell_type": "markdown",
      "source": [
        " **Text To Speech(TTS)**\n",
        " \n",
        "Need an AI assistant like Alexa and Siri then my friend you need Text to speech technology for it and this script will tell you how to use TTS in Python."
      ],
      "metadata": {
        "id": "Vg7fLSOzKLWT"
      }
    },
    {
      "cell_type": "code",
      "source": [
        "# pip install pyttsx3\n",
        "import pyttsx3 as ptts\n",
        "def Male_Voice(text):\n",
        "    eng = ptts.init()\n",
        "    eng.say(text)\n",
        "    eng.runAndWait()\n",
        "def Female_Voice(text):\n",
        "    eng = ptts.init()\n",
        "    voices = eng.getProperty('voices')\n",
        "    eng.setProperty('voice', voices[-1].id)\n",
        "    eng.say(text)\n",
        "    eng.runAndWait()\n",
        "Male_Voice(\"Hi their its a male voice\")\n",
        "Female_Voice(\"Hi their its a Female voice\")"
      ],
      "metadata": {
        "id": "Uoa3wDUEKG__"
      },
      "execution_count": null,
      "outputs": []
    },
    {
      "cell_type": "markdown",
      "source": [
        "**Automate Google Sheet**\n",
        "\n",
        "Not only Excel or CSV Python can also automate Google Sheet. This script will show you how you can automate your google sheet-like reading the rows, cols, writing, updating, formatting, and much more you can automate.\n",
        "\n",
        "It's a complete handy script for those who need some assistance in Google sheet programming with Python."
      ],
      "metadata": {
        "id": "o9_FjqQuLSG0"
      }
    },
    {
      "cell_type": "code",
      "source": [
        "# Automate Googlesheet\n",
        "# pip install gspread\n",
        "# Note: You can easily get crediential file from googlesheet\n",
        "import gspread\n",
        "ws = gspread.service_account('test_crediential.json')\n",
        "# Open sheet with Url or Name\n",
        "sheet = ws.open(\"Medium Table\")\n",
        "sheet = ws.open_by_url(\"https://docs.google.com/full_url\")\n",
        "<==READING FROM SHEET==>\n",
        "# Get First Sheet\n",
        "sheet = sheet.sheet1\n",
        "# Get all Data from Sheet\n",
        "sheet_data = sheet.get_all_values()\n",
        "# Get Specific Row\n",
        "sheet_data = sheet.row_values(1)\n",
        "# Get Specific Column\n",
        "sheet_data = sheet.col_values(1)\n",
        "# Get Specific Cell\n",
        "sheet_data = sheet.cell(1, 1).value\n",
        "# Finding Cell with match String\n",
        "sheet_data = sheet.find(\"string\").row\n",
        "# WRITING TO SHEET\n",
        "# Update data in Sheet\n",
        "sheet.update(\"A1\", \"Medium Article\")\n",
        "# Update data with row and column\n",
        "sheet.update_cell(1, 1, \"Medium Article\")\n",
        "# Append data to Sheet\n",
        "sheet.append_row([\"Medium Article12\"])\n",
        "# Delete data from row\n",
        "sheet.delete_row(1)\n",
        "# Data data from col\n",
        "sheet.delete_col(1)\n",
        "# Delete data from cell\n",
        "sheet.delete_cell(1, 1)\n",
        "# Format the Row and Col\n",
        "sheet.format('A1:B2', {'textFormat': {'bold': True}})\n",
        "# Format Color of Row and Col\n",
        "sheet.format('A1:B2', {'backgroundColor': {'red': 1.0}})\n",
        "# Format Font Size of Row and Col\n",
        "sheet.format('A1:B2', {'textFormat': {'fontSize': 12}})\n",
        "# Format Font Family of Row and Col\n",
        "sheet.format('A1:B2', {'textFormat': {'fontFamily': 'Arial'}})"
      ],
      "metadata": {
        "id": "pPLH94NAKXem"
      },
      "execution_count": null,
      "outputs": []
    },
    {
      "cell_type": "markdown",
      "source": [
        "**Forecasts Weather**\n",
        "\n",
        "Update yourself with the current weather report using this automation script that uses Python-Weather module. The script is extremely handy when you need to know the weather forecasts programmatically.\n",
        "\n",
        "In the below script, I mention the code that will help you create a decent weather forecast program, Feel free to use it."
      ],
      "metadata": {
        "id": "GvJpEdtZLeqk"
      }
    },
    {
      "cell_type": "code",
      "source": [
        "# Get Weather in Python \n",
        "# pip install python-weather\n",
        "import asyncio\n",
        "import python_weather as weather\n",
        "async def Get_Weather():\n",
        "    client = weather.Client(format= weather.IMPERIAL)\n",
        "    w = await client.find(\"New York\")\n",
        "    print(\"Temperature: \", w.current.temperature)\n",
        "    for forecast in w.forecasts:\n",
        "        print(\"Forecast: \", forecast.sky_text, forecast.temperature)\n",
        "    await client.close()\n",
        "if __name__ == \"__main__\":\n",
        "  loop = asyncio.get_event_loop()\n",
        "  loop.run_until_complete(Get_Weather())"
      ],
      "metadata": {
        "id": "Z0jw0T_4LXVK"
      },
      "execution_count": null,
      "outputs": []
    },
    {
      "cell_type": "markdown",
      "source": [
        "**Get Daily News**\n",
        "\n",
        "Get Daily headlines and breaking news Programmatically with this automation script. The script uses the Gnew Module which scraps the news from different news websites. The below code had mention the most useful functions you can use to update yourself with everyday news."
      ],
      "metadata": {
        "id": "sQhux-d6LmEZ"
      }
    },
    {
      "cell_type": "code",
      "source": [
        "# Get Daily News\n",
        "# pip install gnews\n",
        "from gnews import GNews\n",
        "news = GNews()\n",
        "# Get news by Keyword\n",
        "headlines = news.get_news(\"Python\")\n",
        "print(headlines[0])\n",
        "# Get Top News\n",
        "headlines = news.get_top_news()\n",
        "print(headlines)\n",
        "# Get News by Topic\n",
        "headlines = news.get_news_by_topic(\"Technology\")\n",
        "print(headlines)\n",
        "# Get News by Location\n",
        "headlines = news.get_news_by_location(\"London\")\n",
        "print(headlines)\n",
        "# Set Language, Time Period and Country\n",
        "news = GNews(language = 'en', period='2d', country=\"US\")"
      ],
      "metadata": {
        "id": "k9xWB5MXLiX2"
      },
      "execution_count": null,
      "outputs": []
    },
    {
      "cell_type": "markdown",
      "source": [
        "**Automate Google Drive**\n",
        "\n",
        "Need to automate your Google drive stuff but don’t know how to do it. Then here is your automation script my friend that uses the latest PyDrive2 module. The below script has everything you need to start with Google Drive automation. You can iterate folders, Upload files, Delete files, and much more you can automate.\n",
        "\n",
        "This is a complete handy script for those who need assistance with PyDrive code. Feel free to use this script."
      ],
      "metadata": {
        "id": "c-4iR_iZLtH_"
      }
    },
    {
      "cell_type": "code",
      "source": [
        "# Google Drive with Python \n",
        "# pip install PyDrive2\n",
        "from pydrive2.auth import GoogleAuth\n",
        "from pydrive2.drive import GoogleDrive\n",
        "# Set Crediential with Auth\n",
        "gauth = GoogleAuth()\n",
        "gauth.LocalWebserverAuth()\n",
        "gdrive = GoogleDrive(gauth)\n",
        "# Create a file in Google Drive\n",
        "files = gdrive.CreateFile()\n",
        "files.SetContentString('Hello World!')\n",
        "files.Upload()\n",
        "# Upload a file from system\n",
        "files = gdrive.CreateFile({'title': 'Medium.txt'})\n",
        "files.SetContentFile('Medium.txt')\n",
        "files.Upload()\n",
        "# Download a file to system\n",
        "files = gdrive.CreateFile({'id': 'File_ID'})\n",
        "files.GetContentFile('Downloaded.txt')\n",
        "# List files in Google Drive\n",
        "files = gdrive.ListFile({'q': \"'root' in parents and trashed=false\"}).GetList()\n",
        "print(\"Files in Drive: \", files)\n",
        "# List Shared files in Google Drive\n",
        "files = gdrive.ListFile({'q': \"'root' in parents and trashed=false and shared=true\"}).GetList()\n",
        "print(\"Shared Files in Drive: \", files)\n",
        "# Delete a file in Google Drive\n",
        "files = gdrive.ListFile({'q': \"'root' in parents and trashed=false\"}).GetList()\n",
        "files[0].Delete()\n",
        "# Rename a file in Google Drive\n",
        "file_list = gdrive.ListFile({'q': \"'root' in parents and trashed=false\"}).GetList()\n",
        "file_list[0].Metadata['title'] = 'New Title'\n",
        "file_list[0].UpdateMetadata()\n",
        "# Move a file in Google Drive\n",
        "files = gdrive.ListFile({'q': \"'root' in parents and trashed=false\"}).GetList()\n",
        "files[0].Move(file_list[0].parents[0].id)\n",
        "# Update a file in Google Drive\n",
        "files = gdrive.ListFile({'q': \"'root' in parents and trashed=false\"}).GetList()\n",
        "files[0].SetContentString('Hello World!')\n",
        "files[0].Upload()\n",
        "# Create Folder\n",
        "files = gdrive.CreateFile({'title': 'New Folder', 'mimeType': 'application/vnd.google-apps.folder'})\n",
        "files.Upload()"
      ],
      "metadata": {
        "id": "_RRBvDFVLqVf"
      },
      "execution_count": null,
      "outputs": []
    },
    {
      "cell_type": "markdown",
      "source": [
        "**Automate Clicks and Typing**\n",
        "\n",
        "Want to Automate clicks or keyboard typing then this script will show you how to do it. It uses PyUserInput which helps you automate mouse clicks, keyboard tap and pressing, and much more."
      ],
      "metadata": {
        "id": "amYbeyWYL1Ur"
      }
    },
    {
      "cell_type": "code",
      "source": [
        "# Automate Keyboard and Mouse\n",
        "# pip install PyUserInput\n",
        "from pymouse import PyMouse\n",
        "from pykeyboard import PyKeyboard\n",
        "mouse = PyMouse()\n",
        "keyboard = PyKeyboard()\n",
        "# Move mouse to position (x, y)\n",
        "mouse.move(60, 56)\n",
        "# Left click\n",
        "mouse.click(60, 56, 1)\n",
        "# Right click\n",
        "mouse.click(60, 56, 2)\n",
        "# Double left click\n",
        "mouse.click(60, 56, 1, 2)\n",
        "# Middle click\n",
        "mouse.click(60, 56, 3)\n",
        "# Get the current mouse position\n",
        "x, y = mouse.position()\n",
        "# Press Keys\n",
        "keyboard.press_key('p')\n",
        "# Release Keys\n",
        "keyboard.release_key('p')\n",
        "# type \n",
        "keyboard.type_string('How are you!')\n",
        "# Tap keys\n",
        "keyboard.tap_key('a')\n",
        "# Tap Function keys\n",
        "keyboard.tap_key(keyboard.function_keys[1])\n",
        "# Tap Control keys\n",
        "keyboard.tap_key(keyboard.control_keys[1])\n",
        "# Tap Combination keys\n",
        "keyboard.tap_key(keyboard.key_to_string(keyboard.control_keys[1]) + 'p')"
      ],
      "metadata": {
        "id": "I34kfeF8LxsJ"
      },
      "execution_count": null,
      "outputs": []
    },
    {
      "cell_type": "markdown",
      "source": [
        "**Compare Photos**\n",
        "\n",
        "Sometimes we need to find the difference between the two Photos or images but you know you can do it programmatically. The below script uses the awesome Pillow Module that will spot and highlight the difference between two images.\n",
        "\n",
        "This is a helpful script for those who want to compare a lot of images and spot the difference."
      ],
      "metadata": {
        "id": "-wZ1xicnL87F"
      }
    },
    {
      "cell_type": "code",
      "source": [
        "# Compare Photos\n",
        "# pip install Pillow\n",
        "from PIL import Image, ImageChops\n",
        "# Spot the Difference \n",
        "def Comparing(img1, img2):\n",
        "    image_1 = Image.open(img1)\n",
        "    image_2 = Image.open(img2)\n",
        "    d = ImageChops.difference(image_1, image_2)\n",
        "    d.save('diff.png')\n",
        "    d.show\n",
        "    return\n",
        "Comparing('img1.png', 'img2.png')"
      ],
      "metadata": {
        "id": "T-nW9KHYL6KM"
      },
      "execution_count": null,
      "outputs": []
    },
    {
      "cell_type": "markdown",
      "source": [
        "**Generate Random Fake Data**\n",
        "\n",
        "We always need some Fake or test data to test our program and functions. But you no longer need to find it on the Internet. This cool script will make your life easier by generating random Fake data for your testing.\n",
        "\n",
        "In the below code, you will find how you can generate random data."
      ],
      "metadata": {
        "id": "5zJCBKnOMEaA"
      }
    },
    {
      "cell_type": "code",
      "source": [
        "# Generate Random Test Data\n",
        "# pip install fauxfactory\n",
        "import fauxfactory as tmp\n",
        "# Generate Test Emails\n",
        "for i in range(1, 10):\n",
        "    print(tmp.gen_email())\n",
        "# Generate test Url\n",
        "print(tmp.gen_url())\n",
        "# Generate Test Strings\n",
        "print(tmp.gen_string())\n",
        "# Generate UUID\n",
        "print(tmp.gen_uuid())\n",
        "# Generate Test Numbers\n",
        "print(tmp.gen_number())\n",
        "# Generate Test DateTime\n",
        "print(tmp.gen_datetime())\n",
        "# Generate Test IP Address\n",
        "print(tmp.gen_ipaddr())\n",
        "# Generate Test Domain Name\n",
        "print(tmp.gen_domain())"
      ],
      "metadata": {
        "id": "hIAt2m4mMAxM"
      },
      "execution_count": null,
      "outputs": []
    },
    {
      "cell_type": "markdown",
      "source": [
        "**Currency Converter**\n",
        "\n",
        "This simple script will show you how you can convert currency in Python. This awesome script will make your life easier by providing daily currency updates and easy conversion of different currencies."
      ],
      "metadata": {
        "id": "SnDcquRNMLk0"
      }
    },
    {
      "cell_type": "code",
      "source": [
        "# Convert Your Currency\n",
        "# pip install CurrencyConverter\n",
        "from currency_converter import CurrencyConverter\n",
        "import datetime as datetime\n",
        "money = CurrencyConverter()\n",
        "# Convert from USD to EUR\n",
        "print(money.convert(1, 'USD', 'EUR'))\n",
        "# Convert from EUR to USD with datatime\n",
        "print(money.convert(1, 'EUR', 'USD', datetime.now()))\n",
        "# Convert from EUR to USD with datatime and a specific date\n",
        "print(money.convert(1, 'EUR', 'USD', datetime.datetime(2022, 1, 1)))\n",
        "# Convert to USD\n",
        "print(money.convert(100, 'GPD'))"
      ],
      "metadata": {
        "id": "dIKAu-InMIr3"
      },
      "execution_count": null,
      "outputs": []
    },
    {
      "cell_type": "markdown",
      "source": [
        "**Working With APIs**\n",
        "\n",
        "Need to send an Api call or want to automate your Api call task then here is the automation script for you that uses well famous Httpx Module. Below I coded the helpful functions and guide that you are free to use."
      ],
      "metadata": {
        "id": "S8M-L-IRMTIQ"
      }
    },
    {
      "cell_type": "code",
      "source": [
        "# Working with APIs\n",
        "# pip install httpx\n",
        "import httpx\n",
        "# Get Data\n",
        "response = httpx.get('https://api.github.com/users/Medium_test')\n",
        "print(response)\n",
        "# Post Data \n",
        "response = httpx.post('https://api.github.com/users/Medium_test', json={'name': 'medium'})\n",
        "print(response)\n",
        "# Call API with header\n",
        "response = httpx.get('https://api.github.com/users/Medium_test', headers={'Authorization': 'token12'})\n",
        "print(response)\n",
        "# Call API with params\n",
        "response = httpx.get('https://api.github.com/users/Medium_test', params={'since': 'xxxx-xx-xx'})\n",
        "print(response)\n",
        "# Use User agent\n",
        "response = httpx.get('https://api.github.com/users/Medium_test', headers={'User-Agent': 'httpx'})\n",
        "# Get Text content\n",
        "response = httpx.get('https://api.github.com/users/Medium_test')\n",
        "print(response.text)\n",
        "# Get JSON content\n",
        "response = httpx.get('https://api.github.com/users/Medium_test')\n",
        "print(response.json())"
      ],
      "metadata": {
        "id": "RbWAQU4xMQHl"
      },
      "execution_count": null,
      "outputs": []
    },
    {
      "cell_type": "markdown",
      "source": [
        "**Multi-threading with Python**\n",
        "\n",
        "This handy script will let you run your functions and task-parallel in Python. You can multi-thread your work using this script which uses Threading Module.\n",
        "\n",
        "Suppose you need to send API calls you can send one by one with Python. So in this case Multi-threading is your savior."
      ],
      "metadata": {
        "id": "4_rgLPgnMaGc"
      }
    },
    {
      "cell_type": "code",
      "source": [
        "# Multi-threading in Python\n",
        "import threading as thread\n",
        "import time\n",
        "def func1():\n",
        "    print(\"Thread 1\")\n",
        "    time.sleep(2)\n",
        "    print(\"Thread 1 done\")\n",
        "def func2():\n",
        "    print(\"Thread 2\")\n",
        "    time.sleep(2)\n",
        "    print(\"Thread 2 done\")\n",
        "t1 = thread.Thread(target=func1)\n",
        "t2 = thread.Thread(target=func2)\n",
        "t1.start()\n",
        "t2.start()\n",
        "t1.join()\n",
        "t2.join()"
      ],
      "metadata": {
        "id": "AQXwrxZqMW8-"
      },
      "execution_count": null,
      "outputs": []
    },
    {
      "cell_type": "markdown",
      "source": [
        "**Parse PDF**\n",
        "\n",
        "Need some help in Parsing your PDF files then try this automation script that uses one of my most favorite Pdfminer modules. Below mention code has everything you need to start parsing your PDF.\n",
        "\n",
        "Handy for a programmer who wants to extract text, the layout of PDF, and much more. Feel free to use the script in your project."
      ],
      "metadata": {
        "id": "ocywQ6xWNxG5"
      }
    },
    {
      "cell_type": "code",
      "source": [
        "# Parse PDF\n",
        "# pip install pdfminer.six\n",
        "from io import StringIO\n",
        "from pdfminer.pdfpage import PDFPage\n",
        "from pdfminer.pdfparser import PDFParser\n",
        "from pdfminer.converter import TextConverter\n",
        "from pdfminer.pdfinterp import PDFResourceManager, PDFPageInterpreter\n",
        "from pdfminer.layout import LAParams\n",
        "from pdfminer.pdfdocument import PDFDocument\n",
        "from pdfminer.high_level import extract_pages\n",
        "# TEXT EXTRACTION \n",
        "text = StringIO()\n",
        "with open('test.pdf', 'rb') as File:\n",
        "    parser = PDFParser(File)\n",
        "    pdf = PDFDocument(parser)\n",
        "    pdfmanager = PDFResourceManager()\n",
        "    extractor = TextConverter(pdfmanager, text, laparams=LAParams())\n",
        "    i = PDFPageInterpreter(pdfmanager, extractor)\n",
        "    for p in PDFPage.create_pages(pdf):\n",
        "        i.process_page(p)\n",
        "    print(text.getvalue())\n",
        "\n",
        "# EXTRACT PAGE LAYOUT\n",
        "for p_layout in extract_pages(\"mydata.pdf\"):\n",
        "    for e in p_layout:\n",
        "        print(e)"
      ],
      "metadata": {
        "id": "4t6M9S_GMc54"
      },
      "execution_count": null,
      "outputs": []
    },
    {
      "cell_type": "markdown",
      "source": [
        "**Instagram Bot**\n",
        "\n",
        "Need to automate Instagram but know how to start then here is your automation script for making an Instagram bot by using the Instabot module. The script below has the functions that you will need to make a full-fledge instabot."
      ],
      "metadata": {
        "id": "VCphvosRN45K"
      }
    },
    {
      "cell_type": "code",
      "source": [
        "# Instagram Bot\n",
        "# pip install instabot\n",
        "from instabot import Bot\n",
        "insta = Bot()\n",
        "insta.login(username=\"your_username\", password=\"your_password\")\n",
        "# Get user followers\n",
        "insta.get_user_followers(\"username\")\n",
        "# Get user following\n",
        "insta.get_user_following(\"username\")\n",
        "# Like a Post\n",
        "insta.like(\"post_id\")\n",
        "# Unlike a Post\n",
        "insta.unlike(\"post_id\")\n",
        "# Like Posts with hashtag\n",
        "insta.like_hashtag(\"hashtag\", amount=10)\n",
        "# Comment on a Post\n",
        "insta.comment(\"post_id\", \"comment_text\")\n",
        "# Comment Hashtag\n",
        "insta.comment_hashtag(\"hashtag\", \"comment_text\", amount=10)\n",
        "# Follow User\n",
        "insta.follow(\"username\")\n",
        "# Follow multiple users\n",
        "insta.follow([\"username1\", \"username2\"])\n",
        "# Unfollow User\n",
        "insta.unfollow(\"username\")\n",
        "# Unfollow non follower users\n",
        "insta.unfollow_non_followers(n_to_unfollows=10)\n",
        "# Upload Photo\n",
        "insta.upload_photo(\"path_to_photo\", caption=\"caption_text\")\n",
        "# Upload Video\n",
        "insta.upload_video(\"path_to_video\", caption=\"caption_text\")\n",
        "# Download Photo\n",
        "insta.download_photo(\"photo_id\", \"path_to_save\")\n",
        "# Send Message\n",
        "insta.send_message(\"username\", \"message_text\")"
      ],
      "metadata": {
        "id": "jWHps7kAN0Y7"
      },
      "execution_count": null,
      "outputs": []
    },
    {
      "cell_type": "markdown",
      "source": [
        "**Compress and Decompress Files**\n",
        "\n",
        "Need to compress your files to lower their sizes then here is the automation script that will help you to compress and decompress files on your computer. The script uses the Zip file Python built-in module. Probably a handy script when you have a lot of files to compress and decompress (extract zip)."
      ],
      "metadata": {
        "id": "486xpIboOBBS"
      }
    },
    {
      "cell_type": "code",
      "source": [
        "# Compress and Decompress Files\n",
        "import zipfile as zipf\n",
        "def Compress_Files(file):\n",
        "    with zipf.ZipFile('data.zip', 'w') as compress:\n",
        "        compress.write('data.csv', compress_type=zipf.ZIP_DEFLATED)\n",
        "def Decompress_Files(file):\n",
        "    with zipf.ZipFile('data.pdf', 'r') as decompress:\n",
        "        decompress.extractall('data.csv')\n",
        "Compress_Files('data.csv')\n",
        "Decompress_Files('data.zip')"
      ],
      "metadata": {
        "id": "iHmirZKCN9OK"
      },
      "execution_count": null,
      "outputs": []
    },
    {
      "cell_type": "markdown",
      "source": [
        "**Scan QRcode**\n",
        "\n",
        "This simple script will let you Scan QRcode and extract or print the data. It's an amazing script when you have a lot of QR codes and you want to extract data from them."
      ],
      "metadata": {
        "id": "3w8ozhw3OHwJ"
      }
    },
    {
      "cell_type": "code",
      "source": [
        "# Scan Qrcode\n",
        "# pip install pyzbar\n",
        "# pip install pillow\n",
        "from PIL import Image\n",
        "import pyzbar.pyzbar as scan\n",
        "img = Image.open('qrcode.png')\n",
        "qr = scan.decode(img)[0]\n",
        "data = qr.data.decode('utf-8')\n",
        "print(\"QRCODE: \", data)"
      ],
      "metadata": {
        "id": "3rqEJ2ANOEyu"
      },
      "execution_count": null,
      "outputs": []
    },
    {
      "cell_type": "markdown",
      "source": [
        "**Python URL Shortner**\n",
        "\n",
        "Python can also help you to shorter your URL and this automation script will show you how they do it. The Script uses the Pyshortener module which will help you to shorter your URL using TinyURL API.\n",
        "\n",
        "It's a handy script when you have a lot of URLs and you want to shorter them."
      ],
      "metadata": {
        "id": "CZ4YLDziOOUA"
      }
    },
    {
      "cell_type": "code",
      "source": [
        "# Python Url Shortner\n",
        "# pip install pyshorteners\n",
        "import pyshorteners as shrt\n",
        "url = input(\"Enter a URL: \")\n",
        "short_url = shrt.Shortener().tinyurl.short(url)\n",
        "print(\"Shortern URL: \" + short_url)"
      ],
      "metadata": {
        "id": "XoJUwwmQOK8k"
      },
      "execution_count": null,
      "outputs": []
    },
    {
      "cell_type": "markdown",
      "source": [
        "**Python Grammarly**\n",
        "\n",
        "You guys probably use Grammarly and it's amazing but do you know you can create your own Grammarly tool in Python. Well, I present to you the automation script for creating a Proofreading program in Python using the Gramformer module.\n",
        "\n",
        "In the below script you can see you can pass multiple sentences and the script will correct spelling mistakes and grammar mistakes."
      ],
      "metadata": {
        "id": "zgvqfu3lObjj"
      }
    },
    {
      "cell_type": "code",
      "source": [
        "# Python Grammarly\n",
        "# pip install pip install -U git+https://github.com/PrithivirajDamodaran/Gramformer.git\n",
        "from gramformer import Gramformer\n",
        "grammer = Gramformer(models = 1, use_gpu=False)\n",
        "sentences = ['The smell of fliwers', 'We is on the supermarket']\n",
        "# Check Grammer\n",
        "for phrase in sentences:\n",
        "    correction = grammer.correct(phrase)\n",
        "    print(\"{} -> {}\".format(phrase, correction))\n",
        "# Output\n",
        "# The smell of fliwers -> The smell of blossoms\n",
        "# We is on the supermarket -> We are at the supermarket"
      ],
      "metadata": {
        "id": "er5wSTxxOSz1"
      },
      "execution_count": null,
      "outputs": []
    },
    {
      "cell_type": "markdown",
      "source": [
        "**Read and Modify EXIF**\n",
        "\n",
        "Want to Edit EXIF metadata of Photos programmatically then this automation script is for you. The script uses the most famous Exif Module and the below script has important function like reading, update, and update tags."
      ],
      "metadata": {
        "id": "yT5qqvoFOhXJ"
      }
    },
    {
      "cell_type": "code",
      "source": [
        "# Read and Modify Exif of Photos\n",
        "# pip install exif\n",
        "from exif import Image as img\n",
        "# READ EXIF\n",
        "with open('img.png', 'rb') as f:\n",
        "    tags = img(f)\n",
        "# Sorted list of exif\n",
        "exif_list = sorted(tags.list_all())\n",
        "print(exif_list)\n",
        "# Print Individual Exif\n",
        "for tag in exif_list:\n",
        "    print(f\"{tag}: \", tags[tag])\n",
        "# MODIFY EXIF\n",
        "# add new tag\n",
        "img.copywrite = '2020'\n",
        "# Update tag\n",
        "tags['copywrite'] = '2022'\n",
        "tags['make'] = 'Canon'\n",
        "# Delete tag\n",
        "img.delete('copywrite')\n",
        "img.delete('make')\n",
        "# Save the modified exif\n",
        "with open('img.png', 'wb') as f:\n",
        "    f.write(img.get_file())"
      ],
      "metadata": {
        "id": "4HYsS5X4Oe5w"
      },
      "execution_count": null,
      "outputs": []
    },
    {
      "cell_type": "markdown",
      "source": [
        "**Search with Regex**\n",
        "\n",
        "Searching for a pattern or finding a substring with Regular Expression is always difficult but it's also useful too. So this automation script will let you a hand by showing how to use regular expressions to automate the Regex searches.\n",
        "\n",
        "The below mention script has everything you need to get your hand straight on Regular Expression."
      ],
      "metadata": {
        "id": "Wpa58PWgOoa-"
      }
    },
    {
      "cell_type": "code",
      "source": [
        "# Search with Regrex\n",
        "import re as regex\n",
        "# Regex for Email Address\n",
        "regex.findall(r'[\\w.+-]+@[\\w-]+\\.[\\w.-]+', \"hell this is medium@email.com\")\n",
        "# Regex for Phone Number\n",
        "regex.findall(r'\\d{3}-\\d{3}-\\d{4}', \"phno 123-456-7890 medium 234-234\")\n",
        "# Regex for URL\n",
        "regex.findall(r'https?://(?:[-\\w.]|(?:%[\\da-fA-F]{2}))+', \"test12testhttps://medium.com\")\n",
        "# Regex for IP Address\n",
        "regex.findall(r'\\d{1,3}\\.\\d{1,3}\\.\\d{1,3}\\.\\d{1,3}', \"ip address is 192.013.242.2\")\n",
        "# Regex for Discord username\n",
        "regex.findall(r'[\\w.+-]+#\\d{4}', \"hi python to medium23#2134\")\n",
        "# Regex for hashtag\n",
        "regex.findall(r'#\\w+', \"this is a test #test\")\n",
        "# Regex for username\n",
        "regex.findall(r'@\\w+', \"this is a test @test\")\n",
        "# Regex for Pattern matching\n",
        "regex.findall(r'\\bmedium\\b', \"this is a test medium\")"
      ],
      "metadata": {
        "id": "dvXFvSHLOl5c"
      },
      "execution_count": null,
      "outputs": []
    },
    {
      "cell_type": "markdown",
      "source": [
        "**IP Address Locator**\n",
        "\n",
        "This automation script uses Geocoder Module that will help you to locate any IP address even yours. This is an awesome automation script for locating Ip address, city of Ip address, Area info and etc."
      ],
      "metadata": {
        "id": "bDZ_KcFmOv9-"
      }
    },
    {
      "cell_type": "code",
      "source": [
        "# Ip Address Locator\n",
        "# pip install geocoder\n",
        "import geocoder as geo\n",
        "# Get your Own IP Address\n",
        "ip_address = geo.ip('me')\n",
        "print(ip_address)\n",
        "# Find City of IP\n",
        "ip = geo.ip('192.xxx.xxx.x')\n",
        "print(ip.city)\n",
        "# Get latitude and longitude of IP Address\n",
        "print(ip.latlng)\n",
        "# Get Area Info\n",
        "info = geo.google('San Francisco')\n",
        "print(info.geojson)\n",
        "print(info.osm)\n",
        "print(info.wkt)"
      ],
      "metadata": {
        "id": "QnZso93UOsKn"
      },
      "execution_count": null,
      "outputs": []
    },
    {
      "cell_type": "markdown",
      "source": [
        "**Photoshop with Python**\n",
        "\n",
        "Photoshop is one of the most famous software from Adobe for editing your photos but do you know you can automate Photoshop with Python too?. Well, this cool automation script will show you how to do it. Below I mention functions you need to get started with Photoshop automation."
      ],
      "metadata": {
        "id": "gSXVL_AcO3D3"
      }
    },
    {
      "cell_type": "code",
      "source": [
        "# Photoshop with Python \n",
        "# pip install photoshop-python-api\n",
        "import photoshop.api as ps\n",
        "from photoshop.api import Session\n",
        "# Run Photoshop Actions\n",
        "with Session() as p:\n",
        "    p.app.doAction(action = \"testAction\")\n",
        "# Simple Text on Page\n",
        "app = ps.Application()\n",
        "doc = app.documents.add()\n",
        "color = ps.SolidColor()\n",
        "new_layer = doc.artLayers.add()\n",
        "new_layer.textItem.contents = \"Hello from Medium\"\n",
        "new_layer.textItem.position = (100, 100)\n",
        "new_layer.textItem.color = color\n",
        "# Change Color of Fore and background\n",
        "with Session() as p:\n",
        "    foreground = ps.SolidColor()\n",
        "    foreground.rgb.red = 1\n",
        "    foreground.rgb.green = 0\n",
        "    foreground.rgb.blue = 0\n",
        "    ps.app.foregroundColor = foreground\n",
        "    background = ps.SolidColor()\n",
        "    background.rgb.red = 0\n",
        "    background.rgb.green = 0\n",
        "    background.rgb.blue = 1\n",
        "    ps.app.backgroundColor = background\n",
        "# Croping an Image\n",
        "with Session(action=\"new_document\") as p:\n",
        "    p.active_document.crop(bounds=[120, 23, 453, 342], width=1920, height=1080)\n",
        "# Import Image in Layer\n",
        "with Session(action=\"new_document\") as p:\n",
        "    run = p.ActionDescriptor\n",
        "    run.putPath(ps.app.charIDToTypeID(\"null\"), \"img.png\")\n",
        "    event = p.app.charIDToTypeID(\"Plc \")\n",
        "    p.app.executeAction(p.app.charIDToTypeID(\"Plc \"), run)"
      ],
      "metadata": {
        "id": "1RNLUkSnOze1"
      },
      "execution_count": null,
      "outputs": []
    },
    {
      "cell_type": "code",
      "source": [
        ""
      ],
      "metadata": {
        "id": "3Faf1zVPO6fd"
      },
      "execution_count": null,
      "outputs": []
    }
  ]
}