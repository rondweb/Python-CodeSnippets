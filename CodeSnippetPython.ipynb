{
  "nbformat": 4,
  "nbformat_minor": 0,
  "metadata": {
    "colab": {
      "name": "CodeSnippetPython.ipynb",
      "provenance": []
    },
    "kernelspec": {
      "name": "python3",
      "display_name": "Python 3"
    },
    "language_info": {
      "name": "python"
    }
  },
  "cells": [
    {
      "cell_type": "markdown",
      "source": [
        "Code Snippets for python"
      ],
      "metadata": {
        "id": "h6es0nZ_kamm"
      }
    },
    {
      "cell_type": "markdown",
      "source": [
        "Photo Editing"
      ],
      "metadata": {
        "id": "N-eLEPxQi7_j"
      }
    },
    {
      "cell_type": "code",
      "execution_count": null,
      "metadata": {
        "id": "Eo-Ryku7ixPs"
      },
      "outputs": [],
      "source": [
        "# Photo Editing \n",
        "# pip install pillow\n",
        "from PIL import Image, ImageFilter\n",
        "# Resize an image\n",
        "img = Image.open('img.jpg')\n",
        "resize = img.resize((200, 300))\n",
        "resize.save('output.jpg')\n",
        "# Blur Image\n",
        "img = Image.open('img.jpg')\n",
        "blur = img.filter(ImageFilter.BLUR)\n",
        "blur.save('output.jpg')\n",
        "# Sharp Image\n",
        "img = Image.open('img.jpg')\n",
        "sharp = img.filter(ImageFilter.SHARPEN)\n",
        "sharp.save('output.jpg')\n",
        "# Crop Image\n",
        "img = Image.open('img.jpg')\n",
        "crop = img.crop((0, 0, 50, 50))\n",
        "crop.save('output.jpg')\n",
        "# Rotate Image\n",
        "img = Image.open('img.jpg')\n",
        "rotate = img.rotate(90)\n",
        "rotate.save('output.jpg')\n",
        "# Flip Image\n",
        "img = Image.open('img.jpg')\n",
        "flip = img.transpose(Image.FLIP_LEFT_RIGHT)\n",
        "flip.save('output.jpg')\n",
        "# Transpose Image\n",
        "img = Image.open('img.jpg')\n",
        "transpose = img.transpose(Image.TRANSPOSE)\n",
        "transpose.save('output.jpg')\n",
        "# Convert Image to GreyScale\n",
        "img = Image.open('img.jpg')\n",
        "convert = img.convert('L')\n",
        "convert.save('output.jpg')"
      ]
    },
    {
      "cell_type": "markdown",
      "source": [
        "PDF Watermarker"
      ],
      "metadata": {
        "id": "9Jc3VldijHd7"
      }
    },
    {
      "cell_type": "code",
      "source": [
        "# Watermark PDF files\n",
        "# pip install PyPDF4\n",
        "import PyPDF4\n",
        "def Watermark():\n",
        "    pdf_file= \"test.pdf\"\n",
        "    output_pdf= \"output.pdf\"\n",
        "    watermark= \"watermark.pdf\"\n",
        "watermark_read = PyPDF4.PdfFileReader(watermark)\n",
        "    watermark_page = watermark_read.getPage(0)\n",
        "    pdf_reader = PyPDF4.PdfFileReader(pdf_file)\n",
        "    pdf_writer = PyPDF4.PdfFileWriter()\n",
        "    for page in range(pdf_reader.getNumPages()):\n",
        "page = pdf_reader.getPage(page)\n",
        "        page.mergePage(watermark_page)\n",
        "        pdf_writer.addPage(page)\n",
        "    \n",
        "    # writing output pdf file\n",
        "    with open(output_pdf, 'wb') as pdf:\n",
        "        pdf_writer.write(pdf)\n",
        "Watermark()"
      ],
      "metadata": {
        "id": "N95THHnzi7to"
      },
      "execution_count": null,
      "outputs": []
    },
    {
      "cell_type": "markdown",
      "source": [
        "Video Editing"
      ],
      "metadata": {
        "id": "KooA4L6sjWYB"
      }
    },
    {
      "cell_type": "code",
      "source": [
        "# Video Editing\n",
        "# pip install moviepy\n",
        "from moviepy.editor import *\n",
        "# Triming the video\n",
        "clip_1 = VideoFileClip(\"sample_video.mp4\").subclip(40, 50)\n",
        "clip_2 = VideoFileClip(\"sample_video.mp4\").subclip(68, 91)\n",
        "final_clip = concatenate_videoclips([clip_1, clip_2])\n",
        "final_clip.write_videofile(\"output.mp4\")\n",
        "# Adding VFX\n",
        "clip_1 = (VideoFileClip(\"sample_video.mp4\").subclip(40, 50).fx(vfx.colorx, 1.2).fx(vfx.lum_contrast, 0, 30, 100))\n",
        "clip_2 = (VideoFileClip(\"sample_video.mp4\").subclip(68, 91).fx(vfx.invert_colors))\n",
        "final_clip = concatenate_videoclips([clip_1, clip_2])\n",
        "final_clip.write_videofile(\"output.mp4\")\n",
        "# Add Audio to Video\n",
        "clip = VideoFileClip(\"sample_video.mp4\")\n",
        "# Add audio to only first 5 sec\n",
        "clip = clip.subclip(0, 5)\n",
        "audioclip = AudioFileClip(\"audio.mp3\").subclip(0, 5)\n",
        "videoclip = clip.set_audio(audioclip)\n",
        "final_clip.write_videofile(\"output.mp4\")"
      ],
      "metadata": {
        "id": "kpNCVAOOi800"
      },
      "execution_count": null,
      "outputs": []
    },
    {
      "cell_type": "markdown",
      "source": [
        " Speech to Text AI"
      ],
      "metadata": {
        "id": "t07En6x_jdqA"
      }
    },
    {
      "cell_type": "code",
      "source": [
        "# Convert Speech to Text\n",
        "#pip install SpeechRecognition\n",
        "import speech_recognition as sr\n",
        "def SpeechToText():\n",
        "Ai = sr.Recognizer()\n",
        "    with sr.Microphone() as source:\n",
        "        listening = Ai.listen(source, phrase_time_limit = 6)  \n",
        "    try:\n",
        "        command = Ai.recognize_google(listening).lower()\n",
        "        print(\"You said: \" + command)\n",
        "        \n",
        "    except sr.UnknownValueError:\n",
        "        print(\"Sorry Can't understand, Try again\")\n",
        "        SpeechToText()"
      ],
      "metadata": {
        "id": "rdiCdox_jZGT"
      },
      "execution_count": null,
      "outputs": []
    },
    {
      "cell_type": "markdown",
      "source": [
        "Request API"
      ],
      "metadata": {
        "id": "ncJT1Xrvjmjo"
      }
    },
    {
      "cell_type": "code",
      "source": [
        "# Request Api \n",
        "# pip install requests\n",
        "import requests\n",
        "# Get Data\n",
        "headers = {\n",
        "    \"Connection\": \"keep-alive\",\n",
        "    \"User-Agent\": \"Mozilla/5.0 (Windows NT 10.0; Win64; x64) AppleWebKit/537.36 (KHTML, like Gecko) Chrome/72.0.3626.121 Safari/537.36\"\n",
        "}\n",
        "r = requests.get('https://api.example.com', headers=headers)\n",
        "print(r.status_code) # 200\n",
        "print(r.headers['content-type'])\n",
        "print(r.content) # HTML Data\n",
        "# Login Site\n",
        "payload = {'username': 'USERNAME', 'userpass': 'PASSWORD'}\n",
        "r = requests.post('https://example.com/login', data=payload)\n",
        "print(r.status_code) # 200"
      ],
      "metadata": {
        "id": "H91a4JhUjhup"
      },
      "execution_count": null,
      "outputs": []
    },
    {
      "cell_type": "markdown",
      "source": [
        "Python GUI"
      ],
      "metadata": {
        "id": "tgpwgb6bjtV2"
      }
    },
    {
      "cell_type": "code",
      "source": [
        "# Python GUI\n",
        "# pip install PyQt6\n",
        "import sys\n",
        "from PyQt6.QtWidgets import QApplication, QWidget, QPushButton, QMessageBox, QLabel, QLineEdit\n",
        "def Application():\n",
        "app = QApplication(sys.argv)\n",
        "    win = QWidget()\n",
        "    win.resize(300, 300)\n",
        "    win.move(200, 200)\n",
        "    win.setWindowTitle('Medium Article')\n",
        "    # Create Buttons\n",
        "    btn = QPushButton('Quit', win)\n",
        "    \n",
        "    # Message Box\n",
        "    QMessageBox.question(win, 'Message',\"Are you sure to quit?\")\n",
        "    # Label Text\n",
        "    lbl = QLabel('Hello World', win)\n",
        "    # Button Clicked\n",
        "    btn.clicked.connect(lambda: QMessageBox.question(win, 'Message',\"Are you sure to quit?\"))\n",
        "    # Entry Box\n",
        "    entry = QLineEdit(win)\n",
        "    win.show()\n",
        "    sys.exit(app.exec())\n",
        "if __name__ == '__main__':\n",
        "    Application()"
      ],
      "metadata": {
        "id": "0GCzhS8qjo1Z"
      },
      "execution_count": null,
      "outputs": []
    },
    {
      "cell_type": "markdown",
      "source": [
        " Spell Checker"
      ],
      "metadata": {
        "id": "DWH49i9Sj6A6"
      }
    },
    {
      "cell_type": "code",
      "source": [
        "# Spell Checker in Python \n",
        "# pip install pyspellchecker\n",
        "from spellchecker import SpellChecker as spell\n",
        "Words = spell.unknown(['Python'  , 'is' , 'a' , 'good' , 'lantyguage'])\n",
        "for w in Words:\n",
        "    print(spell.correction(w)) #language\n",
        "    print(spell.candidates(w)) #{ language }"
      ],
      "metadata": {
        "id": "A-LizRnMjv6N"
      },
      "execution_count": null,
      "outputs": []
    },
    {
      "cell_type": "markdown",
      "source": [
        "Grammar Checker"
      ],
      "metadata": {
        "id": "rEf7Zo34j_Ld"
      }
    },
    {
      "cell_type": "code",
      "source": [
        "# Grammer Checker in Python\n",
        "# pip install gingerit\n",
        "from gingerit.gingerit import GingerIt\n",
        "text = \"Welcm Progammer to Python\"\n",
        "Grammer = GingerIt()\n",
        "Correction = Grammer.parse(text)\n",
        "print(Correction[\"result\"]) # Welcome, Programmer to Python\n",
        "print(Correction['corrections'])"
      ],
      "metadata": {
        "id": "_xdSAJpkj8O-"
      },
      "execution_count": null,
      "outputs": []
    },
    {
      "cell_type": "markdown",
      "source": [
        "Automate Win, Mac, and Linux"
      ],
      "metadata": {
        "id": "8hq2-Sv3kHOf"
      }
    },
    {
      "cell_type": "code",
      "source": [
        "# Automate Win, Mac and Linux\n",
        "# pip install PyAutoGUI\n",
        "import pyautogui as py\n",
        "# Mouse Movements\n",
        "py.moveTo(100, 100)\n",
        "py.moveTo(200, 200, duration=1)\n",
        "py.click(100, 100)\n",
        "py.doubleClick(200, 200)\n",
        "# Keyboard Inputs\n",
        "py.write('Hello World!', interval=0.25)\n",
        "py.press('enter')\n",
        "py.hotkey('ctrl', 'c')\n",
        "py.keyDown('shift')\n",
        "py.keyUp('shift')\n",
        "# Screen Automation\n",
        "img = py.screenshot('screenshot.jpg')\n",
        "img.save('screenshot.jpg')\n",
        "loc = py.locationsOnScreen('icon.jpg')\n",
        "print(loc)"
      ],
      "metadata": {
        "id": "MhtMKPOakCLy"
      },
      "execution_count": null,
      "outputs": []
    },
    {
      "cell_type": "markdown",
      "source": [
        "Read Excel"
      ],
      "metadata": {
        "id": "SPhSXGzGkLk3"
      }
    },
    {
      "cell_type": "code",
      "source": [
        "# Read Excel\n",
        "# pip install pandas\n",
        "import pandas as pd\n",
        "df = pd.read_excel('test.xlsx', sheet_name='Sheet1')\n",
        "# Read Columns\n",
        "name = df['Name'].to_list()\n",
        "Id  = df['Id'].to_list()\n",
        "print(name) # [\"haider\", \"Dustin, \"Tadashi\"]\n",
        "print(Id) # [245, 552, 892]"
      ],
      "metadata": {
        "id": "bQim3pMRkJXG"
      },
      "execution_count": null,
      "outputs": []
    },
    {
      "cell_type": "markdown",
      "source": [
        "Reference: https://python.plainenglish.io/10-python-automation-scripts-for-everyday-problems-3ca0f2011282"
      ],
      "metadata": {
        "id": "BbFXbtWSkj7U"
      }
    }
  ]
}