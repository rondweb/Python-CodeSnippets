{
  "nbformat": 4,
  "nbformat_minor": 0,
  "metadata": {
    "colab": {
      "provenance": [],
      "collapsed_sections": []
    },
    "kernelspec": {
      "name": "python3",
      "display_name": "Python 3"
    },
    "language_info": {
      "name": "python"
    }
  },
  "cells": [
    {
      "cell_type": "markdown",
      "source": [
        "**Itertools**\n",
        "\n",
        "This module implements a number of iterator building blocks inspired by constructs from APL, Haskell, and SML. Each has been recast in a form suitable for Python.\n",
        "\n",
        "The module standardizes a core set of fast, memory efficient tools that are useful by themselves or in combination. Together, they form an “iterator algebra” making it possible to construct specialized tools succinctly and efficiently in pure Python.\n",
        "\n",
        "For instance, SML provides a tabulation tool: tabulate(f) which produces a sequence f(0), f(1), .... The same effect can be achieved in Python by combining map() and count() to form map(f, count()).\n",
        "\n",
        "These tools and their built-in counterparts also work well with the high-speed functions in the operator module. For example, the multiplication operator can be mapped across two vectors to form an efficient dot-product: sum(map(operator.mul, vector1, vector2))."
      ],
      "metadata": {
        "id": "Q1neiOYotL6S"
      }
    },
    {
      "cell_type": "code",
      "execution_count": 12,
      "metadata": {
        "colab": {
          "base_uri": "https://localhost:8080/"
        },
        "id": "EERurXJXtGdF",
        "outputId": "30ee5896-5581-43d2-c0b6-d4c89c65a720"
      },
      "outputs": [
        {
          "output_type": "stream",
          "name": "stdout",
          "text": [
            "10\n",
            "10\n",
            "20\n",
            "30\n",
            "40\n",
            "50\n",
            "60\n",
            "70\n",
            "80\n"
          ]
        }
      ],
      "source": [
        "import itertools\n",
        "\n",
        "sequences = [10,10,20,30,40,50,60,70,80,90]\n",
        "\n",
        "# Gettin the cicle of a sequence\n",
        "cicle = itertools.cycle(sequences)\n",
        "\n",
        "for x in range(9):\n",
        "  print(next(cicle))"
      ]
    },
    {
      "cell_type": "markdown",
      "source": [
        "Creating a counter with itertools"
      ],
      "metadata": {
        "id": "9PL6uzAsuM-u"
      }
    },
    {
      "cell_type": "code",
      "source": [
        "counter = itertools.count(100,10)\n",
        "\n",
        "for x in range(5):\n",
        "  print(next(counter))"
      ],
      "metadata": {
        "colab": {
          "base_uri": "https://localhost:8080/"
        },
        "id": "Mx2gRtA7tSiZ",
        "outputId": "1f07619f-4ebd-4bcf-b90d-d6942b1b6afc"
      },
      "execution_count": 13,
      "outputs": [
        {
          "output_type": "stream",
          "name": "stdout",
          "text": [
            "100\n",
            "110\n",
            "120\n",
            "130\n",
            "140\n"
          ]
        }
      ]
    },
    {
      "cell_type": "markdown",
      "source": [
        "Getting the acumulator values "
      ],
      "metadata": {
        "id": "hPBq3eEVzr4I"
      }
    },
    {
      "cell_type": "code",
      "source": [
        "acumulator = itertools.accumulate(sequences)\n",
        "list(acumulator)"
      ],
      "metadata": {
        "colab": {
          "base_uri": "https://localhost:8080/"
        },
        "id": "12KtdQw9uYyQ",
        "outputId": "711070bd-2e6d-46f7-8bcf-168a8189abc1"
      },
      "execution_count": 21,
      "outputs": [
        {
          "output_type": "execute_result",
          "data": {
            "text/plain": [
              "[10, 20, 40, 70, 110, 160, 220, 290, 370, 460]"
            ]
          },
          "metadata": {},
          "execution_count": 21
        }
      ]
    },
    {
      "cell_type": "markdown",
      "source": [
        "Merging lists of strings"
      ],
      "metadata": {
        "id": "qCGsCninzuFH"
      }
    },
    {
      "cell_type": "code",
      "source": [
        "list_str = itertools.chain(\"ABCD\", \"12345\")\n",
        "list(list_str)"
      ],
      "metadata": {
        "colab": {
          "base_uri": "https://localhost:8080/"
        },
        "id": "82u4pcewx54N",
        "outputId": "80af73c1-bf8a-4b53-dad5-b3d6fad46c75"
      },
      "execution_count": 20,
      "outputs": [
        {
          "output_type": "execute_result",
          "data": {
            "text/plain": [
              "['A', 'B', 'C', 'D', '1', '2', '3', '4', '5']"
            ]
          },
          "metadata": {},
          "execution_count": 20
        }
      ]
    },
    {
      "cell_type": "markdown",
      "source": [
        "Getting or removing some values til a strict condition"
      ],
      "metadata": {
        "id": "49XcmFJnzvhB"
      }
    },
    {
      "cell_type": "code",
      "source": [
        "def condition_take(val):\n",
        "  return val <= 50\n",
        "\n",
        "def condition_remove(val):\n",
        "  return val < 50"
      ],
      "metadata": {
        "id": "2Y6gRVqsyDiK"
      },
      "execution_count": 47,
      "outputs": []
    },
    {
      "cell_type": "code",
      "source": [
        "sequences = [10,10,20,30,40,50,60,70,80,90]\n",
        "print(list(itertools.dropwhile(condition_take, sequences)))\n",
        "\n",
        "print(list(itertools.dropwhile(condition_remove, sequences)))"
      ],
      "metadata": {
        "colab": {
          "base_uri": "https://localhost:8080/"
        },
        "id": "YUO186H70bPM",
        "outputId": "0455ad8f-69f6-42f6-f21c-12914e3a719a"
      },
      "execution_count": 48,
      "outputs": [
        {
          "output_type": "stream",
          "name": "stdout",
          "text": [
            "[60, 70, 80, 90]\n",
            "[50, 60, 70, 80, 90]\n"
          ]
        }
      ]
    },
    {
      "cell_type": "code",
      "source": [],
      "metadata": {
        "colab": {
          "base_uri": "https://localhost:8080/"
        },
        "id": "KiE0Scnt21K7",
        "outputId": "2b1c4bd6-a9b2-4d3f-caa4-35e14fa6a98b"
      },
      "execution_count": 36,
      "outputs": [
        {
          "output_type": "execute_result",
          "data": {
            "text/plain": [
              "[10, 10, 20, 30, 40, 50, 60, 70, 80, 90]"
            ]
          },
          "metadata": {},
          "execution_count": 36
        }
      ]
    },
    {
      "cell_type": "code",
      "source": [],
      "metadata": {
        "id": "s5bBq3GC26Ct"
      },
      "execution_count": null,
      "outputs": []
    }
  ]
}