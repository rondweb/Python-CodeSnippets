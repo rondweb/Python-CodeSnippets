{
  "nbformat": 4,
  "nbformat_minor": 0,
  "metadata": {
    "colab": {
      "provenance": [],
      "collapsed_sections": []
    },
    "kernelspec": {
      "name": "python3",
      "display_name": "Python 3"
    },
    "language_info": {
      "name": "python"
    }
  },
  "cells": [
    {
      "cell_type": "markdown",
      "source": [
        "Python Advanced Concepts - Part 1"
      ],
      "metadata": {
        "id": "vlUHAZDSnpJl"
      }
    },
    {
      "cell_type": "markdown",
      "source": [
        "Template strings\n",
        "\n",
        "Template strings provide simpler string substitutions as described in PEP 292. A primary use case for template strings is for internationalization (i18n) since in that context, the simpler syntax and functionality makes it easier to translate than other built-in string formatting facilities in Python. As an example of a library built on template strings for i18n, see the flufl.i18n package."
      ],
      "metadata": {
        "id": "G_y7DIgTnt74"
      }
    },
    {
      "cell_type": "code",
      "source": [
        "from string import Template\n",
        "\n",
        "templ = Template(\"Hello ${name} welcome to my world! ${take_care}\")\n",
        "t1 = templ.substitute(name=\"ronaldo\", take_care=\"thank you\")\n",
        "print(t1)\n",
        "\n",
        "data = {\"name\":\"marcos\", \"take_care\":\"yeah!\"}\n",
        "t2 = templ.substitute(data)\n",
        "print(t2)"
      ],
      "metadata": {
        "colab": {
          "base_uri": "https://localhost:8080/"
        },
        "id": "gKcYhGTbnw9-",
        "outputId": "c1c50d2c-eb9d-408e-cb1d-8f099f29360b"
      },
      "execution_count": 1,
      "outputs": [
        {
          "output_type": "stream",
          "name": "stdout",
          "text": [
            "Hello ronaldo welcome to my world! thank you\n",
            "Hello marcos welcome to my world! yeah!\n"
          ]
        }
      ]
    },
    {
      "cell_type": "markdown",
      "source": [
        "[Filters](https://docs.python.org/3.7/library/functions.html#filter)\n",
        "\n",
        "Construct an iterator from those elements of iterable for which function returns true. iterable may be either a sequence, a container which supports iteration, or an iterator. If function is None, the identity function is assumed, that is, all elements of iterable that are false are removed."
      ],
      "metadata": {
        "id": "4cQncZEp1-wx"
      }
    },
    {
      "cell_type": "code",
      "source": [
        "def get_pair_numbers(number: int = 0):\n",
        "  if number % 2 == 0:\n",
        "    return True  \n",
        "  return False\n",
        "\n",
        "def get_str_uppercase(st: str = None):\n",
        "  if st.isupper():\n",
        "    return True  \n",
        "  return False"
      ],
      "metadata": {
        "id": "33pzilbFoi5T"
      },
      "execution_count": 14,
      "outputs": []
    },
    {
      "cell_type": "code",
      "source": [
        "list_numbers = [1,2,3,4,5,6,7,8,9]\n",
        "list_strings = \"abCdeFjhKlmNopQrsTuvXz\"\n",
        "\n",
        "# Gettting the pair numbers\n",
        "pair_numbers = list(filter(get_pair_numbers, list_numbers)) \n",
        "\n",
        "# Now let's get our odd numbers reusing our method\n",
        "odd_numbers = list(set(list_numbers) - set(pair_numbers))\n",
        "\n",
        "# Getting the uppercase strings\n",
        "list_upper = list(filter(get_str_uppercase, list_strings))\n",
        "# Getting the lowercase strings\n",
        "list_lower = list(set(list_strings) - set(list_upper))"
      ],
      "metadata": {
        "id": "KP0cY-bx5Up1"
      },
      "execution_count": 18,
      "outputs": []
    },
    {
      "cell_type": "markdown",
      "source": [
        "[Map](https://docs.python.org/3.7/library/functions.html#map)\n",
        " \n",
        "Return an iterator that applies function to every item of iterable, yielding the results. If additional iterable arguments are passed, function must take that many arguments and is applied to the items from all iterables in parallel. With multiple iterables, the iterator stops when the shortest iterable is exhausted. For cases where the function inputs are already arranged into argument tuples, see itertools.starmap()."
      ],
      "metadata": {
        "id": "6GZTCAGs-6xG"
      }
    },
    {
      "cell_type": "code",
      "source": [
        "def get_odd_or_pair_numbers_descr(number: int = 0):\n",
        "  if number % 2 == 0:\n",
        "    return \"Pair\"\n",
        "  return \"Odd\"\n",
        "\n",
        "def get_nearest_square(limit: int = 0):\n",
        "    answer = 0\n",
        "    while (answer+1)**2 < limit:\n",
        "        answer += 1\n",
        "    return answer**2\n",
        "\n",
        "def get_square_root_number(number: int = 0):\n",
        "  import math\n",
        "  return math.sqrt(number)\n",
        "\n",
        "def get_factors_number(number: int = 0):\n",
        "  from functools import reduce\n",
        "  return set(reduce(list.__add__,([i, number//i] for i in range(1, int(number**0.5) + 1) if number % i == 0)))"
      ],
      "metadata": {
        "id": "DpZ3kkk58W3V"
      },
      "execution_count": 55,
      "outputs": []
    },
    {
      "cell_type": "code",
      "source": [
        "list_numbers = [1,2,3,4,5,6,7,8,9,16,64,50,100,2380]"
      ],
      "metadata": {
        "id": "L1bKg4v3bsFM"
      },
      "execution_count": null,
      "outputs": []
    },
    {
      "cell_type": "markdown",
      "source": [
        "Getting a list of pair and odd numbers"
      ],
      "metadata": {
        "id": "wuveeFVLbyZI"
      }
    },
    {
      "cell_type": "code",
      "source": [
        "list_odd_strings = list(map(get_odd_or_pair_numbers_descr, list_numbers))"
      ],
      "metadata": {
        "id": "PaxYKlj5bvBv"
      },
      "execution_count": 56,
      "outputs": []
    },
    {
      "cell_type": "markdown",
      "source": [
        "Getting the nearest square of a number"
      ],
      "metadata": {
        "id": "Q5t-bfNGb2re"
      }
    },
    {
      "cell_type": "code",
      "source": [
        "list_nearest_square = list(map(get_nearest_square, list_numbers))"
      ],
      "metadata": {
        "id": "P9Dvlg_yb5VE"
      },
      "execution_count": 57,
      "outputs": []
    },
    {
      "cell_type": "markdown",
      "source": [
        "Getting the square root number"
      ],
      "metadata": {
        "id": "3zBriP0ub88A"
      }
    },
    {
      "cell_type": "code",
      "source": [
        "list_square_root = list(map(get_square_root_number, list_numbers))"
      ],
      "metadata": {
        "id": "iCRDh54y-h3p"
      },
      "execution_count": 58,
      "outputs": []
    }
  ]
}