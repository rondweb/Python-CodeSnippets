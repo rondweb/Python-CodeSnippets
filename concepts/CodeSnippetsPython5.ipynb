{
  "nbformat": 4,
  "nbformat_minor": 0,
  "metadata": {
    "colab": {
      "provenance": [],
      "collapsed_sections": []
    },
    "kernelspec": {
      "name": "python3",
      "display_name": "Python 3"
    },
    "language_info": {
      "name": "python"
    }
  },
  "cells": [
    {
      "cell_type": "markdown",
      "source": [
        "[**Enum**](https://docs.python.org/3/library/enum.html)\n",
        "\n",
        "An enumeration is a set of symbolic names (members) bound to unique, constant values. Within an enumeration, the members can be compared by identity, and the enumeration itself can be iterated over."
      ],
      "metadata": {
        "id": "CDhMf_44Ch_P"
      }
    },
    {
      "cell_type": "code",
      "source": [
        "from enum import Enum, auto"
      ],
      "metadata": {
        "id": "nP4tsfc-C1LN"
      },
      "execution_count": null,
      "outputs": []
    },
    {
      "cell_type": "code",
      "source": [
        "class TypeCar(Enum):\n",
        "  SPORTIVE = 1\n",
        "  SEDAN = 2\n",
        "  SUV = 3\n",
        "  UTILITY = auto()\n",
        "\n",
        "print(TypeCar.SPORTIVE)\n",
        "print(type(TypeCar.SEDAN))\n",
        "print(repr(TypeCar.SUV))\n",
        "print(TypeCar.SPORTIVE.name)\n",
        "print(TypeCar.SPORTIVE.value)\n",
        "print(TypeCar.UTILITY)\n",
        "\n",
        "cars = dict()\n",
        "cars[TypeCar.SEDAN] = \"Volkswagen\"\n",
        "\n",
        "print(cars)"
      ],
      "metadata": {
        "colab": {
          "base_uri": "https://localhost:8080/"
        },
        "id": "QS0Wwk9g_fd5",
        "outputId": "a58fd505-5416-4831-93c9-e9c83bac9bb0"
      },
      "execution_count": null,
      "outputs": [
        {
          "output_type": "stream",
          "name": "stdout",
          "text": [
            "TypeCar.SPORTIVE\n",
            "<enum 'TypeCar'>\n",
            "<TypeCar.SUV: 3>\n",
            "SPORTIVE\n",
            "1\n",
            "TypeCar.UTILITY\n",
            "{<TypeCar.SEDAN: 2>: 'Volkswagen'}\n"
          ]
        }
      ]
    },
    {
      "cell_type": "markdown",
      "source": [
        "[Class](https://docs.python.org/3/library/abc.html?highlight=class)\n",
        "\n",
        "This module provides the infrastructure for defining abstract base classes (ABCs) in Python, as outlined in PEP 3119; see the PEP for why this was added to Python. (See also PEP 3141 and the numbers module regarding a type hierarchy for numbers based on ABCs.)\n",
        "\n",
        "The collections module has some concrete classes that derive from ABCs; these can, of course, be further derived. In addition, the collections.abc submodule has some ABCs that can be used to test whether a class or instance provides a particular interface, for example, if it is hashable or if it is a mapping.\n",
        "\n",
        "This module provides the metaclass ABCMeta for defining ABCs and a helper class ABC to alternatively define ABCs through inheritance:"
      ],
      "metadata": {
        "id": "dEc2DSRP2ZOC"
      }
    },
    {
      "cell_type": "code",
      "source": [
        "class Car():\n",
        "  def __init__(self):\n",
        "    self.id = 1\n",
        "    self.TypeCar = TypeCar.SEDAN\n",
        "    self.name = \"BMW\"\n",
        "  \n",
        "  def __repr__(self):\n",
        "    str_repr = \"Class {0} id: {1}, Type: {2}, Name: {3}\" \n",
        "    return str_repr.format(Car.__name__, self.id, self.TypeCar, self.name)\n",
        "  \n",
        "  def __str__(self):\n",
        "    str_repr = \"Car id: {0}, Type: {1}, Name: {2}\" \n",
        "    return str_repr.format(self.id, self.TypeCar, self.name)\n",
        "  \n",
        "  def __bytes__(self):\n",
        "    str_repr = \"Class {0} id: {1}, Type: {2}, Name: {3}\" \n",
        "    str_repr = str_repr.format(Car.__name__, self.id, self.TypeCar, self.name)\n",
        "    return str_repr.encode(\"utf-8\")\n",
        "\n",
        "car = Car()\n",
        "print(str(car))\n",
        "print(repr(car))\n",
        "print(bytes(car))"
      ],
      "metadata": {
        "colab": {
          "base_uri": "https://localhost:8080/"
        },
        "id": "rqjt6NLC0pWm",
        "outputId": "131f4b1f-b8f2-4fa5-b86d-715cbba37763"
      },
      "execution_count": null,
      "outputs": [
        {
          "output_type": "stream",
          "name": "stdout",
          "text": [
            "Car id: 1, Type: TypeCar.SEDAN, Name: BMW\n",
            "Class Car id: 1, Type: TypeCar.SEDAN, Name: BMW\n",
            "b'Class Car id: 1, Type: TypeCar.SEDAN, Name: BMW'\n"
          ]
        }
      ]
    },
    {
      "cell_type": "markdown",
      "source": [
        "Creating the possibility to update the attribute of class Car or making some operations like +, - or +="
      ],
      "metadata": {
        "id": "3QAIQoRY6uiy"
      }
    },
    {
      "cell_type": "code",
      "source": [
        "class Car():\n",
        "  def __init__(self, price: float = None):\n",
        "    self.id = 1\n",
        "    self.TypeCar = TypeCar.SEDAN\n",
        "    self.name = \"BMW\"\n",
        "    self.price = price\n",
        "  \n",
        "  def __add__(self, other):\n",
        "    return Car(self.price + other.price)\n",
        "\n",
        "  def __sub__(self, other):\n",
        "    return Car(self.price - other.price)\n",
        "\n",
        "  def __iadd__(self, other):\n",
        "    self.price += other.price\n",
        "    return self\n",
        "\n",
        "  def __dir__(self):\n",
        "    return (\"id\", \"TypeCar\", \"name\")\n",
        "  \n",
        "  def __setattr__(self, __name, __value) -> None:\n",
        "    super().__setattr__(__name, __value)\n",
        "  \n",
        "  def __repr__(self):\n",
        "    str_repr = \"Class {0} id: {1}, Type: {2}, Name: {3}, Price: {4}\" \n",
        "    return str_repr.format(Car.__name__, self.id, self.TypeCar, self.name, self.price)\n",
        "  \n",
        "  def __str__(self):\n",
        "    str_repr = \"Car id: {0}, Type: {1}, Name: {2}, Price: {3}\" \n",
        "    return str_repr.format(self.id, self.TypeCar, self.name, self.price)\n",
        "  \n",
        "  def __bytes__(self):\n",
        "    str_repr = \"Class {0} id: {1}, Type: {2}, Name: {3}\" \n",
        "    str_repr = str_repr.format(Car.__name__, self.id, self.TypeCar, self.name)\n",
        "    return str_repr.encode(\"utf-8\")\n",
        "\n",
        "car = Car()\n",
        "car.name = \"Ferrari\"\n",
        "print(str(car))\n",
        "print(repr(car))\n",
        "print(bytes(car))\n",
        "print(dir(car))\n",
        "\n",
        "car1 = Car(3000)\n",
        "car2 = Car(1000)\n",
        "car3 = car1+car2\n",
        "car4 = car1-car2\n",
        "car5 = Car(1000)\n",
        "car6 = Car(1000)\n",
        "car6 += car5\n",
        "\n",
        "print(car3)\n",
        "print(car4)\n",
        "print(car6)"
      ],
      "metadata": {
        "colab": {
          "base_uri": "https://localhost:8080/"
        },
        "id": "DDtwaOhQ3Akx",
        "outputId": "9a28c3ee-012d-4b1f-b470-03c3dfb98645"
      },
      "execution_count": null,
      "outputs": [
        {
          "output_type": "stream",
          "name": "stdout",
          "text": [
            "Car id: 1, Type: TypeCar.SEDAN, Name: Ferrari, Price: None\n",
            "Class Car id: 1, Type: TypeCar.SEDAN, Name: Ferrari, Price: None\n",
            "b'Class Car id: 1, Type: TypeCar.SEDAN, Name: Ferrari'\n",
            "['TypeCar', 'id', 'name']\n",
            "Car id: 1, Type: TypeCar.SEDAN, Name: BMW, Price: 4000\n",
            "Car id: 1, Type: TypeCar.SEDAN, Name: BMW, Price: 2000\n",
            "Car id: 1, Type: TypeCar.SEDAN, Name: BMW, Price: 2000\n"
          ]
        }
      ]
    },
    {
      "cell_type": "markdown",
      "source": [
        "Comparing objects using their attributes using the operations >=, =<, >, <"
      ],
      "metadata": {
        "id": "wagYH6LuAwT0"
      }
    },
    {
      "cell_type": "code",
      "source": [
        "class Car():\n",
        "  def __init__(self, price: float = None):\n",
        "    self.id = 1\n",
        "    self.TypeCar = TypeCar.SEDAN\n",
        "    self.name = \"BMW\"\n",
        "    self.price = price\n",
        "  \n",
        "  def __add__(self, other):\n",
        "    return Car(self.price + other.price)\n",
        "\n",
        "  def __sub__(self, other):\n",
        "    return Car(self.price - other.price)\n",
        "\n",
        "  def __iadd__(self, other):\n",
        "    self.price += other.price\n",
        "    return self\n",
        "  \n",
        "  def __gt__(self, other):\n",
        "    return self.price > other.price\n",
        "  \n",
        "  def __ge__(self, other):\n",
        "    return self.price >= other.price\n",
        "  \n",
        "  def __lt__(self, other):\n",
        "    return self.price < other.price\n",
        "  \n",
        "  def __le__(self, other):\n",
        "    return self.price <= other.price\n",
        "\n",
        "  def __dir__(self):\n",
        "    return (\"id\", \"TypeCar\", \"name\")\n",
        "  \n",
        "  def __setattr__(self, __name, __value) -> None:\n",
        "    super().__setattr__(__name, __value)\n",
        "  \n",
        "  def __repr__(self):\n",
        "    str_repr = \"Class {0} id: {1}, Type: {2}, Name: {3}, Price: {4}\" \n",
        "    return str_repr.format(Car.__name__, self.id, self.TypeCar, self.name, self.price)\n",
        "  \n",
        "  def __str__(self):\n",
        "    str_repr = \"Car id: {0}, Type: {1}, Name: {2}, Price: {3}\" \n",
        "    return str_repr.format(self.id, self.TypeCar, self.name, self.price)\n",
        "  \n",
        "  def __bytes__(self):\n",
        "    str_repr = \"Class {0} id: {1}, Type: {2}, Name: {3}\" \n",
        "    str_repr = str_repr.format(Car.__name__, self.id, self.TypeCar, self.name)\n",
        "    return str_repr.encode(\"utf-8\")"
      ],
      "metadata": {
        "id": "f_xGMcl77GnX"
      },
      "execution_count": null,
      "outputs": []
    },
    {
      "cell_type": "code",
      "source": [
        "car1 = Car(3000)\n",
        "car2 = Car(1000)\n",
        "car3  = Car(1000)\n",
        "\n",
        "print(car1 > car2)\n",
        "print(car1 >= car2)\n",
        "\n",
        "print(car1 < car2)\n",
        "print(car2 <= car3)"
      ],
      "metadata": {
        "colab": {
          "base_uri": "https://localhost:8080/"
        },
        "id": "svF_WjoACAXX",
        "outputId": "37f54a9c-2d2b-4fbe-d5e4-0276dd896ce6"
      },
      "execution_count": null,
      "outputs": [
        {
          "output_type": "stream",
          "name": "stdout",
          "text": [
            "True\n",
            "True\n",
            "False\n",
            "True\n"
          ]
        }
      ]
    },
    {
      "cell_type": "code",
      "source": [],
      "metadata": {
        "id": "XpRSnv1VCJba"
      },
      "execution_count": null,
      "outputs": []
    }
  ]
}