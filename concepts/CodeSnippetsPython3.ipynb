{
  "nbformat": 4,
  "nbformat_minor": 0,
  "metadata": {
    "colab": {
      "provenance": [],
      "collapsed_sections": []
    },
    "kernelspec": {
      "name": "python3",
      "display_name": "Python 3"
    },
    "language_info": {
      "name": "python"
    }
  },
  "cells": [
    {
      "cell_type": "markdown",
      "source": [
        "DocString\n",
        "\n",
        "Getting the documentation of methods Python"
      ],
      "metadata": {
        "id": "Q1neiOYotL6S"
      }
    },
    {
      "cell_type": "code",
      "execution_count": null,
      "metadata": {
        "colab": {
          "base_uri": "https://localhost:8080/"
        },
        "id": "EERurXJXtGdF",
        "outputId": "cffc252b-c031-4355-af67-3b491ff43515"
      },
      "outputs": [
        {
          "output_type": "stream",
          "name": "stdout",
          "text": [
            "map(func, *iterables) --> map object\n",
            "\n",
            "Make an iterator that computes the function using arguments from\n",
            "each of the iterables.  Stops when the shortest iterable is exhausted.\n"
          ]
        }
      ],
      "source": [
        "print(map.__doc__)"
      ]
    },
    {
      "cell_type": "markdown",
      "source": [
        "Docstring Collections"
      ],
      "metadata": {
        "id": "9PL6uzAsuM-u"
      }
    },
    {
      "cell_type": "code",
      "source": [
        "import collections\n",
        "\n",
        "print(collections.__doc__)"
      ],
      "metadata": {
        "colab": {
          "base_uri": "https://localhost:8080/"
        },
        "id": "Mx2gRtA7tSiZ",
        "outputId": "63572c72-15bd-4683-e1ef-1d9e8de5b3b5"
      },
      "execution_count": null,
      "outputs": [
        {
          "output_type": "stream",
          "name": "stdout",
          "text": [
            "This module implements specialized container datatypes providing\n",
            "alternatives to Python's general purpose built-in containers, dict,\n",
            "list, set, and tuple.\n",
            "\n",
            "* namedtuple   factory function for creating tuple subclasses with named fields\n",
            "* deque        list-like container with fast appends and pops on either end\n",
            "* ChainMap     dict-like class for creating a single view of multiple mappings\n",
            "* Counter      dict subclass for counting hashable objects\n",
            "* OrderedDict  dict subclass that remembers the order entries were added\n",
            "* defaultdict  dict subclass that calls a factory function to supply missing values\n",
            "* UserDict     wrapper around dictionary objects for easier dict subclassing\n",
            "* UserList     wrapper around list objects for easier list subclassing\n",
            "* UserString   wrapper around string objects for easier string subclassing\n",
            "\n",
            "\n"
          ]
        }
      ]
    },
    {
      "cell_type": "markdown",
      "source": [
        "Creating the a docstring function "
      ],
      "metadata": {
        "id": "hPBq3eEVzr4I"
      }
    },
    {
      "cell_type": "code",
      "source": [
        "def hello_world(arg1, arg2 = None):\n",
        "  \"\"\"My first method's documentation using docstring\n",
        "  Params:\n",
        "    arg1: My first argument\n",
        "    arg2: My second argument with default None\n",
        "  \"\"\"\n",
        "\n",
        "  return (\"hello world!\", arg1, arg2)"
      ],
      "metadata": {
        "id": "s5bBq3GC26Ct"
      },
      "execution_count": null,
      "outputs": []
    },
    {
      "cell_type": "code",
      "source": [
        "print(hello_world.__doc__)"
      ],
      "metadata": {
        "colab": {
          "base_uri": "https://localhost:8080/"
        },
        "id": "tLOtRb368wa5",
        "outputId": "9c17d768-8285-4340-dee3-4163411a3597"
      },
      "execution_count": null,
      "outputs": [
        {
          "output_type": "stream",
          "name": "stdout",
          "text": [
            "My first method's documentation using docstring\n",
            "  Params:\n",
            "    arg1: My first argument\n",
            "    arg2: My second argument with default None\n",
            "  \n"
          ]
        }
      ]
    },
    {
      "cell_type": "code",
      "source": [],
      "metadata": {
        "id": "o-mRd4Ow833c"
      },
      "execution_count": null,
      "outputs": []
    }
  ]
}