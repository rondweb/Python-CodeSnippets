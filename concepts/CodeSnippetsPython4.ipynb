{
  "nbformat": 4,
  "nbformat_minor": 0,
  "metadata": {
    "colab": {
      "provenance": []
    },
    "kernelspec": {
      "name": "python3",
      "display_name": "Python 3"
    },
    "language_info": {
      "name": "python"
    }
  },
  "cells": [
    {
      "cell_type": "markdown",
      "source": [
        "[**Lambda Expression**](https://docs.python.org/3/tutorial/controlflow.html)\n",
        "\n",
        "Small anonymous functions can be created with the lambda keyword. This function returns the sum of its two arguments: lambda a, b: a+b. Lambda functions can be used wherever function objects are required. They are syntactically restricted to a single expression. Semantically, they are just syntactic sugar for a normal function definition. Like nested function definitions, lambda functions can reference variables from the containing scope:"
      ],
      "metadata": {
        "id": "CDhMf_44Ch_P"
      }
    },
    {
      "cell_type": "code",
      "source": [
        "list_numbers = [1,2,3,4,5,6,7,8,9]\n",
        "\n",
        "print(list(map(lambda n: n**2, list_numbers)))"
      ],
      "metadata": {
        "colab": {
          "base_uri": "https://localhost:8080/"
        },
        "id": "nP4tsfc-C1LN",
        "outputId": "5acf84e7-27d5-4887-96de-6a204c4e21e3"
      },
      "execution_count": 10,
      "outputs": [
        {
          "output_type": "stream",
          "name": "stdout",
          "text": [
            "[1, 4, 9, 16, 25, 36, 49, 64, 81]\n"
          ]
        }
      ]
    },
    {
      "cell_type": "markdown",
      "source": [
        "**Working with args of a function**"
      ],
      "metadata": {
        "id": "YxT-1R0p_ZK7"
      }
    },
    {
      "cell_type": "code",
      "source": [
        "def sum_args(*args):\n",
        "  return sum(args)\n",
        "\n",
        "print(sum_args(1,2,3,4,5))\n",
        "print(sum_args(1,2,3))\n",
        "print(sum_args(*[10,20,30]))"
      ],
      "metadata": {
        "colab": {
          "base_uri": "https://localhost:8080/"
        },
        "id": "QS0Wwk9g_fd5",
        "outputId": "b0361d9c-7fa8-4732-b153-41b527b769c3"
      },
      "execution_count": 7,
      "outputs": [
        {
          "output_type": "stream",
          "name": "stdout",
          "text": [
            "15\n",
            "6\n",
            "60\n"
          ]
        }
      ]
    },
    {
      "cell_type": "markdown",
      "source": [
        "Working with functions and positional args"
      ],
      "metadata": {
        "id": "z53ZHflNHOus"
      }
    },
    {
      "cell_type": "code",
      "source": [
        "def show_args(arg1, arg2, *, delete=True):\n",
        "  print(arg1,arg2,delete)\n",
        "\n",
        "show_args(1,2,delete=True)\n"
      ],
      "metadata": {
        "colab": {
          "base_uri": "https://localhost:8080/"
        },
        "id": "awsdgiqiDU70",
        "outputId": "851e20ba-4010-4741-b1a1-2056ac0c6eac"
      },
      "execution_count": 18,
      "outputs": [
        {
          "output_type": "stream",
          "name": "stdout",
          "text": [
            "1 2 True\n"
          ]
        }
      ]
    },
    {
      "cell_type": "markdown",
      "source": [
        "**[Collections](https://docs.python.org/3/library/collections.html?highlight=collections#module-collections)**\n",
        "\n",
        "This module implements specialized container datatypes providing alternatives to Python’s general purpose built-in containers, dict, list, set, and tuple.\n",
        "\n",
        "**ChainMap**\n",
        "\n",
        "dict-like class for creating a single view of multiple mappings\n",
        "\n",
        "**UserDict**\n",
        "\n",
        "wrapper around dictionary objects for easier dict subclassing\n",
        "\n",
        "**UserList**\n",
        "\n",
        "wrapper around list objects for easier list subclassing\n",
        "\n",
        "**UserString**\n",
        "\n",
        "wrapper around string objects for easier string subclassing"
      ],
      "metadata": {
        "id": "sCISnSopLHTx"
      }
    },
    {
      "cell_type": "code",
      "source": [
        "import collections"
      ],
      "metadata": {
        "id": "ve1twoOmHgwr"
      },
      "execution_count": 19,
      "outputs": []
    },
    {
      "cell_type": "markdown",
      "source": [
        "**namedtuple()**\n",
        "\n",
        "factory function for creating tuple subclasses with named fields"
      ],
      "metadata": {
        "id": "-VtNdFv7QdbE"
      }
    },
    {
      "cell_type": "code",
      "source": [
        "coords = collections.namedtuple(\"Location\", \"lng  lat\")\n",
        "\n",
        "p1 = coords(1.0, 2.0)\n",
        "p2 = coords(2.0, 3.0)\n",
        "\n",
        "print(p1, p2)\n",
        "print(p1.lng, p2.lat)\n",
        "\n",
        "p2 = p2._replace(lng=1.0)\n",
        "print(p1, p2)"
      ],
      "metadata": {
        "colab": {
          "base_uri": "https://localhost:8080/"
        },
        "id": "qZGLrHjiQhcp",
        "outputId": "72adcd4a-ff09-4fb7-bb88-ff7e06bca601"
      },
      "execution_count": 29,
      "outputs": [
        {
          "output_type": "stream",
          "name": "stdout",
          "text": [
            "Location(lng=1.0, lat=2.0) Location(lng=2.0, lat=3.0)\n",
            "1.0 3.0\n",
            "Location(lng=1.0, lat=2.0) Location(lng=1.0, lat=3.0)\n"
          ]
        }
      ]
    },
    {
      "cell_type": "markdown",
      "source": [
        "**defaultdict**\n",
        "\n",
        "dict subclass that calls a factory function to supply missing values"
      ],
      "metadata": {
        "id": "txPvYbdNR9cs"
      }
    },
    {
      "cell_type": "code",
      "source": [
        "list_fruits = [\"apple\", \"banana\", \"pineapple\", \"apple\", \"strawberry\", \"strawberry\", \"strawberry\"]\n",
        "\n",
        "# we can use lambda to personalize our data ex: lambda: 100\n",
        "list_index_fruits = collections.defaultdict(int) \n",
        "\n",
        "for f in list_fruits:\n",
        "  list_index_fruits[f] += 1\n",
        "\n",
        "print(list_index_fruits)"
      ],
      "metadata": {
        "colab": {
          "base_uri": "https://localhost:8080/"
        },
        "id": "CKiqN14IQ9Vt",
        "outputId": "eef68b0a-d9b2-4502-c663-93fb4b21d94e"
      },
      "execution_count": 46,
      "outputs": [
        {
          "output_type": "stream",
          "name": "stdout",
          "text": [
            "defaultdict(<class 'int'>, {'apple': 2, 'banana': 1, 'pineapple': 1, 'strawberry': 3})\n"
          ]
        }
      ]
    },
    {
      "cell_type": "markdown",
      "source": [
        "**Counter**\n",
        "\n",
        "dict subclass for counting hashable objects"
      ],
      "metadata": {
        "id": "lKtMnnF9VgVr"
      }
    },
    {
      "cell_type": "code",
      "source": [
        "fruit_counts_counter = collections.Counter(list_fruits)\n",
        "\n",
        "print(\"how many strawberries: \", fruit_counts_counter[\"strawberry\"])\n",
        "print(\"how many fruits: \", sum(fruit_counts_counter.values()))"
      ],
      "metadata": {
        "colab": {
          "base_uri": "https://localhost:8080/"
        },
        "id": "42XPEmjJTRIX",
        "outputId": "f2a4121a-4312-4729-80fe-2133586af0e8"
      },
      "execution_count": 48,
      "outputs": [
        {
          "output_type": "stream",
          "name": "stdout",
          "text": [
            "how many strawberries:  3\n",
            "how many fruits:  7\n"
          ]
        }
      ]
    },
    {
      "cell_type": "markdown",
      "source": [
        "Adding more fruits!"
      ],
      "metadata": {
        "id": "75ZdQsDeWjr7"
      }
    },
    {
      "cell_type": "code",
      "source": [
        "fruit_counts_counter.update([\"watermelon\", \"banana\", \"strawberry\", \"strawberry\"])\n",
        "\n",
        "print(\"how many strawberries: \", fruit_counts_counter[\"strawberry\"])\n",
        "print(\"how many fruits: \", sum(fruit_counts_counter.values()))"
      ],
      "metadata": {
        "colab": {
          "base_uri": "https://localhost:8080/"
        },
        "id": "pzYrU9bEWEPl",
        "outputId": "e33334da-a0f9-4f00-8eb2-5fbc59bf6c90"
      },
      "execution_count": 49,
      "outputs": [
        {
          "output_type": "stream",
          "name": "stdout",
          "text": [
            "how many strawberries:  5\n",
            "how many fruits:  11\n"
          ]
        }
      ]
    },
    {
      "cell_type": "code",
      "source": [
        "print(\"the top 3 common fruits are: \", fruit_counts_counter.most_common(5))"
      ],
      "metadata": {
        "colab": {
          "base_uri": "https://localhost:8080/"
        },
        "id": "PBs1CQyAWgiY",
        "outputId": "144bd289-a4d4-4b39-ef54-5217617d55ae"
      },
      "execution_count": 57,
      "outputs": [
        {
          "output_type": "stream",
          "name": "stdout",
          "text": [
            "the top 3 common fruits are:  [('strawberry', 3), ('apple', 2), ('pineapple', 1), ('watermelon', 1), ('banana', 0)]\n"
          ]
        }
      ]
    },
    {
      "cell_type": "markdown",
      "source": [
        "Let's remove some fruits!"
      ],
      "metadata": {
        "id": "YYITWCoUXiIc"
      }
    },
    {
      "cell_type": "code",
      "source": [
        "fruit_counts_counter.subtract([\"banana\", \"strawberry\"])\n",
        "\n",
        "print(\"the top common fruits are: \", fruit_counts_counter.most_common())"
      ],
      "metadata": {
        "colab": {
          "base_uri": "https://localhost:8080/"
        },
        "id": "IxD02POHW8BK",
        "outputId": "d4182d18-2092-48e9-8dcc-530589a78216"
      },
      "execution_count": 58,
      "outputs": [
        {
          "output_type": "stream",
          "name": "stdout",
          "text": [
            "the top common fruits are:  [('apple', 2), ('strawberry', 2), ('pineapple', 1), ('watermelon', 1), ('banana', -1)]\n"
          ]
        }
      ]
    },
    {
      "cell_type": "markdown",
      "source": [
        "Let's compare two baskets of fruits to find the common fruits!"
      ],
      "metadata": {
        "id": "W0OP4RSbYNwt"
      }
    },
    {
      "cell_type": "code",
      "source": [
        "basket1 = collections.Counter([\"banana\", \"strawberry\", \"orange\"])\n",
        "basket2 = collections.Counter([\"pineapple\", \"strawberry\", \"orange\", \"watermelon\"])\n",
        "\n",
        "print(basket1 & basket2)"
      ],
      "metadata": {
        "colab": {
          "base_uri": "https://localhost:8080/"
        },
        "id": "sI4mQ-CQXtLt",
        "outputId": "bb64983a-420c-4db8-bd10-4ec34333a495"
      },
      "execution_count": 60,
      "outputs": [
        {
          "output_type": "stream",
          "name": "stdout",
          "text": [
            "Counter({'strawberry': 1, 'orange': 1})\n"
          ]
        }
      ]
    },
    {
      "cell_type": "markdown",
      "source": [
        "**OrderedDict**\n",
        "\n",
        "dict subclass that remembers the order entries were added"
      ],
      "metadata": {
        "id": "O3mnNe6AbXmW"
      }
    },
    {
      "cell_type": "code",
      "source": [
        "list_cars = [(\"ferrari\", (3, 3000)),(\"subaru\", (5, 1500)),(\"bmw\", (10, 2000))]\n",
        "list_cars"
      ],
      "metadata": {
        "colab": {
          "base_uri": "https://localhost:8080/"
        },
        "id": "i2uCz09WYpbP",
        "outputId": "22aae3ed-9de9-4422-d287-df3c2c879610"
      },
      "execution_count": 73,
      "outputs": [
        {
          "output_type": "execute_result",
          "data": {
            "text/plain": [
              "[('ferrari', (3, 3000)), ('subaru', (5, 1500)), ('bmw', (10, 2000))]"
            ]
          },
          "metadata": {},
          "execution_count": 73
        }
      ]
    },
    {
      "cell_type": "code",
      "source": [
        "ordered_cars = sorted(list_cars, key=lambda c: c[1][0], reverse=True)\n",
        "ordered_cars"
      ],
      "metadata": {
        "colab": {
          "base_uri": "https://localhost:8080/"
        },
        "id": "KO33rl4kb1It",
        "outputId": "d818bc1c-1857-430b-eaf0-6d6179bdb305"
      },
      "execution_count": 74,
      "outputs": [
        {
          "output_type": "execute_result",
          "data": {
            "text/plain": [
              "[('bmw', (10, 2000)), ('subaru', (5, 1500)), ('ferrari', (3, 3000))]"
            ]
          },
          "metadata": {},
          "execution_count": 74
        }
      ]
    },
    {
      "cell_type": "code",
      "source": [
        "oderect_dict_cars = collections.OrderedDict(ordered_cars)\n",
        "oderect_dict_cars"
      ],
      "metadata": {
        "colab": {
          "base_uri": "https://localhost:8080/"
        },
        "id": "qaQpt0cDcMmr",
        "outputId": "051d501b-3684-4f34-9908-3c07230bd940"
      },
      "execution_count": 75,
      "outputs": [
        {
          "output_type": "execute_result",
          "data": {
            "text/plain": [
              "OrderedDict([('bmw', (10, 2000)),\n",
              "             ('subaru', (5, 1500)),\n",
              "             ('ferrari', (3, 3000))])"
            ]
          },
          "metadata": {},
          "execution_count": 75
        }
      ]
    },
    {
      "cell_type": "code",
      "source": [
        "name, values = oderect_dict_cars.popitem(False) # false to remove the first item of the dict\n",
        "print(\"Removing the top item car\", name, values)"
      ],
      "metadata": {
        "colab": {
          "base_uri": "https://localhost:8080/"
        },
        "id": "HBb5obo5crg5",
        "outputId": "7d9f5457-84a9-441c-e92e-de7ded670479"
      },
      "execution_count": 76,
      "outputs": [
        {
          "output_type": "stream",
          "name": "stdout",
          "text": [
            "Removing the top item car bmw (10, 2000)\n"
          ]
        }
      ]
    },
    {
      "cell_type": "markdown",
      "source": [
        "**deque**\n",
        "\n",
        "list-like container with fast appends and pops on either end"
      ],
      "metadata": {
        "id": "EQ2heZove3nw"
      }
    },
    {
      "cell_type": "code",
      "source": [
        "import string\n",
        "items_ascii = collections.deque(string.ascii_lowercase)\n",
        "\n",
        "print([c for c in items_ascii])"
      ],
      "metadata": {
        "colab": {
          "base_uri": "https://localhost:8080/"
        },
        "id": "J395XGTpdPls",
        "outputId": "703aa155-b2f5-41e3-92a7-dc0c58a2941f"
      },
      "execution_count": 88,
      "outputs": [
        {
          "output_type": "stream",
          "name": "stdout",
          "text": [
            "['a', 'b', 'c', 'd', 'e', 'f', 'g', 'h', 'i', 'j', 'k', 'l', 'm', 'n', 'o', 'p', 'q', 'r', 's', 't', 'u', 'v', 'w', 'x', 'y', 'z']\n"
          ]
        }
      ]
    },
    {
      "cell_type": "code",
      "source": [
        "items_ascii.pop() #remove the right side\n",
        "items_ascii.popleft() #remove the left side\n",
        "items_ascii.append(10) #add item on the right side\n",
        "items_ascii.appendleft(1) # add item on the left side\n",
        "print([c for c in items_ascii])"
      ],
      "metadata": {
        "colab": {
          "base_uri": "https://localhost:8080/"
        },
        "id": "0Er4wCYUfDZp",
        "outputId": "ae80c60c-9370-407f-a1b1-584110a3bf40"
      },
      "execution_count": 90,
      "outputs": [
        {
          "output_type": "stream",
          "name": "stdout",
          "text": [
            "[1, 'b', 'c', 'd', 'e', 'f', 'g', 'h', 'i', 'j', 'k', 'l', 'm', 'n', 'o', 'p', 'q', 'r', 's', 't', 'u', 'v', 'w', 'x', 'y', 10]\n"
          ]
        }
      ]
    },
    {
      "cell_type": "code",
      "source": [],
      "metadata": {
        "id": "5FnXCvPOh5Yf"
      },
      "execution_count": null,
      "outputs": []
    }
  ]
}