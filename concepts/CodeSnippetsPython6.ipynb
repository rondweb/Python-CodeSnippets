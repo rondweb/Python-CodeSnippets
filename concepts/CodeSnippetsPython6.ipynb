{
  "nbformat": 4,
  "nbformat_minor": 0,
  "metadata": {
    "colab": {
      "provenance": [],
      "collapsed_sections": []
    },
    "kernelspec": {
      "name": "python3",
      "display_name": "Python 3"
    },
    "language_info": {
      "name": "python"
    }
  },
  "cells": [
    {
      "cell_type": "markdown",
      "source": [
        "[**Logging**](https://docs.python.org/3/library/logging.html?highlight=logging#module-logging)\n",
        "\n",
        "This module defines functions and classes which implement a flexible event logging system for applications and libraries.\n",
        "\n",
        "The key benefit of having the logging API provided by a standard library module is that all Python modules can participate in logging, so your application log can include your own messages integrated with messages from third-party modules."
      ],
      "metadata": {
        "id": "CDhMf_44Ch_P"
      }
    },
    {
      "cell_type": "code",
      "source": [
        "import logging"
      ],
      "metadata": {
        "id": "nP4tsfc-C1LN"
      },
      "execution_count": null,
      "outputs": []
    },
    {
      "cell_type": "code",
      "source": [
        "def main():  \n",
        "  logging.debug(logging.DEBUG)\n",
        "  logging.info(logging.INFO)\n",
        "  logging.warning(logging.WARNING)\n",
        "  logging.error(logging.ERROR)\n",
        "  logging.critical(logging.CRITICAL)\n",
        "\n",
        "def main2():  \n",
        "  print(main2.__name__)\n",
        "  logging.basicConfig(level=logging.INFO)\n",
        "  logging.debug(logging.DEBUG)\n",
        "  logging.info(logging.INFO)\n",
        "  logging.warning(logging.WARNING)\n",
        "  logging.error(logging.ERROR)\n",
        "  logging.critical(logging.CRITICAL)\n",
        "\n",
        "main()\n",
        "print('---')\n",
        "main2()"
      ],
      "metadata": {
        "colab": {
          "base_uri": "https://localhost:8080/"
        },
        "id": "QS0Wwk9g_fd5",
        "outputId": "48d4a44e-059f-471e-940b-a1d59f4cd64f"
      },
      "execution_count": null,
      "outputs": [
        {
          "output_type": "stream",
          "name": "stderr",
          "text": [
            "WARNING:root:30\n",
            "ERROR:root:40\n",
            "CRITICAL:root:50\n",
            "WARNING:root:30\n",
            "ERROR:root:40\n",
            "CRITICAL:root:50\n"
          ]
        },
        {
          "output_type": "stream",
          "name": "stdout",
          "text": [
            "---\n",
            "main2\n"
          ]
        }
      ]
    },
    {
      "cell_type": "markdown",
      "source": [
        "Saving the logs inside a file"
      ],
      "metadata": {
        "id": "yQainM1iF-GB"
      }
    },
    {
      "cell_type": "code",
      "source": [
        "info_extra = {\"user\": \"lorem lipsum\"}\n",
        "str_format = \"%(asctime)s: %(levelname)s: %(funcName)s %(user)s\"\n",
        "\n",
        "logging.basicConfig(filename=\"/content/outlog.log\", level=logging.DEBUG, format=format)\n",
        "# logging.basicConfig(format=str_format)\n",
        "logging.debug(logging.DEBUG)\n",
        "logging.info(logging.INFO)\n",
        "logging.warning(logging.WARNING, extra=info_extra)\n",
        "logging.error(logging.ERROR)\n",
        "logging.critical(logging.CRITICAL)"
      ],
      "metadata": {
        "id": "XpRSnv1VCJba",
        "colab": {
          "base_uri": "https://localhost:8080/"
        },
        "outputId": "5b4361c9-525b-4f35-c938-309406868f1f"
      },
      "execution_count": null,
      "outputs": [
        {
          "output_type": "stream",
          "name": "stderr",
          "text": [
            "WARNING:root:30\n",
            "ERROR:root:40\n",
            "CRITICAL:root:50\n"
          ]
        }
      ]
    },
    {
      "cell_type": "code",
      "source": [
        "numbers = [1,2,3,4,5,6,7,8,9]\n",
        "pairs = [n for n in numbers if n%2 == 0]\n",
        "odds = list(set(numbers) - set(pairs))\n",
        "\n",
        "square = [sqr**2 for sqr in pairs]\n",
        "cubics = [c**3 for c in odds]\n",
        "print(pairs, odds)\n",
        "print(square, cubics)"
      ],
      "metadata": {
        "colab": {
          "base_uri": "https://localhost:8080/"
        },
        "id": "6r_YE4ujGPSD",
        "outputId": "5f1aa425-550f-4611-a54b-88f18e5e1239"
      },
      "execution_count": null,
      "outputs": [
        {
          "output_type": "stream",
          "name": "stdout",
          "text": [
            "[2, 4, 6, 8] [1, 3, 5, 7, 9]\n",
            "[4, 16, 36, 64] [1, 27, 125, 343, 729]\n"
          ]
        }
      ]
    },
    {
      "cell_type": "code",
      "source": [],
      "metadata": {
        "id": "Udoz21ZrJ669"
      },
      "execution_count": null,
      "outputs": []
    }
  ]
}