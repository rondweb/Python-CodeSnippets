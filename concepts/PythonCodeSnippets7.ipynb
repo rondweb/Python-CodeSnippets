{
  "nbformat": 4,
  "nbformat_minor": 0,
  "metadata": {
    "colab": {
      "provenance": []
    },
    "kernelspec": {
      "name": "python3",
      "display_name": "Python 3"
    },
    "language_info": {
      "name": "python"
    }
  },
  "cells": [
    {
      "cell_type": "markdown",
      "source": [
        "Make an iterator that returns elements from the first iterable until it is exhausted, then proceeds to the next iterable, until all of the iterables are exhausted. Used for treating consecutive sequences as a single sequence."
      ],
      "metadata": {
        "id": "EkEMfv8qZQC1"
      }
    },
    {
      "cell_type": "code",
      "execution_count": 4,
      "metadata": {
        "colab": {
          "base_uri": "https://localhost:8080/"
        },
        "id": "GYsY0VwdVksk",
        "outputId": "f8266538-d5b9-49fb-8bcc-1f3d14569c57"
      },
      "outputs": [
        {
          "output_type": "stream",
          "name": "stdout",
          "text": [
            "['a', 'b', 'c', 'd', 'e', 'f']\n"
          ]
        }
      ],
      "source": [
        "import itertools\n",
        "\n",
        "a = [['a', 'b'], ['c', 'd'], ['e', 'f']]\n",
        "b = list(itertools.chain.from_iterable(a))\n",
        "print(b)"
      ]
    },
    {
      "cell_type": "markdown",
      "source": [
        "**Manipulating Lists**"
      ],
      "metadata": {
        "id": "0S-zeICRRJx4"
      }
    },
    {
      "cell_type": "markdown",
      "source": [
        "Reverse a list of elements"
      ],
      "metadata": {
        "id": "VA3k6HKpaGhy"
      }
    },
    {
      "cell_type": "code",
      "source": [
        "a=['d','c','b','a']\n",
        "print(a[::-1])"
      ],
      "metadata": {
        "colab": {
          "base_uri": "https://localhost:8080/"
        },
        "id": "GiqX9FL5VsGz",
        "outputId": "8fc21ca1-d350-435d-9e8a-8622fe36562f"
      },
      "execution_count": 5,
      "outputs": [
        {
          "output_type": "stream",
          "name": "stdout",
          "text": [
            "['a', 'b', 'c', 'd']\n"
          ]
        }
      ]
    },
    {
      "cell_type": "code",
      "source": [
        "prime_numbers = [\"a\", \"b\", \"c\", \"d\"]\n",
        "prime_numbers.reverse()\n",
        "print(prime_numbers)"
      ],
      "metadata": {
        "colab": {
          "base_uri": "https://localhost:8080/"
        },
        "id": "Ot3GjglGV2f3",
        "outputId": "32f822bf-0376-4901-d6b5-1492f12e7270"
      },
      "execution_count": 8,
      "outputs": [
        {
          "output_type": "stream",
          "name": "stdout",
          "text": [
            "['d', 'c', 'b', 'a']\n"
          ]
        }
      ]
    },
    {
      "cell_type": "code",
      "source": [
        "a=\"Hello world Python\"\n",
        "print(\"Reverse is\", a[::-1])"
      ],
      "metadata": {
        "colab": {
          "base_uri": "https://localhost:8080/"
        },
        "id": "cY6gAHnWZ34F",
        "outputId": "825ccaff-3d8b-4b34-84da-bf3bcb8fbecc"
      },
      "execution_count": 9,
      "outputs": [
        {
          "output_type": "stream",
          "name": "stdout",
          "text": [
            "Reverse is nohtyP dlrow olleH\n"
          ]
        }
      ]
    },
    {
      "cell_type": "markdown",
      "source": [
        "Merging lists"
      ],
      "metadata": {
        "id": "JUenGPNWaXtT"
      }
    },
    {
      "cell_type": "code",
      "source": [
        "a=[\"a\", \"b\", \"c\", \"d\"]\n",
        "b=[\"e\", \"f\", \"g\", \"h\"]\n",
        "for x, y in zip(a, b):\n",
        "   print(x,y)"
      ],
      "metadata": {
        "colab": {
          "base_uri": "https://localhost:8080/"
        },
        "id": "HakdXoa0aSXd",
        "outputId": "ca67bffd-fb4b-4b4f-fd8b-cffc97144b9d"
      },
      "execution_count": 10,
      "outputs": [
        {
          "output_type": "stream",
          "name": "stdout",
          "text": [
            "a e\n",
            "b f\n",
            "c g\n",
            "d h\n"
          ]
        }
      ]
    },
    {
      "cell_type": "code",
      "source": [
        "a = [1, 2, 3, 4] # list 1\n",
        "b = [5, 6, 7, 8, 9] # list 2\n",
        "a.extend(b)\n",
        "\n",
        "print(a)"
      ],
      "metadata": {
        "colab": {
          "base_uri": "https://localhost:8080/"
        },
        "id": "qsVNqAW5f8wk",
        "outputId": "7039c39b-a8b7-4053-febe-8e13857ce391"
      },
      "execution_count": 2,
      "outputs": [
        {
          "output_type": "stream",
          "name": "stdout",
          "text": [
            "[1, 2, 3, 4, 5, 6, 7, 8, 9]\n"
          ]
        }
      ]
    },
    {
      "cell_type": "code",
      "source": [
        "a = [1, 2, 3, 4] # list 1\n",
        "b = [5, 6, 7, 8, 9] # list 2\n",
        "a.append(b)\n",
        "print(a)"
      ],
      "metadata": {
        "colab": {
          "base_uri": "https://localhost:8080/"
        },
        "id": "SrCiZioXQdw2",
        "outputId": "7022e309-da09-4b83-c49a-daed4af91a62"
      },
      "execution_count": 6,
      "outputs": [
        {
          "output_type": "stream",
          "name": "stdout",
          "text": [
            "[1, 2, 3, 4, [5, 6, 7, 8, 9]]\n"
          ]
        }
      ]
    },
    {
      "cell_type": "markdown",
      "source": [
        "Getting values of a negative index"
      ],
      "metadata": {
        "id": "y5yMx-ceatvp"
      }
    },
    {
      "cell_type": "code",
      "source": [
        "a = [0, 1, 2, 3, 4, 5, 6, 7, 8, 9, 10]\n",
        "a[-3:-1]"
      ],
      "metadata": {
        "colab": {
          "base_uri": "https://localhost:8080/"
        },
        "id": "KdvtNZ5basqx",
        "outputId": "e1753bff-5cf9-4c1b-8db5-de51dbf0ce8a"
      },
      "execution_count": 11,
      "outputs": [
        {
          "output_type": "execute_result",
          "data": {
            "text/plain": [
              "[8, 9]"
            ]
          },
          "metadata": {},
          "execution_count": 11
        }
      ]
    },
    {
      "cell_type": "markdown",
      "source": [
        "Getting the value moda of a list"
      ],
      "metadata": {
        "id": "MUaoii5TcGkl"
      }
    },
    {
      "cell_type": "code",
      "source": [
        "a = [1, 2, 3, 4, 2, 2, 3, 1, 4, 4, 4, 5, 6]\n",
        "print(max(set(a), key = a.count))"
      ],
      "metadata": {
        "colab": {
          "base_uri": "https://localhost:8080/"
        },
        "id": "mdGpL807alfR",
        "outputId": "00ed33f9-694a-44a6-b53f-9f0c13934eae"
      },
      "execution_count": 12,
      "outputs": [
        {
          "output_type": "stream",
          "name": "stdout",
          "text": [
            "4\n"
          ]
        }
      ]
    },
    {
      "cell_type": "markdown",
      "source": [
        "Repeat the value in according of number of times desired"
      ],
      "metadata": {
        "id": "xvYaAZ7xcWJe"
      }
    },
    {
      "cell_type": "code",
      "source": [
        "print(\"Hello \"*2 + \"world \"*3 + \"Python \"*5)"
      ],
      "metadata": {
        "colab": {
          "base_uri": "https://localhost:8080/"
        },
        "id": "AUogL4m5cOk-",
        "outputId": "85504484-8665-48bf-8fa2-ae5c66b1f587"
      },
      "execution_count": 16,
      "outputs": [
        {
          "output_type": "stream",
          "name": "stdout",
          "text": [
            "Hello Hello world world world Python Python Python Python Python \n"
          ]
        }
      ]
    },
    {
      "cell_type": "markdown",
      "source": [
        "Merging a string"
      ],
      "metadata": {
        "id": "fR2rWClEc_5d"
      }
    },
    {
      "cell_type": "code",
      "source": [
        "hello = [\"Hello\",\"world\",\"Python\"]\n",
        "print(\" \".join(hello))"
      ],
      "metadata": {
        "colab": {
          "base_uri": "https://localhost:8080/"
        },
        "id": "CrpoYTX8cvmY",
        "outputId": "40f7b6d3-e852-4570-c949-644afc06520b"
      },
      "execution_count": 17,
      "outputs": [
        {
          "output_type": "stream",
          "name": "stdout",
          "text": [
            "Hello world Python\n"
          ]
        }
      ]
    },
    {
      "cell_type": "markdown",
      "source": [
        "Is it a anagram? paz = zap"
      ],
      "metadata": {
        "id": "kBZvrJIPfn0q"
      }
    },
    {
      "cell_type": "code",
      "source": [
        "from collections import Counter\n",
        "def is_anagram(str1, str2):\n",
        "  return Counter(str1) == Counter(str2)\n",
        "\n",
        "print(is_anagram('paz', 'zap'))\n",
        "print(is_anagram('hello', 'holla'))"
      ],
      "metadata": {
        "colab": {
          "base_uri": "https://localhost:8080/"
        },
        "id": "pRnJxDCadW2O",
        "outputId": "f375fe17-ebc2-471c-87c4-28876c0e9c2e"
      },
      "execution_count": 19,
      "outputs": [
        {
          "output_type": "stream",
          "name": "stdout",
          "text": [
            "True\n",
            "False\n"
          ]
        }
      ]
    }
  ]
}